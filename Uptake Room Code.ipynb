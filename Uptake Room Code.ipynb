{
 "cells": [
  {
   "cell_type": "code",
   "execution_count": 2,
   "id": "7e92ce25",
   "metadata": {},
   "outputs": [],
   "source": [
    "import math\n",
    "\n",
    "def B_uncontrolled_uptake(d,T,N,A,t_u):\n",
    "    '''\n",
    "    param d: distance from patient to PoP (m)\n",
    "    param T: occupancy factor\n",
    "    param N: number of patients per week\n",
    "    param A: initial activity (mCi)\n",
    "    param t_u: uptake time (hr)\n",
    "    '''\n",
    "\n",
    "    B_uncontrolled = (5.89 * d**2) / (T * N * A * t_u * 0.83)\n",
    "    return B_uncontrolled\n",
    "\n",
    "def B_controlled_uptake(d,T,N,A,t_u):\n",
    "    '''\n",
    "    param d: distance from patient to PoP (m)\n",
    "    param T: occupancy factor\n",
    "    param N: number of patients per week\n",
    "    param A: initial activity (mCi)\n",
    "    param t_u: uptake time (hr)\n",
    "    '''\n",
    "\n",
    "    B_controlled = (29.5 * d**2) / (T * N * A * t_u * 0.83)\n",
    "    return B_controlled\n",
    "\n",
    "def convert_to_meters(foot,inches):\n",
    "    m = (foot * 12 * 2.54 + inches * 2.54) * 10e-3\n",
    "    return m\n",
    "\n",
    "patients = 30   "
   ]
  },
  {
   "cell_type": "markdown",
   "id": "d83f5db9",
   "metadata": {},
   "source": [
    "https://www.leadshielding.com/products/lead-sheet?srsltid=AfmBOoolOd4EkQaPowMuO1iVG1OUw-Rc67AS5_KHpedf3p6aHrcXgz2m"
   ]
  },
  {
   "cell_type": "markdown",
   "id": "8550f722",
   "metadata": {},
   "source": [
    "# Office\n",
    "Full Occupancy\n",
    "Uncontrolled"
   ]
  },
  {
   "cell_type": "code",
   "execution_count": 3,
   "id": "3426d634",
   "metadata": {},
   "outputs": [
    {
     "name": "stdout",
     "output_type": "stream",
     "text": [
      "distance to office = 0.6048 m\n"
     ]
    },
    {
     "data": {
      "text/plain": [
       "0.008652458255421687"
      ]
     },
     "execution_count": 3,
     "metadata": {},
     "output_type": "execute_result"
    }
   ],
   "source": [
    "d_office = convert_to_meters(1,0) + 0.3\n",
    "print(f\"distance to office = {d_office} m\")\n",
    "B_uncontrolled_uptake(d_office,1,patients,10,1)"
   ]
  },
  {
   "cell_type": "markdown",
   "id": "5070cc99",
   "metadata": {},
   "source": [
    "From Figure 1 in TG 108, t = 32.5 mm of lead = 1.5\" lead"
   ]
  },
  {
   "cell_type": "markdown",
   "id": "1fdd06df",
   "metadata": {},
   "source": [
    "# Staff Lounge\n",
    "T = 1/5 Uncontrolled"
   ]
  },
  {
   "cell_type": "code",
   "execution_count": 4,
   "id": "86d54763",
   "metadata": {},
   "outputs": [
    {
     "name": "stdout",
     "output_type": "stream",
     "text": [
      "distance to staff lounge = 0.6048 # m\n"
     ]
    },
    {
     "data": {
      "text/plain": [
       "0.043262291277108435"
      ]
     },
     "execution_count": 4,
     "metadata": {},
     "output_type": "execute_result"
    }
   ],
   "source": [
    "d_staff = convert_to_meters(1,0) + 0.3\n",
    "print(f\"distance to staff lounge = {d_staff} # m\")\n",
    "B_uncontrolled_uptake(d_staff, 1/5, patients, 10, 1)"
   ]
  },
  {
   "cell_type": "markdown",
   "id": "01dd2e2f",
   "metadata": {},
   "source": [
    "t = 22 m of lead = 1\" lead"
   ]
  },
  {
   "cell_type": "markdown",
   "id": "ac6f4f29",
   "metadata": {},
   "source": [
    "# Hot Lab\n",
    "T = 1/4\n",
    "Controlled room"
   ]
  },
  {
   "cell_type": "code",
   "execution_count": 28,
   "id": "da93b94a",
   "metadata": {},
   "outputs": [
    {
     "name": "stdout",
     "output_type": "stream",
     "text": [
      "distance to hotlab = 0.6048 m\n"
     ]
    },
    {
     "data": {
      "text/plain": [
       "0.08667148337349398"
      ]
     },
     "execution_count": 28,
     "metadata": {},
     "output_type": "execute_result"
    }
   ],
   "source": [
    "d_hotlab = convert_to_meters(1,0) + 0.3\n",
    "print(f\"distance to hotlab = {d_hotlab} m\")\n",
    "\n",
    "B_controlled_uptake(d_hotlab,1/2,patients,10,1)"
   ]
  },
  {
   "cell_type": "markdown",
   "id": "6a99f2cb",
   "metadata": {},
   "source": [
    "From Table IV, t = 18 mm of lead = 3/4\" lead"
   ]
  },
  {
   "cell_type": "markdown",
   "id": "717f34c0",
   "metadata": {},
   "source": [
    "# Controlled Corridor\n",
    "T = 1/5"
   ]
  },
  {
   "cell_type": "code",
   "execution_count": 6,
   "id": "10584db3",
   "metadata": {},
   "outputs": [
    {
     "name": "stdout",
     "output_type": "stream",
     "text": [
      "distance to controlled corridor = 2.0145 m\n"
     ]
    },
    {
     "data": {
      "text/plain": [
       "2.403959887048193"
      ]
     },
     "execution_count": 6,
     "metadata": {},
     "output_type": "execute_result"
    }
   ],
   "source": [
    "d_controlled_corridor = convert_to_meters(5,7.5) + 0.3 # m\n",
    "print(f\"distance to controlled corridor = {d_controlled_corridor} m\")\n",
    "\n",
    "B_controlled_uptake(d_controlled_corridor,1/5,patients,10,1)"
   ]
  },
  {
   "cell_type": "markdown",
   "id": "2a554403",
   "metadata": {},
   "source": [
    "No thickness required but we will use 1/4\" in case the patient moves closer to the wall at any point"
   ]
  },
  {
   "cell_type": "markdown",
   "id": "f8b4db36",
   "metadata": {},
   "source": [
    "# Uncontrolled Corridor\n",
    "T = 1/5"
   ]
  },
  {
   "cell_type": "code",
   "execution_count": 7,
   "id": "58e98200",
   "metadata": {},
   "outputs": [
    {
     "name": "stdout",
     "output_type": "stream",
     "text": [
      "distance to uncontrolled corridor = 0.6048 m\n"
     ]
    },
    {
     "data": {
      "text/plain": [
       "0.043262291277108435"
      ]
     },
     "execution_count": 7,
     "metadata": {},
     "output_type": "execute_result"
    }
   ],
   "source": [
    "d_uncontrolled_corridor = convert_to_meters(1,0) + 0.3 # m\n",
    "print(f\"distance to uncontrolled corridor = {d_uncontrolled_corridor} m\")\n",
    "\n",
    "B_uncontrolled_uptake(d_uncontrolled_corridor,1/5,patients,10,1)\n"
   ]
  },
  {
   "cell_type": "markdown",
   "id": "eb47ba12",
   "metadata": {},
   "source": [
    "From Figure 1, t = 22 m of lead = 1\" of lead\n"
   ]
  },
  {
   "cell_type": "markdown",
   "id": "e67265cd",
   "metadata": {},
   "source": [
    "# Adjacent Uptake Room\n",
    "Controlled\n",
    "T = 1/2"
   ]
  },
  {
   "cell_type": "code",
   "execution_count": 8,
   "id": "f1c776e3",
   "metadata": {},
   "outputs": [
    {
     "name": "stdout",
     "output_type": "stream",
     "text": [
      "distance to adjacent uptake room = 1.443\n"
     ]
    },
    {
     "data": {
      "text/plain": [
       "0.4933843012048193"
      ]
     },
     "execution_count": 8,
     "metadata": {},
     "output_type": "execute_result"
    }
   ],
   "source": [
    "d_adjacent_uptake = convert_to_meters(3,9) + 0.3 # m\n",
    "print(f\"distance to adjacent uptake room = {d_adjacent_uptake}\")\n",
    "\n",
    "B_controlled_uptake(d_adjacent_uptake,1/2,patients,10,1)"
   ]
  },
  {
   "cell_type": "markdown",
   "id": "e8592172",
   "metadata": {},
   "source": [
    "From Figure 1, use t = 6mm of lead"
   ]
  },
  {
   "cell_type": "markdown",
   "id": "ac6e241a",
   "metadata": {},
   "source": [
    "# Ceiling for both uptake rooms\n",
    "Uncontrolled\n",
    "T = 1"
   ]
  },
  {
   "cell_type": "code",
   "execution_count": 9,
   "id": "9bb286fe",
   "metadata": {},
   "outputs": [
    {
     "name": "stdout",
     "output_type": "stream",
     "text": [
      "distance to floor above = 3.047999984 m\n"
     ]
    },
    {
     "data": {
      "text/plain": [
       "0.21975859431932915"
      ]
     },
     "execution_count": 9,
     "metadata": {},
     "output_type": "execute_result"
    }
   ],
   "source": [
    "d_ceiling = convert_to_meters(8,4.31496) + 0.5 # m\n",
    "print(f\"distance to floor above = {d_ceiling} m\")\n",
    "B_uncontrolled_uptake(d_ceiling,1,patients,10,1)"
   ]
  },
  {
   "cell_type": "markdown",
   "id": "0254413a",
   "metadata": {},
   "source": [
    "From Table IV, t = 14 cm of concrete"
   ]
  },
  {
   "cell_type": "code",
   "execution_count": 10,
   "id": "36d8b130",
   "metadata": {},
   "outputs": [
    {
     "name": "stdout",
     "output_type": "stream",
     "text": [
      "7.045532351934269 inches of lightweight concrete required\n"
     ]
    }
   ],
   "source": [
    "t_lightweight_ceiling = (14 * 147/115) / 2.54\n",
    "print(f\"{t_lightweight_ceiling} inches of lightweight concrete required\")\n"
   ]
  },
  {
   "cell_type": "code",
   "execution_count": 11,
   "id": "54a9d956",
   "metadata": {},
   "outputs": [
    {
     "name": "stdout",
     "output_type": "stream",
     "text": [
      "R_t_i: 0.925225655037042\n",
      "K_sec_RTP_scans = 57.266 mGy/wk\n",
      "K_sec_total = 91.76599999999999 mGy/wk\n"
     ]
    }
   ],
   "source": [
    "t_imaging = 25 # minutes\n",
    "\n",
    "R_t_i = 1.443 * (110/t_imaging) * (1-math.exp(-0.693*t_imaging/110))\n",
    "print(f\"R_t_i: {R_t_i}\")\n",
    "\n",
    "F_u = 0.68 # decay factor for F-18 at 1 hour uptake time\n",
    "\n",
    "def B_uncontrolled_PET(d,T,N,A):\n",
    "    '''\n",
    "    param d: distance from source to PoP (m)\n",
    "    param T: occupancy factor\n",
    "    N: number of patients/wk\n",
    "    A: activity in MBq\n",
    "    '''\n",
    "    B = 256 * d**2 / (T * N * A * F_u * (t_imaging/60) * R_t_i)\n",
    "    return B\n",
    "\n",
    "def B_controlled_PET(d,T,N,A):\n",
    "    B = 1280 * d**2 / (T * N * A * F_u * (t_imaging/60) * R_t_i)\n",
    "    return B\n",
    "\n",
    "activity_mbq = 370 # MBq\n",
    "\n",
    "K_sec_head = 9e-5 * (20/0.9) * (20.8*380/100)\n",
    "K_sec_body_1 = 3e-4 * (20/0.9) * (13.8*380/100)\n",
    "K_sec_body_2 = 3e-4 * (50/1.2) * (13.8*380/100)\n",
    "\n",
    "\n",
    "# RTP CT \n",
    "K_sec_RTP_scans = K_sec_head * 25 + K_sec_body_1 * 40 + K_sec_body_2 * 60\n",
    "print(f\"K_sec_RTP_scans = {K_sec_RTP_scans} mGy/wk\")\n",
    "\n",
    "# CT concurrent with PET\n",
    "K_sec_transsmission_body = 3e-4 * (100/1.2) * (13.8*200/100) * 50\n",
    "\n",
    "K_sec_total = K_sec_transsmission_body + K_sec_RTP_scans\n",
    "print(f\"K_sec_total = {K_sec_total} mGy/wk\")\n",
    "\n"
   ]
  },
  {
   "cell_type": "code",
   "execution_count": 12,
   "id": "77407642",
   "metadata": {},
   "outputs": [],
   "source": [
    "def find_thickness(B):\n",
    "    thickness = (1/(2.246*0.547)) * math.log((B**-0.547 + 5.73/0.547) / (1 + 5.73/0.547))\n",
    "    return thickness\n",
    "\n",
    "def B_CT(P,T, K_sec,d):\n",
    "    B = (P/T) / (K_sec/d**2)\n",
    "    return B\n",
    "\n",
    "def find_thickness_concrete(B):\n",
    "    thickness = (1/(0.0383*0.658)) * math.log((B**-0.658 + 0.0142/0.658) / (1 + 0.0142/0.658))\n",
    "    return thickness"
   ]
  },
  {
   "cell_type": "markdown",
   "id": "0f98c26c",
   "metadata": {},
   "source": [
    "# PET WC Wall"
   ]
  },
  {
   "cell_type": "code",
   "execution_count": 13,
   "id": "f746fcff",
   "metadata": {},
   "outputs": [
    {
     "name": "stdout",
     "output_type": "stream",
     "text": [
      "d_pet_wc_wall = 4.904187642 m\n",
      "211.59519738697628\n"
     ]
    }
   ],
   "source": [
    "d_pet_wc_wall = convert_to_meters(15,1.26723) + 0.3 # m\n",
    "print(f\"d_pet_wc_wall = {d_pet_wc_wall} m\")\n",
    "pet_wc_B = B_controlled_PET(d_pet_wc_wall, 1/20, patients, activity_mbq)\n",
    "print(pet_wc_B)"
   ]
  },
  {
   "cell_type": "markdown",
   "id": "8d46660e",
   "metadata": {},
   "source": [
    "# CT WC Wall"
   ]
  },
  {
   "cell_type": "code",
   "execution_count": 14,
   "id": "1e4e9ac8",
   "metadata": {},
   "outputs": [
    {
     "name": "stdout",
     "output_type": "stream",
     "text": [
      "91.76599999999999\n",
      "0.5241822990638259\n",
      "0.02951759714869584 mm of lead\n"
     ]
    }
   ],
   "source": [
    "print(K_sec_total)\n",
    "test = B_CT(0.1,1/20,K_sec_total,d_pet_wc_wall)\n",
    "print(test)\n",
    "\n",
    "print(f\"{find_thickness(test)} mm of lead\")"
   ]
  },
  {
   "cell_type": "markdown",
   "id": "ce277766",
   "metadata": {},
   "source": [
    "# Controlled Corridor from PET"
   ]
  },
  {
   "cell_type": "code",
   "execution_count": 15,
   "id": "4ba0fd91",
   "metadata": {},
   "outputs": [
    {
     "name": "stdout",
     "output_type": "stream",
     "text": [
      "4.925378516\n",
      "53.356935829058585\n"
     ]
    }
   ],
   "source": [
    "d_pet_controlled_corridor = convert_to_meters(16,1.91254) # m\n",
    "print(d_pet_controlled_corridor)\n",
    "pet_cc_B = B_controlled_PET(d_pet_controlled_corridor,1/5,patients,activity_mbq)\n",
    "print(pet_cc_B)"
   ]
  },
  {
   "cell_type": "markdown",
   "id": "db78f61d",
   "metadata": {},
   "source": [
    "# CT Controlled Corridor"
   ]
  },
  {
   "cell_type": "code",
   "execution_count": 16,
   "id": "a02a991c",
   "metadata": {},
   "outputs": [
    {
     "name": "stdout",
     "output_type": "stream",
     "text": [
      "91.76599999999999\n",
      "0.1321805108965977\n",
      "0.13227879739647863 mm of lead\n"
     ]
    }
   ],
   "source": [
    "print(K_sec_total)\n",
    "B_CT_controlled_corr = B_CT(0.1,1/5,K_sec_total,d_pet_controlled_corridor)\n",
    "print(B_CT_controlled_corr)\n",
    "\n",
    "print(f\"{find_thickness(B_CT_controlled_corr)} mm of lead\")"
   ]
  },
  {
   "cell_type": "markdown",
   "id": "e7098a21",
   "metadata": {},
   "source": [
    "# PET Utility Room "
   ]
  },
  {
   "cell_type": "code",
   "execution_count": 17,
   "id": "8ec6d133",
   "metadata": {},
   "outputs": [
    {
     "name": "stdout",
     "output_type": "stream",
     "text": [
      "2.525849498\n",
      "22.45156295818417\n"
     ]
    }
   ],
   "source": [
    "d_utilities = convert_to_meters(7,3.63187) + 0.3 # m\n",
    "print(d_utilities)\n",
    "\n",
    "B_PET_util = B_uncontrolled_PET(d_utilities,1/40,patients,activity_mbq)\n",
    "print(B_PET_util)"
   ]
  },
  {
   "cell_type": "markdown",
   "id": "495ef3ee",
   "metadata": {},
   "source": [
    "# CT Utility Room"
   ]
  },
  {
   "cell_type": "code",
   "execution_count": 29,
   "id": "1b9d7499",
   "metadata": {},
   "outputs": [
    {
     "name": "stdout",
     "output_type": "stream",
     "text": [
      "91.76599999999999\n",
      "0.05561899340973216\n",
      "0.23585347711646804 mm of lead\n"
     ]
    }
   ],
   "source": [
    "print(K_sec_total)\n",
    "B_CT_utility_room = B_CT(0.02,1/40,K_sec_total,d_utilities)\n",
    "print(B_CT_utility_room)\n",
    "\n",
    "print(f\"{find_thickness(B_CT_utility_room)} mm of lead\")"
   ]
  },
  {
   "cell_type": "markdown",
   "id": "c7db0640",
   "metadata": {},
   "source": [
    "# PET Control Room"
   ]
  },
  {
   "cell_type": "code",
   "execution_count": 19,
   "id": "8b5fca9c",
   "metadata": {},
   "outputs": [
    {
     "name": "stdout",
     "output_type": "stream",
     "text": [
      "4.925378516\n",
      "24.21942471355457\n"
     ]
    }
   ],
   "source": [
    "d_pet_control_room = convert_to_meters(23,4.31979) + 0.3 # m\n",
    "print(d_pet_controlled_corridor)\n",
    "\n",
    "pet_control_room_B = B_controlled_PET(d_pet_control_room,1,patients,activity_mbq)\n",
    "print(pet_control_room_B)"
   ]
  },
  {
   "cell_type": "code",
   "execution_count": 20,
   "id": "e129b850",
   "metadata": {},
   "outputs": [
    {
     "name": "stdout",
     "output_type": "stream",
     "text": [
      "91.76599999999999\n",
      "0.05999849658750186\n",
      "0.22531390339935833 mm of lead\n"
     ]
    }
   ],
   "source": [
    "print(K_sec_total)\n",
    "B_CT_control_room = B_CT(0.1,1,K_sec_total,d_pet_control_room)\n",
    "print(B_CT_control_room)\n",
    "\n",
    "print(f\"{find_thickness(B_CT_control_room)} mm of lead\")"
   ]
  },
  {
   "cell_type": "markdown",
   "id": "3ff672ec",
   "metadata": {},
   "source": [
    "# Ambulance Area"
   ]
  },
  {
   "cell_type": "code",
   "execution_count": 21,
   "id": "04870fc4",
   "metadata": {},
   "outputs": [
    {
     "name": "stdout",
     "output_type": "stream",
     "text": [
      "1.574577334\n",
      "8.724883391114826\n"
     ]
    }
   ],
   "source": [
    "d_ambulance = convert_to_meters(4,2.18021) + 0.3 # m\n",
    "print(d_ambulance)\n",
    "\n",
    "B_PET_ambulance = B_uncontrolled_PET(d_ambulance,1/40,patients,activity_mbq)\n",
    "print(B_PET_ambulance)"
   ]
  },
  {
   "cell_type": "code",
   "execution_count": 22,
   "id": "f0404fc2",
   "metadata": {},
   "outputs": [
    {
     "name": "stdout",
     "output_type": "stream",
     "text": [
      "91.76599999999999\n",
      "0.021614051223734696\n",
      "0.39400787253688596 mm of lead\n"
     ]
    }
   ],
   "source": [
    "print(K_sec_total)\n",
    "B_CT_ambulance = B_CT(0.02,1/40,K_sec_total,d_ambulance)\n",
    "print(B_CT_ambulance)\n",
    "\n",
    "print(f\"{find_thickness(B_CT_ambulance)} mm of lead\")"
   ]
  },
  {
   "cell_type": "markdown",
   "id": "d1a54518",
   "metadata": {},
   "source": [
    "# PET/CT Ceiling"
   ]
  },
  {
   "cell_type": "code",
   "execution_count": 23,
   "id": "3af20211",
   "metadata": {},
   "outputs": [
    {
     "name": "stdout",
     "output_type": "stream",
     "text": [
      "d_ceiling = 2.7606 m\n",
      "0.6704688668932592\n"
     ]
    }
   ],
   "source": [
    "d_ceiling = convert_to_meters(6,17) + 0.5 # m\n",
    "print(f\"d_ceiling = {d_ceiling} m\")\n",
    "\n",
    "B_PET_ceiling = B_uncontrolled_PET(d_ceiling,1,patients,activity_mbq)\n",
    "print(B_PET_ceiling)"
   ]
  },
  {
   "cell_type": "markdown",
   "id": "b58d9fc8",
   "metadata": {},
   "source": [
    "8 cm of standard concrete required"
   ]
  },
  {
   "cell_type": "code",
   "execution_count": 24,
   "id": "e2c3a666",
   "metadata": {},
   "outputs": [
    {
     "name": "stdout",
     "output_type": "stream",
     "text": [
      "3.019513865114687 inches of lightweight concrete required\n"
     ]
    }
   ],
   "source": [
    "t_lightweight_ceiling_PET = (6 * 147/115) / 2.54\n",
    "print(f\"{t_lightweight_ceiling_PET} inches of lightweight concrete required\")\n"
   ]
  },
  {
   "cell_type": "code",
   "execution_count": 25,
   "id": "4bd24361",
   "metadata": {},
   "outputs": [
    {
     "name": "stdout",
     "output_type": "stream",
     "text": [
      "91.76599999999999\n",
      "0.0016609446548830726\n"
     ]
    }
   ],
   "source": [
    "print(K_sec_total)\n",
    "B_CT_ceiling = B_CT(0.02,1,K_sec_total,d_ceiling)\n",
    "print(B_CT_ceiling)"
   ]
  },
  {
   "cell_type": "markdown",
   "id": "a304f8e1",
   "metadata": {},
   "source": [
    "We use Figure A.3 so 155 mm of standard concrete is required which is 7.8\" of lightweight concrete -> NO SHIELDING REQUIRED"
   ]
  },
  {
   "cell_type": "markdown",
   "id": "0090468d",
   "metadata": {},
   "source": [
    "# Testing Door of PET control console if it doesn't pass through any shielding"
   ]
  },
  {
   "cell_type": "code",
   "execution_count": 26,
   "id": "c2573791",
   "metadata": {},
   "outputs": [
    {
     "name": "stdout",
     "output_type": "stream",
     "text": [
      "9.59832853\n",
      "202.6295963367611\n"
     ]
    }
   ],
   "source": [
    "testvalue = convert_to_meters(31,5.88695)\n",
    "print(testvalue)\n",
    "\n",
    "testvalue2 = B_controlled_PET(testvalue,1/5,patients,activity_mbq)\n",
    "print(testvalue2)"
   ]
  },
  {
   "cell_type": "code",
   "execution_count": 27,
   "id": "3e168477",
   "metadata": {},
   "outputs": [
    {
     "name": "stdout",
     "output_type": "stream",
     "text": [
      "91.76599999999999\n",
      "0.5019719208084256\n"
     ]
    }
   ],
   "source": [
    "print(K_sec_total)\n",
    "testvalue3 = B_CT(0.1,1/5,K_sec_total,testvalue)\n",
    "print(testvalue3)"
   ]
  },
  {
   "cell_type": "markdown",
   "id": "e73cb7d6",
   "metadata": {},
   "source": [
    "If we use T=1/5, we need shielding, if we use T=1/8, we still need shielding"
   ]
  },
  {
   "cell_type": "markdown",
   "id": "9d2fab32",
   "metadata": {},
   "source": [
    "Whole control console needs shielding"
   ]
  }
 ],
 "metadata": {
  "kernelspec": {
   "display_name": "Python 3",
   "language": "python",
   "name": "python3"
  },
  "language_info": {
   "codemirror_mode": {
    "name": "ipython",
    "version": 3
   },
   "file_extension": ".py",
   "mimetype": "text/x-python",
   "name": "python",
   "nbconvert_exporter": "python",
   "pygments_lexer": "ipython3",
   "version": "3.12.10"
  }
 },
 "nbformat": 4,
 "nbformat_minor": 5
}
