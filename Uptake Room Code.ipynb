{
 "cells": [
  {
   "cell_type": "code",
   "execution_count": 3,
   "id": "7e92ce25",
   "metadata": {},
   "outputs": [],
   "source": [
    "import math\n",
    "\n",
    "def B_uncontrolled_uptake(d,T,N,A,t_u):\n",
    "    '''\n",
    "    param d: distance from patient to PoP (m)\n",
    "    param T: occupancy factor\n",
    "    param N: number of patients per week\n",
    "    param A: initial activity (mCi)\n",
    "    param t_u: uptake time (hr)\n",
    "    '''\n",
    "\n",
    "    B_uncontrolled = (5.89 * d**2) / (T * N * A * t_u * 0.83)\n",
    "    return B_uncontrolled\n",
    "\n",
    "def B_controlled_uptake(d,T,N,A,t_u):\n",
    "    '''\n",
    "    param d: distance from patient to PoP (m)\n",
    "    param T: occupancy factor\n",
    "    param N: number of patients per week\n",
    "    param A: initial activity (mCi)\n",
    "    param t_u: uptake time (hr)\n",
    "    '''\n",
    "\n",
    "    B_controlled = (29.5 * d**2) / (T * N * A * t_u * 0.83)\n",
    "    return B_controlled\n",
    "\n",
    "def convert_to_meters(foot,inches):\n",
    "    m = (foot * 12 * 2.54 + inches * 2.54) * 10e-3\n",
    "    return m"
   ]
  },
  {
   "cell_type": "markdown",
   "id": "8550f722",
   "metadata": {},
   "source": [
    "# Staff break and Office\n",
    "Full Occupancy\n",
    "Uncontrolled"
   ]
  },
  {
   "cell_type": "code",
   "execution_count": 12,
   "id": "3426d634",
   "metadata": {},
   "outputs": [
    {
     "name": "stdout",
     "output_type": "stream",
     "text": [
      "distance to office = 0.6048 m\n"
     ]
    },
    {
     "data": {
      "text/plain": [
       "0.0037081963951807228"
      ]
     },
     "execution_count": 12,
     "metadata": {},
     "output_type": "execute_result"
    }
   ],
   "source": [
    "d_office = convert_to_meters(1,0) + 0.3\n",
    "print(f\"distance to office = {d_office} m\")\n",
    "B_uncontrolled_uptake(d_office,1,70,10,1)"
   ]
  },
  {
   "cell_type": "markdown",
   "id": "5070cc99",
   "metadata": {},
   "source": [
    "From Figure 1 in TG 108, t = 37.5 mm of lead"
   ]
  },
  {
   "cell_type": "markdown",
   "id": "ac6f4f29",
   "metadata": {},
   "source": [
    "# Hot Lab\n",
    "T = 1/4\n",
    "Controlled room"
   ]
  },
  {
   "cell_type": "code",
   "execution_count": 13,
   "id": "da93b94a",
   "metadata": {},
   "outputs": [
    {
     "name": "stdout",
     "output_type": "stream",
     "text": [
      "distance to hotlab = 0.6048 m\n"
     ]
    },
    {
     "data": {
      "text/plain": [
       "0.07428984289156626"
      ]
     },
     "execution_count": 13,
     "metadata": {},
     "output_type": "execute_result"
    }
   ],
   "source": [
    "d_hotlab = convert_to_meters(1,0) + 0.3\n",
    "print(f\"distance to hotlab = {d_hotlab} m\")\n",
    "\n",
    "B_controlled_uptake(d_hotlab,1/4,70,10,1)"
   ]
  },
  {
   "cell_type": "markdown",
   "id": "6a99f2cb",
   "metadata": {},
   "source": [
    "From Table IV, t = 18 mm of lead"
   ]
  },
  {
   "cell_type": "markdown",
   "id": "717f34c0",
   "metadata": {},
   "source": [
    "# Controlled Corridor\n",
    "T = 1/5"
   ]
  },
  {
   "cell_type": "code",
   "execution_count": 14,
   "id": "10584db3",
   "metadata": {},
   "outputs": [
    {
     "name": "stdout",
     "output_type": "stream",
     "text": [
      "distance to controlled corridor = 2.0145 m\n"
     ]
    },
    {
     "data": {
      "text/plain": [
       "1.030268523020654"
      ]
     },
     "execution_count": 14,
     "metadata": {},
     "output_type": "execute_result"
    }
   ],
   "source": [
    "d_controlled_corridor = convert_to_meters(5,7.5) + 0.3 # m\n",
    "print(f\"distance to controlled corridor = {d_controlled_corridor} m\")\n",
    "\n",
    "B_controlled_uptake(d_controlled_corridor,1/5,70,10,1)"
   ]
  },
  {
   "cell_type": "markdown",
   "id": "2a554403",
   "metadata": {},
   "source": [
    "No thickness required but we will use 1/32\" in case the patient moves closer to the wall at any point"
   ]
  },
  {
   "cell_type": "markdown",
   "id": "f8b4db36",
   "metadata": {},
   "source": [
    "# Uncontrolled Corridor\n",
    "T = 1/5"
   ]
  },
  {
   "cell_type": "code",
   "execution_count": 15,
   "id": "58e98200",
   "metadata": {},
   "outputs": [
    {
     "name": "stdout",
     "output_type": "stream",
     "text": [
      "distance to uncontrolled corridor = 0.6048 # m\n"
     ]
    },
    {
     "data": {
      "text/plain": [
       "0.018540981975903616"
      ]
     },
     "execution_count": 15,
     "metadata": {},
     "output_type": "execute_result"
    }
   ],
   "source": [
    "d_uncontrolled_corridor = convert_to_meters(1,0) + 0.3 # m\n",
    "print(f\"distance to uncontrolled corridor = {d_uncontrolled_corridor} # m\")\n",
    "\n",
    "B_uncontrolled_uptake(d_uncontrolled_corridor,1/5,70,10,1)\n"
   ]
  },
  {
   "cell_type": "markdown",
   "id": "eb47ba12",
   "metadata": {},
   "source": [
    "From Figure 1, t = 27 mm of lead"
   ]
  },
  {
   "cell_type": "markdown",
   "id": "e67265cd",
   "metadata": {},
   "source": [
    "# Adjacent Uptake Room\n",
    "Controlled\n",
    "T = 1/2"
   ]
  },
  {
   "cell_type": "code",
   "execution_count": 16,
   "id": "f1c776e3",
   "metadata": {},
   "outputs": [
    {
     "name": "stdout",
     "output_type": "stream",
     "text": [
      "distance to adjacent uptake room = 1.443\n"
     ]
    },
    {
     "data": {
      "text/plain": [
       "0.21145041480206542"
      ]
     },
     "execution_count": 16,
     "metadata": {},
     "output_type": "execute_result"
    }
   ],
   "source": [
    "d_adjacent_uptake = convert_to_meters(3,9) + 0.3 # m\n",
    "print(f\"distance to adjacent uptake room = {d_adjacent_uptake}\")\n",
    "\n",
    "B_controlled_uptake(d_adjacent_uptake,1/2,70,10,1)"
   ]
  },
  {
   "cell_type": "markdown",
   "id": "e8592172",
   "metadata": {},
   "source": [
    "From Figure 1, use t= 12 mm of lead"
   ]
  },
  {
   "cell_type": "markdown",
   "id": "ac6e241a",
   "metadata": {},
   "source": [
    "# Ceiling for both uptake rooms\n",
    "Uncontrolled\n",
    "T = 1"
   ]
  },
  {
   "cell_type": "code",
   "execution_count": 17,
   "id": "9bb286fe",
   "metadata": {},
   "outputs": [
    {
     "name": "stdout",
     "output_type": "stream",
     "text": [
      "distance to floor above = 3.047999984 m\n"
     ]
    },
    {
     "data": {
      "text/plain": [
       "0.09418225470828392"
      ]
     },
     "execution_count": 17,
     "metadata": {},
     "output_type": "execute_result"
    }
   ],
   "source": [
    "d_ceiling = convert_to_meters(8,4.31496) + 0.5 # m\n",
    "print(f\"distance to floor above = {d_ceiling} m\")\n",
    "B_uncontrolled_uptake(d_ceiling,1,70,10,1)"
   ]
  },
  {
   "cell_type": "markdown",
   "id": "0254413a",
   "metadata": {},
   "source": [
    "From Table IV, We went to B = 0.0904 and wiill use 20 cm of concrete. Convert this to lightweight"
   ]
  },
  {
   "cell_type": "code",
   "execution_count": 20,
   "id": "36d8b130",
   "metadata": {},
   "outputs": [
    {
     "name": "stdout",
     "output_type": "stream",
     "text": [
      "10.065046217048955 inches of lightweight concrete required\n"
     ]
    }
   ],
   "source": [
    "t_lightweight_ceiling = (20 * 147/115) / 2.54\n",
    "print(f\"{t_lightweight_ceiling} inches of lightweight concrete required\")\n"
   ]
  }
 ],
 "metadata": {
  "kernelspec": {
   "display_name": "Python 3",
   "language": "python",
   "name": "python3"
  },
  "language_info": {
   "codemirror_mode": {
    "name": "ipython",
    "version": 3
   },
   "file_extension": ".py",
   "mimetype": "text/x-python",
   "name": "python",
   "nbconvert_exporter": "python",
   "pygments_lexer": "ipython3",
   "version": "3.13.0"
  }
 },
 "nbformat": 4,
 "nbformat_minor": 5
}
