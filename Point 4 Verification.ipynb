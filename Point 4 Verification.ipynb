{
 "cells": [
  {
   "cell_type": "code",
   "execution_count": 17,
   "id": "3497bcca",
   "metadata": {},
   "outputs": [
    {
     "name": "stdout",
     "output_type": "stream",
     "text": [
      "R_t_i: 0.925225655037042\n"
     ]
    }
   ],
   "source": [
    "import math\n",
    "\n",
    "t_imaging = 25 # minutes\n",
    "\n",
    "R_t_i = 1.443 * (110/t_imaging) * (1-math.exp(-0.693*t_imaging/110))\n",
    "print(f\"R_t_i: {R_t_i}\")\n",
    "\n",
    "def PET_uptake_dose(patients,activity,distance):\n",
    "\n",
    "    dose = 0.092 * patients * activity * 1 * 0.83/distance**2\n",
    "    return dose # uSv/wk\n",
    "\n",
    "def PET_imaging_dose(patients,activity,distance):\n",
    "\n",
    "    dose = 0.092 * patients * activity * 0.85 * 0.68 * 0.41666666666 * R_t_i/distance**2\n",
    "    return dose # uSv/wk\n",
    "\n",
    "def convert_to_meters(foot,inches):\n",
    "    m = (foot * 12 * 2.54 + inches * 2.54) * 10e-3\n",
    "    return m\n",
    "\n",
    "patients = 30\n",
    "a = 370 # Mbq\n",
    "\n",
    "def find_Ksec(d):\n",
    "    K_sec = (91.76599999999999/d**2) * 1e3 # converts to uGy/wk\n",
    "    return K_sec # uGy/wk"
   ]
  },
  {
   "cell_type": "code",
   "execution_count": 5,
   "id": "c319de12",
   "metadata": {},
   "outputs": [
    {
     "name": "stdout",
     "output_type": "stream",
     "text": [
      "d_uptake_pt4: 3.2921641040000003 m\n",
      "This distance is the same for both uptake rooms\n",
      "d_pet_pt4: 8.279673052000001 m\n",
      "This distance is the same for both PET and CT contribution from the imaging room\n"
     ]
    }
   ],
   "source": [
    "d_uptake_pt4  = convert_to_meters(10,9.61276)\n",
    "print(f\"d_uptake_pt4: {d_uptake_pt4} m\")\n",
    "print(\"This distance is the same for both uptake rooms\")\n",
    "\n",
    "d_pet_pt4 = convert_to_meters(27,1.97138)\n",
    "print(f\"d_pet_pt4: {d_pet_pt4} m\")\n",
    "print(\"This distance is the same for both PET and CT contribution from the imaging room\")"
   ]
  },
  {
   "cell_type": "code",
   "execution_count": 21,
   "id": "97899177",
   "metadata": {},
   "outputs": [
    {
     "name": "stdout",
     "output_type": "stream",
     "text": [
      "Dose from one uptake room: 78.20345634562102 uSv/wk\n",
      "K_sec: 37.481197473974056 uSv/wk\n",
      "Dose due to PET from the imaging room: 3.319316723490361 uSv/wk\n"
     ]
    }
   ],
   "source": [
    "PET_uptake = PET_uptake_dose(patients,a,d_uptake_pt4)\n",
    "print(f\"Dose from one uptake room: {PET_uptake} uSv/wk\")\n",
    "\n",
    "K_sec = find_Ksec(d_pet_pt4)\n",
    "print(f\"K_sec: {K_sec * 2.8e-2} uSv/wk\") # 2.8e-3 transmission factor for 1/32\" Pb\n",
    "\n",
    "PET_imaging = PET_imaging_dose(patients,a,d_pet_pt4)\n",
    "print(f\"Dose due to PET from the imaging room: {PET_imaging} uSv/wk\")"
   ]
  }
 ],
 "metadata": {
  "kernelspec": {
   "display_name": "Python 3",
   "language": "python",
   "name": "python3"
  },
  "language_info": {
   "codemirror_mode": {
    "name": "ipython",
    "version": 3
   },
   "file_extension": ".py",
   "mimetype": "text/x-python",
   "name": "python",
   "nbconvert_exporter": "python",
   "pygments_lexer": "ipython3",
   "version": "3.12.10"
  }
 },
 "nbformat": 4,
 "nbformat_minor": 5
}
