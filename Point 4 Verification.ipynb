{
 "cells": [
  {
   "cell_type": "code",
   "execution_count": 2,
   "id": "3497bcca",
   "metadata": {},
   "outputs": [
    {
     "name": "stdout",
     "output_type": "stream",
     "text": [
      "R_t_i: 0.925225655037042\n"
     ]
    }
   ],
   "source": [
    "import math\n",
    "\n",
    "t_imaging = 25 # minutes\n",
    "\n",
    "R_t_i = 1.443 * (110/t_imaging) * (1-math.exp(-0.693*t_imaging/110))\n",
    "print(f\"R_t_i: {R_t_i}\")\n",
    "\n",
    "def PET_uptake_dose(patients,activity,distance):\n",
    "\n",
    "    dose = 0.092 * patients * activity * 1 * 0.83/distance**2\n",
    "    return dose # uSv/wk\n",
    "\n",
    "def PET_imaging_dose(patients,activity,distance):\n",
    "\n",
    "    dose = 0.092 * patients * activity * 0.85 * 0.68 * 0.41666666666 * R_t_i/distance**2\n",
    "    return dose # uSv/wk\n",
    "\n",
    "def convert_to_meters(foot,inches):\n",
    "    m = (foot * 12 * 2.54 + inches * 2.54) * 10e-3\n",
    "    return m\n",
    "\n",
    "patients = 30\n",
    "a = 370 # Mbq\n",
    "\n",
    "def find_Ksec(d):\n",
    "    K_sec = (91.76599999999999/d**2) * 1e3 # converts to uGy/wk\n",
    "    return K_sec # uGy/wk"
   ]
  },
  {
   "cell_type": "code",
   "execution_count": 3,
   "id": "c319de12",
   "metadata": {},
   "outputs": [
    {
     "name": "stdout",
     "output_type": "stream",
     "text": [
      "d_uptake_pt4: 3.2921641040000003 m\n",
      "This distance is the same for both uptake rooms\n",
      "--------------------------------------------------------\n",
      "d_pet_pt4: 8.279673052000001 m\n",
      "This distance is the same for both PET and CT contribution from the imaging room\n"
     ]
    }
   ],
   "source": [
    "d_uptake_pt4  = convert_to_meters(10,9.61276)\n",
    "print(f\"d_uptake_pt4: {d_uptake_pt4} m\")\n",
    "print(\"This distance is the same for both uptake rooms\")\n",
    "print('--------------------------------------------------------')\n",
    "d_pet_pt4 = convert_to_meters(27,1.97138)\n",
    "print(f\"d_pet_pt4: {d_pet_pt4} m\")\n",
    "print(\"This distance is the same for both PET and CT contribution from the imaging room\")"
   ]
  },
  {
   "cell_type": "code",
   "execution_count": 21,
   "id": "b91a6056",
   "metadata": {},
   "outputs": [
    {
     "name": "stdout",
     "output_type": "stream",
     "text": [
      "This angle is the same for both uptake rooms. Therefore they have the same slanted thickness of lead.\n",
      "slanted_thickness_through_WallB_uptake_room: 0.9017539745450877 mm\n",
      "---------------------------------------------------------\n",
      "Shielded dose from one uptake room: 70.38311071105892 uSv/wk\n"
     ]
    }
   ],
   "source": [
    "angle_through_wallB_uptake_room = 28.33 # degrees\n",
    "print(f\"This angle is the same for both uptake rooms. Therefore they have the same slanted thickness of lead.\")\n",
    "perpendicular_thickness_through_WallB_uptake_room = 1/32 # inches\n",
    "slanted_thickness_through_WallB_uptake_room = perpendicular_thickness_through_WallB_uptake_room / math.cos(math.radians(angle_through_wallB_uptake_room)) * 25.4 # mm\n",
    "print(f\"slanted_thickness_through_WallB_uptake_room: {slanted_thickness_through_WallB_uptake_room} mm\")\n",
    "print(f\"---------------------------------------------------------\")\n",
    "\n",
    "B_PET_uptake = 0.9 # Transmission factor for 0.9 mm Lead taken from Figure 1 TG 108\n",
    "PET_uptake = PET_uptake_dose(patients,a,d_uptake_pt4) * B_PET_uptake\n",
    "print(f\"Shielded dose from one uptake room: {PET_uptake} uSv/wk\")"
   ]
  },
  {
   "cell_type": "code",
   "execution_count": 25,
   "id": "97899177",
   "metadata": {},
   "outputs": [
    {
     "name": "stdout",
     "output_type": "stream",
     "text": [
      "Slanted thickness through PET/CT wall: 1.1480546143348351 mm\n",
      "--------------------------------------------------------\n",
      "B_CT: 0.01 from Figure A.2 NCRP 147\n",
      "B_PET_imaging: 0.8912 from Table IV TG 108\n",
      "--------------------------------------------------------\n",
      "Shielded K_sec: 13.386141954990736 uSv/wk\n",
      "Shielded dose due to PET from the imaging room: 2.95817506397461 uSv/wk\n"
     ]
    }
   ],
   "source": [
    "angle_through_wall = 43.74 # degrees\n",
    "perpendicular_thickness_through_PETCTwall = 1/32 # inches\n",
    "slanted_thickness_through_PETCTwall = perpendicular_thickness_through_PETCTwall / math.sin(math.radians(angle_through_wall)) * 25.4 # mm\n",
    "print(f\"Slanted thickness through PET/CT wall: {slanted_thickness_through_PETCTwall} mm\")\n",
    "print(\"--------------------------------------------------------\")\n",
    "\n",
    "B_CT = 1e-2 # 1.10 mm Pb transmission factor taken from Figure A.2 NCRP 147\n",
    "B_PET_imaging = 0.8912 # 1.00 mm Pb transmission factor taken from Table IV TG 108\n",
    "print(f\"B_CT: {B_CT} from Figure A.2 NCRP 147\")\n",
    "print(f\"B_PET_imaging: {B_PET_imaging} from Table IV TG 108\")\n",
    "print(\"--------------------------------------------------------\")\n",
    "K_sec = find_Ksec(d_pet_pt4) * B_CT\n",
    "print(f\"Shielded K_sec: {K_sec} uSv/wk\")\n",
    "\n",
    "PET_imaging = PET_imaging_dose(patients,a,d_pet_pt4) * B_PET_imaging\n",
    "print(f\"Shielded dose due to PET from the imaging room: {PET_imaging} uSv/wk\")"
   ]
  },
  {
   "cell_type": "code",
   "execution_count": 23,
   "id": "009e3ae0",
   "metadata": {},
   "outputs": [
    {
     "name": "stdout",
     "output_type": "stream",
     "text": [
      "Total shielded dose at point 4: 157.11053844108318 uSv/wk\n"
     ]
    }
   ],
   "source": [
    "total_shielded_dose_at_point4 = PET_uptake + PET_imaging + K_sec + PET_uptake\n",
    "print(f\"Total shielded dose at point 4: {total_shielded_dose_at_point4} uSv/wk\")"
   ]
  }
 ],
 "metadata": {
  "kernelspec": {
   "display_name": "Python 3",
   "language": "python",
   "name": "python3"
  },
  "language_info": {
   "codemirror_mode": {
    "name": "ipython",
    "version": 3
   },
   "file_extension": ".py",
   "mimetype": "text/x-python",
   "name": "python",
   "nbconvert_exporter": "python",
   "pygments_lexer": "ipython3",
   "version": "3.12.10"
  }
 },
 "nbformat": 4,
 "nbformat_minor": 5
}
