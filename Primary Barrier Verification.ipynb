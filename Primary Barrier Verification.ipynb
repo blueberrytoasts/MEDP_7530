{
 "cells": [
  {
   "cell_type": "code",
   "execution_count": 42,
   "id": "9cf72419",
   "metadata": {},
   "outputs": [],
   "source": [
    "import math\n",
    "\n",
    "def convert_to_meters(foot,inches):\n",
    "    m = (foot * 12 * 2.54 + inches * 2.54) * 10e-3\n",
    "    return m\n",
    "\n",
    "def convert_to_centimeters(foot,inches):\n",
    "    cm = (foot * 12 * 2.54 + inches * 2.54)\n",
    "    return cm\n",
    "\n",
    "def verify_1barrier(design_goal,T, thickness, TVL1, TVLe):\n",
    "    total_wl_u = 0.0\n",
    "    try:\n",
    "        energy = float(input(\"Input energy in MV: \"))\n",
    "        # Ask for number of workloads\n",
    "        num_workloads = int(input(\"Input # of workloads from that energy: \"))\n",
    "\n",
    "        for i in range(num_workloads):\n",
    "            wl = float(input(f\"Enter workload #{i + 1} (Gy/wk):\"))\n",
    "            usage = float(input(\"Input usage factor: \"))\n",
    "            result = wl * usage\n",
    "            total_wl_u += result\n",
    "\n",
    "        x = float(input(\"Enter distance from iso to 0.3 m beyond wall (ft):  \"))\n",
    "        y= float(input(\"Enter distance from iso to 0.3 m beyond wall (inches):  \"))\n",
    "        print(\"The 0.3m and 1m are already considered in the code\")\n",
    "        print('------------------------------------------------------')\n",
    "        d_primary = convert_to_meters(x,y)\n",
    "        B_pri = 10 ** -(1 + (thickness - TVL1) / TVLe)\n",
    "\n",
    "        H_primary = (total_wl_u / d_primary ** 2) * B_pri * 1e3 # Convert to mSv/wk\n",
    "\n",
    "        if H_primary < design_goal / T:\n",
    "            print('PASS')\n",
    "            print(f\"H_primary = {H_primary} mSv/wk < design goal = {design_goal /T} mSv/wk\")\n",
    "        else:\n",
    "            print('FAIL')\n",
    "            print(f\"H_primary = {H_primary} mSv/wk > design goal = {design_goal /T} mSv/wk\")\n",
    "\n",
    "        print('------------------------------------------------------')\n",
    "        print(f\"Energy = {energy} MV\")\n",
    "        print(f\"Occupancy factor = {T}\")\n",
    "        print(f\"d_primary = {d_primary} m\")\n",
    "        print(f\"Total workload = {total_wl_u} Gy/wk\")\n",
    "        print(f\"Thickness used: {thickness} cm\")\n",
    "        print(f\"B_pri = {B_pri}\")\n",
    "        print(f\"TVL_1 = {TVL1} cm\")\n",
    "        print(f\"TVL_e = {TVLe} cm\")\n",
    "\n",
    "    except ValueError:\n",
    "        print(\"Invalid input. Please enter numeric values.\")\n",
    "    except ZeroDivisionError:\n",
    "        print(\"Error: Division by zero. Please check your inputs.\")\n",
    "    \n",
    "    return H_primary \n"
   ]
  },
  {
   "cell_type": "markdown",
   "id": "e53d9210",
   "metadata": {},
   "source": [
    "# Verification of Vault #1 Wall C Primary Barrier"
   ]
  },
  {
   "cell_type": "markdown",
   "id": "f42fd3c1",
   "metadata": {},
   "source": [
    "distance = 23'-5.85841\""
   ]
  },
  {
   "cell_type": "code",
   "execution_count": 45,
   "id": "7002ad87",
   "metadata": {},
   "outputs": [
    {
     "name": "stdout",
     "output_type": "stream",
     "text": [
      "The 0.3m and 1m are already considered in the code\n",
      "------------------------------------------------------\n",
      "PASS\n",
      "H_primary = 0.012184962909745842 mSv/wk < design goal = 0.2 mSv/wk\n",
      "------------------------------------------------------\n",
      "Energy = 6.0 MV\n",
      "Occupancy factor = 0.5\n",
      "d_primary = 8.159203392 m\n",
      "Total workload = 88.08 Gy/wk\n",
      "Thickness used: 170.18 cm\n",
      "B_pri = 9.209635123843808e-06\n",
      "TVL_1 = 37 cm\n",
      "TVL_e = 33 cm\n"
     ]
    }
   ],
   "source": [
    "test = verify_1barrier(0.1, 0.5, 170.18, 37, 33)"
   ]
  },
  {
   "cell_type": "code",
   "execution_count": 46,
   "id": "3763f91d",
   "metadata": {},
   "outputs": [
    {
     "name": "stdout",
     "output_type": "stream",
     "text": [
      "The 0.3m and 1m are already considered in the code\n",
      "------------------------------------------------------\n",
      "PASS\n",
      "H_primary = 0.09814344599107704 mSv/wk < design goal = 0.2 mSv/wk\n",
      "------------------------------------------------------\n",
      "Energy = 18.0 MV\n",
      "Occupancy factor = 0.5\n",
      "d_primary = 8.159203392 m\n",
      "Total workload = 53.25 Gy/wk\n",
      "Thickness used: 170.18 cm\n",
      "B_pri = 0.0001226979224751702\n",
      "TVL_1 = 45 cm\n",
      "TVL_e = 43 cm\n"
     ]
    }
   ],
   "source": [
    "test2 = verify_1barrier(0.1, 0.5, 170.18, 45,43)"
   ]
  },
  {
   "cell_type": "code",
   "execution_count": 47,
   "id": "f5892e73",
   "metadata": {},
   "outputs": [
    {
     "name": "stdout",
     "output_type": "stream",
     "text": [
      "0.11032840890082288\n"
     ]
    }
   ],
   "source": [
    "print(test + test2)"
   ]
  },
  {
   "cell_type": "markdown",
   "id": "652fcdb9",
   "metadata": {},
   "source": [
    "# Vault #1 Wall A Primary Barrier"
   ]
  },
  {
   "cell_type": "markdown",
   "id": "1c66df9c",
   "metadata": {},
   "source": [
    "d = 23'-5.85588\""
   ]
  },
  {
   "cell_type": "code",
   "execution_count": 48,
   "id": "2531a47e",
   "metadata": {},
   "outputs": [
    {
     "name": "stdout",
     "output_type": "stream",
     "text": [
      "The 0.3m and 1m are already considered in the code\n",
      "------------------------------------------------------\n",
      "PASS\n",
      "H_primary = 0.0717008210087727 mSv/wk < design goal = 0.7999999999999999 mSv/wk\n",
      "------------------------------------------------------\n",
      "Energy = 6.0 MV\n",
      "Occupancy factor = 0.025\n",
      "d_primary = 8.159175706 m\n",
      "Total workload = 88.08 Gy/wk\n",
      "Thickness used: 144.78 cm\n",
      "B_pri = 5.41925259123147e-05\n",
      "TVL_1 = 37 cm\n",
      "TVL_e = 33 cm\n"
     ]
    }
   ],
   "source": [
    "test3 = verify_1barrier(0.02, 1/40, convert_to_centimeters(4,9), 37, 33)\n"
   ]
  },
  {
   "cell_type": "code",
   "execution_count": 49,
   "id": "bab165bd",
   "metadata": {},
   "outputs": [
    {
     "name": "stdout",
     "output_type": "stream",
     "text": [
      "The 0.3m and 1m are already considered in the code\n",
      "------------------------------------------------------\n",
      "PASS\n",
      "H_primary = 0.3824387803555602 mSv/wk < design goal = 0.7999999999999999 mSv/wk\n",
      "------------------------------------------------------\n",
      "Energy = 18.0 MV\n",
      "Occupancy factor = 0.025\n",
      "d_primary = 8.159175706 m\n",
      "Total workload = 53.25 Gy/wk\n",
      "Thickness used: 144.78 cm\n",
      "B_pri = 0.0004781177683340017\n",
      "TVL_1 = 45 cm\n",
      "TVL_e = 43 cm\n"
     ]
    }
   ],
   "source": [
    "test2 = verify_1barrier(0.02, 1/40, convert_to_centimeters(4,9), 45,43)"
   ]
  },
  {
   "cell_type": "code",
   "execution_count": 50,
   "id": "0775b6a3",
   "metadata": {},
   "outputs": [
    {
     "name": "stdout",
     "output_type": "stream",
     "text": [
      "0.45413960136433296\n"
     ]
    }
   ],
   "source": [
    "print(test2 + test3)"
   ]
  },
  {
   "cell_type": "markdown",
   "id": "6be3f1ec",
   "metadata": {},
   "source": [
    "# Vault #1 Ceiling Primary Barrier"
   ]
  },
  {
   "cell_type": "code",
   "execution_count": 51,
   "id": "39d45e7a",
   "metadata": {},
   "outputs": [
    {
     "name": "stdout",
     "output_type": "stream",
     "text": [
      "The 0.3m and 1m are already considered in the code\n",
      "------------------------------------------------------\n",
      "PASS\n",
      "H_primary = 0.02634310087875693 mSv/wk < design goal = 0.7999999999999999 mSv/wk\n",
      "------------------------------------------------------\n",
      "Energy = 6.0 MV\n",
      "Occupancy factor = 0.025\n",
      "d_primary = 5.99899994 m\n",
      "Total workload = 122.9 Gy/wk\n",
      "Thickness used: 172.72 cm\n",
      "B_pri = 7.713877313294824e-06\n",
      "TVL_1 = 37 cm\n",
      "TVL_e = 33 cm\n"
     ]
    }
   ],
   "source": [
    "test4 = verify_1barrier(0.02,1/40,convert_to_centimeters(5,8),37,33)"
   ]
  },
  {
   "cell_type": "code",
   "execution_count": 52,
   "id": "4fa5e720",
   "metadata": {},
   "outputs": [
    {
     "name": "stdout",
     "output_type": "stream",
     "text": [
      "The 0.3m and 1m are already considered in the code\n",
      "------------------------------------------------------\n",
      "PASS\n",
      "H_primary = 0.19566154739547298 mSv/wk < design goal = 0.7999999999999999 mSv/wk\n",
      "------------------------------------------------------\n",
      "Energy = 18.0 MV\n",
      "Occupancy factor = 0.025\n",
      "d_primary = 5.99899994 m\n",
      "Total workload = 65.75 Gy/wk\n",
      "Thickness used: 172.72 cm\n",
      "B_pri = 0.00010709456764223565\n",
      "TVL_1 = 45 cm\n",
      "TVL_e = 43 cm\n"
     ]
    }
   ],
   "source": [
    "test5 = verify_1barrier(0.02,1/40,convert_to_centimeters(5,8),45,43)"
   ]
  },
  {
   "cell_type": "code",
   "execution_count": 53,
   "id": "4ddef01b",
   "metadata": {},
   "outputs": [
    {
     "name": "stdout",
     "output_type": "stream",
     "text": [
      "0.22200464827422992\n"
     ]
    }
   ],
   "source": [
    "print(test4 + test5)"
   ]
  },
  {
   "cell_type": "markdown",
   "id": "0f3b536c",
   "metadata": {},
   "source": [
    "# Vault #2 Wall A Primary Barrier"
   ]
  },
  {
   "cell_type": "code",
   "execution_count": 44,
   "id": "fcd7d028",
   "metadata": {},
   "outputs": [
    {
     "name": "stdout",
     "output_type": "stream",
     "text": [
      "The 0.3m and 1m are already considered in the code\n",
      "------------------------------------------------------\n",
      "PASS\n",
      "H_primary = 0.7038415972865883 mSv/wk < design goal = 0.7999999999999999 mSv/wk\n",
      "------------------------------------------------------\n",
      "Energy = 6.0 MV\n",
      "Occupancy factor = 0.025\n",
      "d_primary = 8.158000194 m\n",
      "Total workload = 50.721000000000004 Gy/wk\n",
      "Thickness used: 104.14 cm\n",
      "B_pri = 0.0009235375231913695\n",
      "TVL_1 = 37 cm\n",
      "TVL_e = 33 cm\n"
     ]
    }
   ],
   "source": [
    "test6 = verify_1barrier(0.02,1/40,convert_to_centimeters(3,5),37,33)"
   ]
  },
  {
   "cell_type": "markdown",
   "id": "6f16f463",
   "metadata": {},
   "source": [
    "# Vault # 2 Wall C Primary Barrier"
   ]
  },
  {
   "cell_type": "code",
   "execution_count": 54,
   "id": "7e61c979",
   "metadata": {},
   "outputs": [
    {
     "name": "stdout",
     "output_type": "stream",
     "text": [
      "The 0.3m and 1m are already considered in the code\n",
      "------------------------------------------------------\n",
      "PASS\n",
      "H_primary = 0.00480499933597799 mSv/wk < design goal = 0.2 mSv/wk\n",
      "------------------------------------------------------\n",
      "Energy = 6.0 MV\n",
      "Occupancy factor = 0.5\n",
      "d_primary = 9.859807814000002 m\n",
      "Total workload = 50.721000000000004 Gy/wk\n",
      "Thickness used: 170.18 cm\n",
      "B_pri = 9.209635123843808e-06\n",
      "TVL_1 = 37 cm\n",
      "TVL_e = 33 cm\n"
     ]
    }
   ],
   "source": [
    "test7 = verify_1barrier(0.1,1/2,convert_to_centimeters(5,7),37,33)"
   ]
  }
 ],
 "metadata": {
  "kernelspec": {
   "display_name": "Python 3",
   "language": "python",
   "name": "python3"
  },
  "language_info": {
   "codemirror_mode": {
    "name": "ipython",
    "version": 3
   },
   "file_extension": ".py",
   "mimetype": "text/x-python",
   "name": "python",
   "nbconvert_exporter": "python",
   "pygments_lexer": "ipython3",
   "version": "3.13.0"
  }
 },
 "nbformat": 4,
 "nbformat_minor": 5
}
