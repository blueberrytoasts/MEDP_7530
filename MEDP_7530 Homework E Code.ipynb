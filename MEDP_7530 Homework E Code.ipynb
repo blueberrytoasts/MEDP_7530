{
 "cells": [
  {
   "cell_type": "code",
   "execution_count": 2,
   "metadata": {},
   "outputs": [],
   "source": [
    "import math"
   ]
  },
  {
   "cell_type": "code",
   "execution_count": 3,
   "metadata": {},
   "outputs": [],
   "source": [
    "def find_Hs(W, U, alpha0, A0, alphaZ, Az, d_h, d_r, d_z): \n",
    "    \"\"\"\n",
    "    Calculates the primary beam scattered from the primary barrier.\n",
    "\n",
    "    Parameters:\n",
    "    W (float): Workload (Gy/wk) for the worst-case Wall G.\n",
    "    U (float): Usage factor for the worst-case Wall G.\n",
    "    alpha0 (float): Albedo of the primary barrier, dependent on material, energy, \n",
    "                    angle of incidence, and reflection.\n",
    "    A0 (float): Dependent on field size and d_h (m^2).\n",
    "    alphaZ (float): Albedo of Wall Z, dependent on material, energy, \n",
    "                    angle of incidence, and reflection.\n",
    "    Az (float): Area of the inner maze entrance as viewed from the center of the \n",
    "                primary barrier projected onto Wall Z (m^2).\n",
    "    d_h (float): Distance from the source to the proximal surface of the primary barrier (m).\n",
    "    d_r (float): Distance from the center of the primary barrier, past the edge of IMW, \n",
    "                 to point B (m).\n",
    "    d_z (float): Distance from the point B to the plane of the door (m).\n",
    "    \"\"\"\n",
    "\n",
    "    H_s = (W * U * alpha0 * A0 * alphaZ * Az) / (d_h * d_r * d_z)**2\n",
    "    return H_s\n",
    "\n",
    "\n",
    "def find_Hps(W, U, a, F, alpha1, A1, d_sca, d_sec, d_zz): \n",
    "    \"\"\"\n",
    "\n",
    "    Parameters:\n",
    "    \n",
    "    W : workload (Gy/wk) for worst case Wall G\n",
    "    U : usage factor for worst case Wall G\n",
    "    a : scatter fraction dependent on scatter angle and beam energy \n",
    "    F : field size (cm^2)\n",
    "    alpha1 : albedo of A1. Dependent on material, 0.5 MeV, angle of incidence, angle of reflection is 0 deg\n",
    "    A1 : area of the wall at the end of the maze visible from the door (m^2). Width of A1 x maze height\n",
    "    d_sca : distance from source to iso (m)\n",
    "    d_sec : distance from iso to center of A1 (m)\n",
    "    d_zz : distance from center of A1 to plane of door (m)\n",
    "    \"\"\"\n",
    "\n",
    "    H_ps = (W * U * a * (F/400)* alpha1 * A1) / (d_sca * d_sec * d_zz)**2\n",
    "    return H_ps\n",
    "\n",
    "\n",
    "def find_Hls(W, U, C, alpha_ls, A1, d_sec, d_zz):\n",
    "    \"\"\"\n",
    "    \n",
    "    Parameters:\n",
    "\n",
    "    W : workload (Gy/wk) for worst case Wall G\n",
    "    U : usage factor for worst case Wall G\n",
    "    C : IMRT factor (unitless)\n",
    "    alpha_ls : albedo of A1, dependent on material, Co-60\n",
    "               angle of incidence, and reflection is 0 deg\n",
    "    A1 : area of the wall at the end of the maze visible from the door (m^2). Width of A1 x maze height\n",
    "    d_sec : distance from iso to center of A1 (m) if gantry rotates uniformly\n",
    "    d_zz : distance from center of A1 to plane of door (m)\n",
    "    \"\"\"\n",
    "\n",
    "    H_ls = (10**-3 *W * U * C * alpha_ls * A1) / (d_sec * d_zz)**2\n",
    "    return H_ls\n",
    "\n",
    "\n",
    "def find_Hlt(W, C, U, t_slant, TVL1, TVLe, d_L):\n",
    "    \"\"\"\n",
    "\n",
    "    Parameters:\n",
    "\n",
    "    W : workload (Gy/wk) for worst case Wall G\n",
    "    C : IMRT factor (unitless)\n",
    "    U : usage factor for worst case Wall G\n",
    "    t_slant : slant thickness of IMW (cm)\n",
    "    TVL1 : TVL of IMW material (cm). Dependent on incident energy\n",
    "    TVLe : equilibrium TVL of IMW material (cm). Dependent on incident energy\n",
    "    d_L : distance from source to center of plane of door (m)\n",
    "    \"\"\"\n",
    "\n",
    "    H_lt = (10**-3 * W * C * U * 10**-(1 + (t_slant - TVL1) / TVLe)) / d_L**2\n",
    "    return H_lt\n"
   ]
  },
  {
   "cell_type": "code",
   "execution_count": 4,
   "metadata": {},
   "outputs": [
    {
     "name": "stdout",
     "output_type": "stream",
     "text": [
      "H_s\n",
      "72.01154042910764 uSv/wk\n"
     ]
    }
   ],
   "source": [
    "x = find_Hs(2500,0.25,4*10**-3,4.41,20*10**-3,8.6666,5.25,6.01857,5.15555)\n",
    "print('H_s')\n",
    "print(f\"{x*10**6} uSv/wk\")"
   ]
  },
  {
   "cell_type": "code",
   "execution_count": 5,
   "metadata": {},
   "outputs": [
    {
     "name": "stdout",
     "output_type": "stream",
     "text": [
      "H_ps\n",
      "223.08326114189148 uSv/wk\n"
     ]
    }
   ],
   "source": [
    "y = find_Hps(2500, 0.25, 1.39*10**-3,1600, 22*10**-3,8.1428,1,6.9507,7.6)\n",
    "print('H_ps')\n",
    "print(f\"{y*10**6} uSv/wk\")"
   ]
  },
  {
   "cell_type": "code",
   "execution_count": 6,
   "metadata": {},
   "outputs": [
    {
     "name": "stdout",
     "output_type": "stream",
     "text": [
      "H_ls\n",
      "49.24172703426317 uSv/wk\n"
     ]
    }
   ],
   "source": [
    "z = find_Hls(2500, 0.25, 3, 9*10**-3, 8.1428, 6.9507, 7.6)\n",
    "print('H_ls')\n",
    "print(f\"{z*10**6} uSv/wk\")"
   ]
  },
  {
   "cell_type": "code",
   "execution_count": 7,
   "metadata": {},
   "outputs": [
    {
     "name": "stdout",
     "output_type": "stream",
     "text": [
      "H_lt\n",
      "77.98088326517457 uSv/wk\n"
     ]
    }
   ],
   "source": [
    "u = find_Hlt(2500, 3, 0.25, 86.9965, 34, 29, 5.981)\n",
    "print('H_lt')\n",
    "print(f\"{u*10**6} uSv/wk\")  "
   ]
  },
  {
   "cell_type": "code",
   "execution_count": 8,
   "metadata": {},
   "outputs": [
    {
     "name": "stdout",
     "output_type": "stream",
     "text": [
      "H_G\n",
      "368.30875654860614\n"
     ]
    }
   ],
   "source": [
    "f = 0.25 # correction factor for 6-10 MV\n",
    "H_G = f*x + y + z + u\n",
    "print('H_G')\n",
    "print(H_G*10**6)\n"
   ]
  },
  {
   "cell_type": "code",
   "execution_count": 9,
   "metadata": {},
   "outputs": [
    {
     "name": "stdout",
     "output_type": "stream",
     "text": [
      "H_tot\n",
      "972.3351172883201 uSv/wk\n"
     ]
    }
   ],
   "source": [
    "H_tot = 2.64 * H_G * 10**6\n",
    "print('H_tot')\n",
    "print(f\"{H_tot} uSv/wk\")"
   ]
  },
  {
   "cell_type": "code",
   "execution_count": 41,
   "metadata": {},
   "outputs": [
    {
     "name": "stdout",
     "output_type": "stream",
     "text": [
      "B_needed\n",
      "0.10284520040671087\n"
     ]
    }
   ],
   "source": [
    "P_controlled = 100 # uSv/wk\n",
    "T = 1 # occupancy factor for treatment vault doors\n",
    "\n",
    "B_needed = (P_controlled / T) / H_tot \n",
    "print('B_needed')\n",
    "print(f\"{B_needed}\")"
   ]
  },
  {
   "cell_type": "code",
   "execution_count": 42,
   "metadata": {},
   "outputs": [
    {
     "name": "stdout",
     "output_type": "stream",
     "text": [
      "B_steel\n",
      "0.996351318837899\n",
      "B_lead\n",
      "0.10359982666716379\n",
      "t_lead\n",
      "5.612453535886364 cm\n"
     ]
    }
   ],
   "source": [
    "t_steel = 0.015875 # thickness of steel (cm)\n",
    "TVL_steel_6MV = 10 # cm\n",
    "\n",
    "TVL_Pb_6MV = 5.7 # cm \n",
    "\n",
    "B_steel = 10**-(t_steel / TVL_steel_6MV)\n",
    "print('B_steel')\n",
    "print(f\"{B_steel}\")\n",
    "\n",
    "\n",
    "B_lead = B_needed / B_steel**2\n",
    "print('B_lead')\n",
    "print(f\"{B_lead}\")\n",
    "\n",
    "# Find the thickness of lead needed to achieve the required barrier transmission\n",
    "# using the TVL for lead at 6 MV\n",
    "t_lead = TVL_Pb_6MV * -math.log10(B_lead)\n",
    "print('t_lead')\n",
    "print(f\"{t_lead} cm\")"
   ]
  },
  {
   "cell_type": "code",
   "execution_count": 29,
   "metadata": {},
   "outputs": [
    {
     "name": "stdout",
     "output_type": "stream",
     "text": [
      "H_s\n",
      "32.664434738643244 uSv/wk\n"
     ]
    }
   ],
   "source": [
    "x2 = find_Hs(283.5,1,4*10**-3,4.41,20*10**-3,8.6666,5.25,6.01857,5.15555)\n",
    "print('H_s')\n",
    "print(f\"{x2*10**6} uSv/wk\")"
   ]
  },
  {
   "cell_type": "code",
   "execution_count": 32,
   "metadata": {},
   "outputs": [
    {
     "name": "stdout",
     "output_type": "stream",
     "text": [
      "H_ps\n",
      "940.55731397177 uSv/wk\n"
     ]
    }
   ],
   "source": [
    "y2 = find_Hps(283.5,1,8.24*10**-3,32400,22*10**-3,8.14285,4.5,5.5509008,7.6)\n",
    "print('H_ps')\n",
    "print(f\"{y2*10**6} uSv/wk\")"
   ]
  },
  {
   "cell_type": "code",
   "execution_count": 36,
   "metadata": {},
   "outputs": [
    {
     "name": "stdout",
     "output_type": "stream",
     "text": [
      "H_ls\n",
      "6.221900658622358 uSv/wk\n"
     ]
    }
   ],
   "source": [
    "z2 = find_Hls(283.5,1,1,9*10**-3,8.14285,7.603453163,7.6)\n",
    "print('H_ls')\n",
    "print(f\"{z2*10**6} uSv/wk\")"
   ]
  },
  {
   "cell_type": "code",
   "execution_count": 43,
   "metadata": {},
   "outputs": [
    {
     "name": "stdout",
     "output_type": "stream",
     "text": [
      "H_lt\n",
      "11.790709549694396 uSv/wk\n"
     ]
    }
   ],
   "source": [
    "v2 = find_Hlt(283.5,1,1,86.9965,34,29,5.981)\n",
    "print('H_lt')\n",
    "print(f\"{v2*10**6} uSv/wk\")"
   ]
  }
 ],
 "metadata": {
  "kernelspec": {
   "display_name": "Python 3",
   "language": "python",
   "name": "python3"
  },
  "language_info": {
   "codemirror_mode": {
    "name": "ipython",
    "version": 3
   },
   "file_extension": ".py",
   "mimetype": "text/x-python",
   "name": "python",
   "nbconvert_exporter": "python",
   "pygments_lexer": "ipython3",
   "version": "3.12.2"
  }
 },
 "nbformat": 4,
 "nbformat_minor": 2
}
