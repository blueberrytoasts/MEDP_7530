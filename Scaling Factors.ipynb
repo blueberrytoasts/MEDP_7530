{
 "cells": [
  {
   "cell_type": "code",
   "execution_count": 1,
   "id": "b1e1f376",
   "metadata": {},
   "outputs": [],
   "source": [
    "import math\n",
    "\n",
    "def convert_to_meters(foot,inches):\n",
    "    m = (foot * 12 * 2.54 + inches * 2.54) * 10e-3\n",
    "    return m\n",
    "\n",
    "def convert_to_centimeters(foot,inches):\n",
    "    cm = (foot * 12 * 2.54 + inches * 2.54)\n",
    "    return cm"
   ]
  },
  {
   "cell_type": "code",
   "execution_count": 7,
   "id": "e9ff5be0",
   "metadata": {},
   "outputs": [
    {
     "name": "stdout",
     "output_type": "stream",
     "text": [
      "1.793043658 3.6211977360000005\n"
     ]
    }
   ],
   "source": [
    "d1 = convert_to_meters(5,10.59227)\n",
    "d2 = convert_to_meters(11,10.56684)\n",
    "print(d1,d2)"
   ]
  },
  {
   "cell_type": "code",
   "execution_count": null,
   "id": "b7e4c32e",
   "metadata": {},
   "outputs": [],
   "source": []
  }
 ],
 "metadata": {
  "kernelspec": {
   "display_name": "Python 3",
   "language": "python",
   "name": "python3"
  },
  "language_info": {
   "codemirror_mode": {
    "name": "ipython",
    "version": 3
   },
   "file_extension": ".py",
   "mimetype": "text/x-python",
   "name": "python",
   "nbconvert_exporter": "python",
   "pygments_lexer": "ipython3",
   "version": "3.13.0"
  }
 },
 "nbformat": 4,
 "nbformat_minor": 5
}
