{
 "cells": [
  {
   "cell_type": "code",
   "execution_count": 2,
   "id": "f565fe71",
   "metadata": {},
   "outputs": [],
   "source": [
    "import math\n",
    "\n",
    "def find_thickness_forCT(alpha,beta, gamma):\n",
    "\n",
    "    thickness_CT = (1/ (alpha * gamma) * math.log((beta**-gamma + beta/alpha)/(1+beta/alpha)))\n",
    "\n",
    "    return thickness_CT\n"
   ]
  },
  {
   "cell_type": "code",
   "execution_count": 6,
   "id": "e9efca2e",
   "metadata": {},
   "outputs": [
    {
     "name": "stdout",
     "output_type": "stream",
     "text": [
      "39.05442985338642\n",
      "2.050101304639707\n"
     ]
    }
   ],
   "source": [
    "test = find_thickness_forCT(3.566e-2,7.109e-2,6.073e-1)\n",
    "print(test)\n",
    "x_lightweight = (test * 2.4 / 1.8)/10/2.54\n",
    "print(x_lightweight)"
   ]
  }
 ],
 "metadata": {
  "kernelspec": {
   "display_name": "Python 3",
   "language": "python",
   "name": "python3"
  },
  "language_info": {
   "codemirror_mode": {
    "name": "ipython",
    "version": 3
   },
   "file_extension": ".py",
   "mimetype": "text/x-python",
   "name": "python",
   "nbconvert_exporter": "python",
   "pygments_lexer": "ipython3",
   "version": "3.12.2"
  }
 },
 "nbformat": 4,
 "nbformat_minor": 5
}
