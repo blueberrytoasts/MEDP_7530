{
 "cells": [
  {
   "cell_type": "code",
   "execution_count": 2,
   "id": "96f0b257",
   "metadata": {},
   "outputs": [
    {
     "name": "stdout",
     "output_type": "stream",
     "text": [
      "R_t_i: 0.925225655037042\n"
     ]
    }
   ],
   "source": [
    "import math\n",
    "\n",
    "t_imaging = 25 # minutes\n",
    "\n",
    "R_t_i = 1.443 * (110/t_imaging) * (1-math.exp(-0.693*t_imaging/110))\n",
    "print(f\"R_t_i: {R_t_i}\")\n",
    "\n",
    "def PET_uptake_dose(patients,activity,distance):\n",
    "\n",
    "    dose = 0.092 * patients * activity * 1 * 0.83/distance**2\n",
    "    return dose # uSv/wk\n",
    "\n",
    "def PET_imaging_dose(patients,activity,distance):\n",
    "\n",
    "    dose = 0.092 * patients * activity * 0.85 * 0.68 * 0.41666666666 * R_t_i/distance**2\n",
    "    return dose # uSv/wk\n",
    "\n",
    "def convert_to_meters(foot,inches):\n",
    "    m = (foot * 12 * 2.54 + inches * 2.54) * 10e-3\n",
    "    return m\n",
    "\n",
    "patients = 30\n",
    "a = 370 # Mbq\n",
    "\n",
    "def find_Ksec(d):\n",
    "    K_sec = (91.76599999999999/d**2) * 1e3 # converts to uGy/wk\n",
    "    return K_sec # uGy/wk"
   ]
  },
  {
   "cell_type": "code",
   "execution_count": 4,
   "id": "f500dd47",
   "metadata": {},
   "outputs": [
    {
     "name": "stdout",
     "output_type": "stream",
     "text": [
      "d_gantry_center_to_ceiling: 2.54279908 m\n",
      "Unshielded PET_image_dose: 35.19256959639549 uSv/wk\n",
      "Unshielded CT_dose: 14192.461028029675 uSv/wk\n",
      "thickness_standard_concrete: 15.896598639455782 cm\n",
      "-----------------------------------------------------------------------\n",
      "Shielded CT_dose: 18.450199336438576 uSv/wk\n",
      "Shielded PET_image_dose: 7.038513919279097 uSv/wk\n",
      "Total shielded dose: 25.488713255717673 uSv/wk\n"
     ]
    }
   ],
   "source": [
    "d_gantry_center_to_ceiling = convert_to_meters(7,16.1102) # m\n",
    "print(f\"d_gantry_center_to_ceiling: {d_gantry_center_to_ceiling} m\")\n",
    "\n",
    "PET_image_dose = PET_imaging_dose(patients,a,d_gantry_center_to_ceiling)\n",
    "print(f\"Unshielded PET_image_dose: {PET_image_dose} uSv/wk\")\n",
    "\n",
    "CT_dose = find_Ksec(d_gantry_center_to_ceiling)\n",
    "print(f\"Unshielded CT_dose: {CT_dose} uSv/wk\")\n",
    "\n",
    "thickness_light_concrete = 20.32 # cm\n",
    "thickness_standard_concrete = thickness_light_concrete * (115/147)\n",
    "print(f\"thickness_standard_concrete: {thickness_standard_concrete} cm\")\n",
    "\n",
    "B_PET_standard_concrete = 2e-1 # Transmission factor for PET for standard concrete taken from Figure 2 TG 108\n",
    "B_CT_standard_concrete = 1.3e-3 # Transmission factor for CT for standard concrete taken from Figure A.3 NCRP 147\n",
    "\n",
    "print('-----------------------------------------------------------------------')\n",
    "shielded_ksec = CT_dose * B_CT_standard_concrete\n",
    "print(f\"Shielded CT_dose: {shielded_ksec} uSv/wk\")\n",
    "shielded_PET_dose = PET_image_dose * B_PET_standard_concrete\n",
    "print(f\"Shielded PET_image_dose: {shielded_PET_dose} uSv/wk\")\n",
    "\n",
    "total_shielded_dose = shielded_ksec + shielded_PET_dose\n",
    "print(f\"Total shielded dose: {total_shielded_dose} uSv/wk\")"
   ]
  },
  {
   "cell_type": "code",
   "execution_count": 13,
   "id": "da9ca4a5",
   "metadata": {},
   "outputs": [
    {
     "name": "stdout",
     "output_type": "stream",
     "text": [
      "d_uptake_to_ceiling: 3.258261962 m\n",
      "Unshielded PET_image_dose: 35.19256959639549 uSv/wk\n",
      "Unshielded CT_dose: 14192.461028029675 uSv/wk\n",
      "thickness_standard_concrete: 15.896598639455782 cm\n",
      "-----------------------------------------------------------------------\n",
      "Shielded CT_dose: 21.288691542044514 uSv/wk\n",
      "Shielded PET_image_dose: 5.278885439459323 uSv/wk\n",
      "Total shielded dose: 26.567576981503837 uSv/wk\n"
     ]
    }
   ],
   "source": [
    "d_uptake_to_ceiling = convert_to_meters(10,8.27803) # m\n",
    "print(f\"d_uptake_to_ceiling: {d_uptake_to_ceiling} m\")\n",
    "\n",
    "PET_image_dose = PET_imaging_dose(patients,a,d_gantry_center_to_ceiling)\n",
    "print(f\"Unshielded PET_image_dose: {PET_image_dose} uSv/wk\")\n",
    "\n",
    "CT_dose = find_Ksec(d_gantry_center_to_ceiling)\n",
    "print(f\"Unshielded CT_dose: {CT_dose} uSv/wk\")\n",
    "\n",
    "thickness_light_concrete = 20.32 # cm\n",
    "thickness_standard_concrete = thickness_light_concrete * (115/147)\n",
    "print(f\"thickness_standard_concrete: {thickness_standard_concrete} cm\")\n",
    "\n",
    "B_PET_standard_concrete = 1.5e-1 # Transmission factor for PET for standard concrete taken from Figure 2 TG 108\n",
    "B_CT_standard_concrete = 1.5e-3 # Transmission factor for CT for standard concrete taken from Figure A.3 NCRP 147\n",
    "\n",
    "print('-----------------------------------------------------------------------')\n",
    "shielded_ksec = CT_dose * B_CT_standard_concrete\n",
    "print(f\"Shielded CT_dose: {shielded_ksec} uSv/wk\")\n",
    "shielded_PET_dose = PET_image_dose * B_PET_standard_concrete\n",
    "print(f\"Shielded PET_image_dose: {shielded_PET_dose} uSv/wk\")\n",
    "\n",
    "total_shielded_dose = shielded_ksec + shielded_PET_dose\n",
    "print(f\"Total shielded dose: {total_shielded_dose} uSv/wk\")\n",
    "\n"
   ]
  }
 ],
 "metadata": {
  "kernelspec": {
   "display_name": "Python 3",
   "language": "python",
   "name": "python3"
  },
  "language_info": {
   "codemirror_mode": {
    "name": "ipython",
    "version": 3
   },
   "file_extension": ".py",
   "mimetype": "text/x-python",
   "name": "python",
   "nbconvert_exporter": "python",
   "pygments_lexer": "ipython3",
   "version": "3.12.10"
  }
 },
 "nbformat": 4,
 "nbformat_minor": 5
}
