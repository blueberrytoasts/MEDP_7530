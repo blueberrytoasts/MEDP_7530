{
 "cells": [
  {
   "cell_type": "code",
   "execution_count": 2,
   "metadata": {},
   "outputs": [],
   "source": [
    "def B1(thickness, TVL): # Calculates B factor using only 1 TVL. Important for PATIENT SCATTER\n",
    "    '''\n",
    "    param thickness: thickness of barrier (cm)\n",
    "    param TVL: TVL (cm) where it is ALWAYS dependent on energy. Can also depend on the angle too\n",
    "    '''\n",
    "    B = 10**-(thickness/TVL)\n",
    "    return B\n",
    "\n",
    "def B2(thickness, TVL1, TVLe): # Calculates B factor using 2 TVLs. Important for LEAKAGE\n",
    "    '''\n",
    "    param thickness: thickness of barrier (cm)\n",
    "    param TVL1: first TVL (cm)\n",
    "    param TVLe: equilibrium TVL (cm)\n",
    "    '''\n",
    "    B = 10**-(1+((thickness-TVL1)/TVLe))\n",
    "    return B\n",
    "\n",
    "def H_ps_unshielded(W, d_secondary, d_scatter, a, F): # Calculates unshielded equivalent dose for PATIENT SCATTER\n",
    "    '''\n",
    "    param W: workload in a typical week (Gy/wk)\n",
    "    param d_secondary: distance from isocenter to the point of interest (cm). Includes the 0.3 m\n",
    "    param d_scatter: distance from target to isocenter. Usually 1 m\n",
    "    param a: scatter fraction dependent on angle (deg) and beam energy (MV)\n",
    "    param F: field size in cm^2\n",
    "    '''\n",
    "    H_ps_uns = (W * a * F) / (d_secondary**2 * d_scatter**2 * 400) * 10**3\n",
    "    return H_ps_uns # (mSv/wk)\n",
    "\n",
    "def H_ps_shielded(B1, H_ps_unshielded): # Determines SHIELDED equivalent dose for patient scatter\n",
    "    H_ps_s = B1 * H_ps_unshielded\n",
    "    return H_ps_s # (mSv/wk)\n",
    "\n",
    "def H_leak_unshielded(W_L, d_leakage): # Calculates UNSHIELDED equivalent dose for LEAKAGE\n",
    "    '''\n",
    "    param W_L: leakage workload (Gy/wk)\n",
    "    param d_leakage: distance from source of leakage to point of protection (cm)\n",
    "    '''\n",
    "    H_leak_uns = ((W_L*10**-3) / d_leakage**2) * 10**3 # 10**-3 is the included barriers from the head and 10**3 converts Sv to mSv\n",
    "    return H_leak_uns # (mSv/wk)\n",
    "\n",
    "def H_leak_shielded(B2, H_leak_unshielded): # Determines SHIELDED equivalent dose for LEAKAGE\n",
    "    H_leak_s = B2 * H_leak_unshielded\n",
    "    return H_leak_s # (mSv/wk)"
   ]
  },
  {
   "cell_type": "markdown",
   "metadata": {},
   "source": [
    "# Wall A: Determining if the wall is meets design goal P"
   ]
  },
  {
   "cell_type": "code",
   "execution_count": 3,
   "metadata": {},
   "outputs": [
    {
     "name": "stdout",
     "output_type": "stream",
     "text": [
      "H patient scatter shielded including B and T factors\n",
      "3.913243037003771e-05 mSv/wk\n"
     ]
    }
   ],
   "source": [
    "T_unattended_parking_lot = 1/40\n",
    "x = H_ps_unshielded(1500, 8.473706, 1, 9.7725*10**-4, 1600)\n",
    "y = B1(88.4515, 18.75)\n",
    "H_shielded_ps = x*y*T_unattended_parking_lot\n",
    "print('H patient scatter shielded including B and T factors')\n",
    "print(f\"{H_shielded_ps} mSv/wk\")\n",
    "\n"
   ]
  },
  {
   "cell_type": "code",
   "execution_count": 4,
   "metadata": {},
   "outputs": [
    {
     "name": "stdout",
     "output_type": "stream",
     "text": [
      "H leakage shielded including B and T factors\n",
      "0.001384447682628563 mSv/wk\n",
      "\n",
      "H total shielding for Wall A\n",
      "0.0014235801129986007 mSv/wk\n"
     ]
    }
   ],
   "source": [
    "x2 = H_leak_unshielded(1500*2, 8.473706) \n",
    "B_wallA_leak = B2(88.4515, 34, 29) # thickness is oblique thickness\n",
    "H_shielded_leakage = x2*B_wallA_leak*T_unattended_parking_lot\n",
    "\n",
    "print('H leakage shielded including B and T factors')\n",
    "print(f\"{H_shielded_leakage} mSv/wk\")\n",
    "print()\n",
    "print('H total shielding for Wall A')\n",
    "print(f\"{H_shielded_leakage + H_shielded_ps} mSv/wk\")"
   ]
  },
  {
   "cell_type": "markdown",
   "metadata": {},
   "source": [
    "# Wall B Calculations"
   ]
  },
  {
   "cell_type": "code",
   "execution_count": 5,
   "metadata": {},
   "outputs": [
    {
     "name": "stdout",
     "output_type": "stream",
     "text": [
      "H total for wall B\n",
      "0.08510235801591565 mSv/wk\n"
     ]
    }
   ],
   "source": [
    "print(\"H total for wall B\")\n",
    "print(f\"{H_ps_shielded(B1(91.44,17), H_ps_unshielded(1500,4.3,1,4.26*10**-4,1600)) * (1/2) + H_leak_shielded(B2(91.44,34,29), H_leak_unshielded(3000,4.3)) * (1/2)} mSv/wk\")"
   ]
  },
  {
   "cell_type": "code",
   "execution_count": 6,
   "metadata": {},
   "outputs": [
    {
     "data": {
      "text/plain": [
       "0.08481344280106991"
      ]
     },
     "execution_count": 6,
     "metadata": {},
     "output_type": "execute_result"
    }
   ],
   "source": [
    "H_leak_shielded(B2(91.44,34,29), H_leak_unshielded(3000,4.3)) * (1/2)"
   ]
  },
  {
   "cell_type": "code",
   "execution_count": 7,
   "metadata": {},
   "outputs": [
    {
     "name": "stdout",
     "output_type": "stream",
     "text": [
      "0.0022763602928343022\n"
     ]
    }
   ],
   "source": [
    "x = B1(76.2,17)\n",
    "y = H_ps_unshielded(1500,4.3,1,4.26*10**-4,1600)\n",
    "print(x*y*.5)"
   ]
  },
  {
   "cell_type": "markdown",
   "metadata": {},
   "source": [
    "# Wall C Calculations"
   ]
  },
  {
   "cell_type": "code",
   "execution_count": 8,
   "metadata": {},
   "outputs": [
    {
     "name": "stdout",
     "output_type": "stream",
     "text": [
      "Patient scatter for wall C: 0.00017895851141378643 mSv/wk\n"
     ]
    }
   ],
   "source": [
    "T_staffrest = 1/5\n",
    "B_ps_wallC = B1(94.376,18.75)\n",
    "H_ps_uns_wallC = H_ps_unshielded(1500,7.8027,1,9.805*10**-4,1600)\n",
    "\n",
    "H_ps_shielded_wallC = B_ps_wallC * H_ps_uns_wallC * T_staffrest\n",
    "print(f\"Patient scatter for wall C: {H_ps_shielded_wallC} mSv/wk\")"
   ]
  },
  {
   "cell_type": "code",
   "execution_count": 9,
   "metadata": {},
   "outputs": [
    {
     "name": "stdout",
     "output_type": "stream",
     "text": [
      "Leakage for wall C\n",
      "0.008160756077777234\n"
     ]
    }
   ],
   "source": [
    "print(\"Leakage for wall C\")\n",
    "\n",
    "H_leak_shielded_wallC = B2(94.376,34,29) * T_staffrest * H_leak_unshielded(3000,7.8027)\n",
    "print(H_leak_shielded_wallC)"
   ]
  },
  {
   "cell_type": "code",
   "execution_count": 10,
   "metadata": {},
   "outputs": [
    {
     "name": "stdout",
     "output_type": "stream",
     "text": [
      "Total H shielded for wall C\n",
      "0.00833971458919102 mSv/wk\n"
     ]
    }
   ],
   "source": [
    "print(\"Total H shielded for wall C\")\n",
    "print(f\"{H_ps_shielded_wallC + H_leak_shielded_wallC} mSv/wk\")\n"
   ]
  },
  {
   "cell_type": "markdown",
   "metadata": {},
   "source": [
    "# Calculations for the ceiling\n",
    "\n",
    "This assumes the realistic approach."
   ]
  },
  {
   "cell_type": "code",
   "execution_count": 11,
   "metadata": {},
   "outputs": [
    {
     "name": "stdout",
     "output_type": "stream",
     "text": [
      "2.440491690749476e-06\n",
      "H shielded patient scatter for ceiling\n",
      "2.0721463611475287e-05 mSv/wk\n"
     ]
    }
   ],
   "source": [
    "H_ps_uns_ceil = H_ps_unshielded(1500, 5.8859, 1, 9.805*10**-4,1600)\n",
    "B_ps_ceil = B1(105.2348,18.75)\n",
    "print(B_ps_ceil)\n",
    "T_ceiling = 1/20\n",
    "\n",
    "H_ps_shielded_ceil = H_ps_uns_ceil * B_ps_ceil * T_ceiling\n",
    "print(\"H shielded patient scatter for ceiling\")\n",
    "print(f\"{H_ps_shielded_ceil} mSv/wk\")\n"
   ]
  },
  {
   "cell_type": "code",
   "execution_count": 12,
   "metadata": {},
   "outputs": [
    {
     "name": "stdout",
     "output_type": "stream",
     "text": [
      "H shielded leakage for ceiling\n",
      "0.0015138857000799905 mSv/wk\n"
     ]
    }
   ],
   "source": [
    "B_leak_ceil = B2(105.2348, 34, 29)\n",
    "H_leak_uns_ceil = H_leak_unshielded(3000,5.8859)\n",
    "H_leak_shielded_ceil = H_leak_uns_ceil * B_leak_ceil * T_ceiling\n",
    "print(\"H shielded leakage for ceiling\")\n",
    "print(f\"{H_leak_shielded_ceil} mSv/wk\")\n"
   ]
  },
  {
   "cell_type": "code",
   "execution_count": 13,
   "metadata": {},
   "outputs": [
    {
     "name": "stdout",
     "output_type": "stream",
     "text": [
      "total H for ceiling (realistic case)\n",
      "0.0015346071636914657 mSv/wk\n"
     ]
    }
   ],
   "source": [
    "print(\"total H for ceiling (realistic case)\")\n",
    "print(f\"{H_leak_shielded_ceil + H_ps_shielded_ceil} mSv/wk\")"
   ]
  },
  {
   "cell_type": "markdown",
   "metadata": {},
   "source": [
    "For a worst case scenario,"
   ]
  },
  {
   "cell_type": "code",
   "execution_count": 14,
   "metadata": {},
   "outputs": [
    {
     "name": "stdout",
     "output_type": "stream",
     "text": [
      "total H for ceiling (worst case)\n",
      "0.003839425322276716 mSv/wk\n"
     ]
    }
   ],
   "source": [
    "asdf = H_ps_unshielded(1500, 5.8859, 1, 2.77*10**-3, 1600) * B1(105.23,26) * 1/20\n",
    "fghj = H_leak_unshielded(3000, 5.5736) * B2(105.2348,34,29) * 1/20\n",
    "print(\"total H for ceiling (worst case)\")\n",
    "print(f\"{asdf + fghj} mSv/wk\")"
   ]
  },
  {
   "cell_type": "markdown",
   "metadata": {},
   "source": [
    "# Problem 6"
   ]
  },
  {
   "cell_type": "markdown",
   "metadata": {},
   "source": [
    "Below is for Point #1 (See Homework for diagram)"
   ]
  },
  {
   "cell_type": "code",
   "execution_count": 15,
   "metadata": {},
   "outputs": [
    {
     "name": "stdout",
     "output_type": "stream",
     "text": [
      "1.890038227621723e-07\n",
      "34.86666447317698\n",
      "H for patient scatter\n",
      "1.3179865744792944e-06\n"
     ]
    }
   ],
   "source": [
    "B_ps_wallZ = B1(45*2.54, 17)\n",
    "print(B_ps_wallZ)\n",
    "H_ps_uns_wallZ = H_ps_unshielded(1500, 8.562, 1, 4.26*10**-4, 1600)\n",
    "print(H_ps_uns_wallZ)\n",
    "H_ps_shielded_wallZ = B_ps_wallZ * H_ps_uns_wallZ * 1/5\n",
    "print(\"H for patient scatter\")\n",
    "print(H_ps_shielded_wallZ)"
   ]
  },
  {
   "cell_type": "code",
   "execution_count": 16,
   "metadata": {},
   "outputs": [
    {
     "name": "stdout",
     "output_type": "stream",
     "text": [
      "H for leakage\n",
      "0.0013932700006327825\n"
     ]
    }
   ],
   "source": [
    "B_leak_wallZ = B2(45*2.54, 34, 29)\n",
    "H_leak_uns_wallZ = H_leak_unshielded(3000, 8.562)\n",
    "H_leak_shielded_wallZ = B_leak_wallZ * H_leak_uns_wallZ * 1/5\n",
    "print(\"H for leakage\")\n",
    "print(H_leak_shielded_wallZ)"
   ]
  },
  {
   "cell_type": "code",
   "execution_count": 17,
   "metadata": {},
   "outputs": [
    {
     "name": "stdout",
     "output_type": "stream",
     "text": [
      "H total for wall Z\n",
      "0.0013945879872072618\n"
     ]
    }
   ],
   "source": [
    "print(\"H total for wall Z\")\n",
    "print(H_ps_shielded_wallZ + H_leak_shielded_wallZ)"
   ]
  },
  {
   "cell_type": "markdown",
   "metadata": {},
   "source": [
    "Below is Point #2 (See homework for diagram)"
   ]
  },
  {
   "cell_type": "code",
   "execution_count": 18,
   "metadata": {},
   "outputs": [
    {
     "name": "stdout",
     "output_type": "stream",
     "text": [
      "0.0006750897020726225\n"
     ]
    }
   ],
   "source": [
    "temp1 = H_ps_shielded(B1(98.923,23), H_ps_unshielded(1500,11.1152,1,1.39*10**-3,1600)) * (1/5)\n",
    "print(temp1)"
   ]
  },
  {
   "cell_type": "code",
   "execution_count": 19,
   "metadata": {},
   "outputs": [
    {
     "name": "stdout",
     "output_type": "stream",
     "text": [
      "0.0028028028433049607\n"
     ]
    }
   ],
   "source": [
    "temp2 = H_leak_shielded(B2(98.923,34,29),H_leak_unshielded(3000,11.1152)) * (1/5)\n",
    "print(temp2)"
   ]
  },
  {
   "cell_type": "code",
   "execution_count": 20,
   "metadata": {},
   "outputs": [
    {
     "name": "stdout",
     "output_type": "stream",
     "text": [
      "Total H at point 2\n",
      "0.003477892545377583\n"
     ]
    }
   ],
   "source": [
    "print(\"Total H at point 2\")\n",
    "print(temp1 + temp2)"
   ]
  },
  {
   "cell_type": "code",
   "execution_count": 21,
   "metadata": {},
   "outputs": [
    {
     "data": {
      "text/plain": [
       "0.0005771329394576966"
      ]
     },
     "execution_count": 21,
     "metadata": {},
     "output_type": "execute_result"
    }
   ],
   "source": [
    "B2(98.923,34,29)"
   ]
  },
  {
   "cell_type": "code",
   "execution_count": null,
   "metadata": {},
   "outputs": [
    {
     "name": "stdout",
     "output_type": "stream",
     "text": [
      "H patient scatter shielded including B and T factors\n",
      "0.0067866431441343 mSv/wk\n"
     ]
    }
   ],
   "source": [
    "T_unattended_parking_lot = 1/40\n",
    "test = 88.4515\n",
    "test2 = 7.802745\n",
    "x = H_ps_unshielded(1500, 8.473706, 1, 2.77*10**-3, 1600)\n",
    "y = B1(76.2, 26)\n",
    "print('H patient scatter shielded including B and T factors')\n",
    "print(f\"{x*y*T_unattended_parking_lot} mSv/wk\")"
   ]
  },
  {
   "cell_type": "code",
   "execution_count": 23,
   "metadata": {},
   "outputs": [
    {
     "name": "stdout",
     "output_type": "stream",
     "text": [
      "H leakage shielded including B and T factors\n",
      "0.001384447682628563 mSv/wk\n"
     ]
    }
   ],
   "source": [
    "x2 = H_leak_unshielded(1500*2, 8.473706) \n",
    "B_wallA_leak = B2(test, 34, 29)\n",
    "print('H leakage shielded including B and T factors')\n",
    "print(f\"{x2*B_wallA_leak*T_unattended_parking_lot} mSv/wk\")"
   ]
  }
 ],
 "metadata": {
  "kernelspec": {
   "display_name": "Python 3",
   "language": "python",
   "name": "python3"
  },
  "language_info": {
   "codemirror_mode": {
    "name": "ipython",
    "version": 3
   },
   "file_extension": ".py",
   "mimetype": "text/x-python",
   "name": "python",
   "nbconvert_exporter": "python",
   "pygments_lexer": "ipython3",
   "version": "3.12.9"
  }
 },
 "nbformat": 4,
 "nbformat_minor": 2
}
