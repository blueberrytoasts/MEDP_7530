{
 "cells": [
  {
   "cell_type": "code",
   "execution_count": 2,
   "id": "4a7cdde1",
   "metadata": {},
   "outputs": [],
   "source": [
    "import math"
   ]
  },
  {
   "cell_type": "code",
   "execution_count": 3,
   "id": "c2d89546",
   "metadata": {},
   "outputs": [],
   "source": [
    "def B1(thickness, TVL): # Calculates B factor using only 1 TVL. Important for PATIENT SCATTER\n",
    "    '''\n",
    "    param thickness: thickness of barrier (cm)\n",
    "    param TVL: TVL (cm) where it is ALWAYS dependent on energy. Can also depend on the angle too\n",
    "    '''\n",
    "    B = 10**-(thickness/TVL)\n",
    "    return B\n",
    "\n",
    "def B2(thickness, TVL1, TVLe): # Calculates B factor using 2 TVLs. Important for LEAKAGE\n",
    "    '''\n",
    "    param thickness: thickness of barrier (cm)\n",
    "    param TVL1: first TVL (cm)\n",
    "    param TVLe: equilibrium TVL (cm)\n",
    "    '''\n",
    "    B = 10**-(1+((thickness-TVL1)/TVLe))\n",
    "    return B\n",
    "\n",
    "def H_ps_unshielded(W, d_secondary, d_scatter, a, F): # Calculates unshielded equivalent dose for PATIENT SCATTER\n",
    "    '''\n",
    "    param W: workload in a typical week (Gy/wk)\n",
    "    param d_secondary: distance from isocenter to the point of interest (cm). Includes the 0.3 m\n",
    "    param d_scatter: distance from target to isocenter. Usually 1 m\n",
    "    param a: scatter fraction dependent on angle (deg) and beam energy (MV)\n",
    "    param F: field size in cm^2\n",
    "    '''\n",
    "    H_ps_uns = (W * a * F) / (d_secondary**2 * d_scatter**2 * 400) * 10**3\n",
    "    return H_ps_uns # (mSv/wk)\n",
    "\n",
    "def H_leak_unshielded(W_L, d_leakage): # Calculates UNSHIELDED equivalent dose for LEAKAGE\n",
    "    '''\n",
    "    param W_L: leakage workload (Gy/wk)\n",
    "    param d_leakage: distance from source of leakage to point of protection (cm)\n",
    "    '''\n",
    "    H_leak_uns = ((W_L*10**-3) / d_leakage**2) * 10**3 # 10**-3 is the included barriers from the head and 10**3 converts Sv to mSv\n",
    "    return H_leak_uns # (mSv/wk)\n",
    "\n",
    "def convert_to_meters(foot,inches):\n",
    "    m = (foot * 12 * 2.54 + inches * 2.54) * 10e-3\n",
    "    return m\n",
    "\n",
    "def verify_2barrier(P, T, thickness,d,tvl_6mv_ps,tvl_18mv_ps,a_6mv,a_18mv):\n",
    "    '''\n",
    "    param P: design goal (mSv/wk)\n",
    "    param T: occupancy factor (unitless)\n",
    "    param thickness: thickness of barrier (cm)\n",
    "    param d: distance from target to 0.3m beyond distal surface (cm)\n",
    "    param tvl_6mv_ps: TVL for 6 MV (cm)\n",
    "    param tvl_18mv_ps: TVL for 18 MV (cm)\n",
    "    param a_6mv: scatter fraction for 6 MV \n",
    "    param a_18mv: scatter fraction for 18 MV\n",
    "    '''\n",
    "  \n",
    "    H_l_6mv = H_leak_unshielded(1990, d) * B2(thickness, 34, 29)\n",
    "    H_l_18mv = H_leak_unshielded(250, d) * B2(thickness, 36, 34)\n",
    "\n",
    "    H_ps_6mv = H_ps_unshielded(520, d, 1, a_6mv, 1600) * B1(thickness, tvl_6mv_ps)\n",
    "    H_ps_18mv = H_ps_unshielded(250, d, 1, a_18mv, 1600) * B1(thickness, tvl_18mv_ps)\n",
    "\n",
    "    H_total = H_ps_6mv + H_ps_18mv + H_l_6mv + H_l_18mv\n",
    "    \n",
    "    if H_total < P /T:\n",
    "        print(\"PASS\")\n",
    "    else:\n",
    "        print(\"FAIL\")\n",
    "    print(\"Total dose: \", H_total, \"mSv/wk\")\n",
    "    print(\"Dose limit: \", P / T, \"mSv/wk\")\n",
    "\n"
   ]
  },
  {
   "cell_type": "code",
   "execution_count": 4,
   "id": "b10bf4a1",
   "metadata": {},
   "outputs": [
    {
     "name": "stdout",
     "output_type": "stream",
     "text": [
      "PASS\n",
      "Total dose:  0.6394931153452919 mSv/wk\n",
      "Dose limit:  0.7999999999999999 mSv/wk\n"
     ]
    }
   ],
   "source": [
    "# Vault #1 Wall A Secondary Barrier\n",
    "# Worst case scenario of 33.37 deg barely grazing the edge of primary barrier\n",
    "# 8.57258 m distance\n",
    "verify_2barrier(0.02,(1/40),68.58,8.57258702,26,32,2.77e-3,2.53e-3)"
   ]
  },
  {
   "cell_type": "code",
   "execution_count": 5,
   "id": "5a8bcb58",
   "metadata": {},
   "outputs": [
    {
     "name": "stdout",
     "output_type": "stream",
     "text": [
      "PASS\n",
      "Total dose:  0.6313356226374781 mSv/wk\n",
      "Dose limit:  0.7999999999999999 mSv/wk\n"
     ]
    }
   ],
   "source": [
    "# Vault #1 Wall C Secondary Barrier\n",
    "# Worst case scenario of 33.92 deg barely grazing the edge of primary barrier\n",
    "# 8.627792 m distance\n",
    "verify_2barrier(0.02,(1/40),68.58,8.627792498,26,32,2.77e-3,2.53e-3)"
   ]
  },
  {
   "cell_type": "code",
   "execution_count": 6,
   "id": "a963d70d",
   "metadata": {},
   "outputs": [
    {
     "name": "stdout",
     "output_type": "stream",
     "text": [
      "PASS\n",
      "Total dose:  0.01994554665683441 mSv/wk\n",
      "Dose limit:  0.02 mSv/wk\n"
     ]
    }
   ],
   "source": [
    "# Vault #1 Wall B Secondary Barrier\n",
    "# Worst case scenario of 90 deg incidence\n",
    "verify_2barrier(0.02,1,106.9,convert_to_meters(20,11.81056),17,19,4.26e-4,1.89e-4)"
   ]
  },
  {
   "cell_type": "code",
   "execution_count": 7,
   "id": "3a953b25",
   "metadata": {},
   "outputs": [
    {
     "name": "stdout",
     "output_type": "stream",
     "text": [
      "PASS\n",
      "PASS\n",
      "PASS\n",
      "1.188090344765997\n",
      "maze height = 3.048 m\n",
      "maze width = 2.5654614679999996 m\n"
     ]
    }
   ],
   "source": [
    "# maze width\n",
    "maze_width = convert_to_meters(8,5.00242)\n",
    "# maze height\n",
    "maze_height = convert_to_meters(10,0)\n",
    "# dz\n",
    "dz = convert_to_meters(24,11.10850)\n",
    "# dzz\n",
    "dzz = convert_to_meters(33,11.99989)\n",
    "\n",
    "test1 = dz / (maze_width * maze_height)**0.5\n",
    "\n",
    "test2 = dzz / (maze_width * maze_height)**0.5\n",
    "\n",
    "if test1 < 6 and test1 > 2:\n",
    "    print('PASS')\n",
    "\n",
    "if test2 < 6 and test2 > 2:\n",
    "    print('PASS')\n",
    "\n",
    "if 1 < maze_height / maze_width and maze_height / maze_width < 2:\n",
    "    print('PASS')\n",
    "    print(maze_height/maze_width)\n",
    "\n",
    "print(f\"maze height = {maze_height} m\")\n",
    "print(f\"maze width = {maze_width} m\")\n"
   ]
  },
  {
   "cell_type": "code",
   "execution_count": 14,
   "id": "e82fe103",
   "metadata": {},
   "outputs": [
    {
     "name": "stdout",
     "output_type": "stream",
     "text": [
      "7.166858504979321\n"
     ]
    }
   ],
   "source": [
    "x=convert_to_meters(17,9.04728)\n",
    "\n",
    "y=convert_to_meters(15,5)\n",
    "\n",
    "hyp = (x**2 + y**2)**.5\n",
    "print(hyp)"
   ]
  },
  {
   "cell_type": "code",
   "execution_count": 16,
   "id": "e3a65492",
   "metadata": {},
   "outputs": [
    {
     "data": {
      "text/plain": [
       "5.249808905999999"
      ]
     },
     "execution_count": 16,
     "metadata": {},
     "output_type": "execute_result"
    }
   ],
   "source": [
    "convert_to_meters(17,2.68539)"
   ]
  },
  {
   "cell_type": "markdown",
   "id": "f7ebfe96",
   "metadata": {},
   "source": [
    "# Verification for Ceiling in Vault 1"
   ]
  },
  {
   "cell_type": "code",
   "execution_count": 24,
   "id": "5ca36fe4",
   "metadata": {},
   "outputs": [
    {
     "name": "stdout",
     "output_type": "stream",
     "text": [
      "95.8771514\n",
      "PASS\n",
      "Total dose:  0.23051605159644686 mSv/wk\n",
      "Dose limit:  0.7999999999999999 mSv/wk\n"
     ]
    }
   ],
   "source": [
    "# Worst case 34.79 degree scatter\n",
    "# It passes if we use oblique thickness\n",
    "testvalue = convert_to_meters(3,1.74691)*100 # cm\n",
    "print(testvalue)\n",
    "# Fails if we use the perpendicular thickness, 78.74 cm\n",
    "verify_2barrier(0.02,0.025,testvalue,convert_to_meters(16,2.59264),26,32,2.77e-3,2.53e-3)"
   ]
  }
 ],
 "metadata": {
  "kernelspec": {
   "display_name": "Python 3",
   "language": "python",
   "name": "python3"
  },
  "language_info": {
   "codemirror_mode": {
    "name": "ipython",
    "version": 3
   },
   "file_extension": ".py",
   "mimetype": "text/x-python",
   "name": "python",
   "nbconvert_exporter": "python",
   "pygments_lexer": "ipython3",
   "version": "3.12.2"
  }
 },
 "nbformat": 4,
 "nbformat_minor": 5
}
