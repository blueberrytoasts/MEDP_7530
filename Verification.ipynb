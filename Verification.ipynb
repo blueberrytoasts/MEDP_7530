{
 "cells": [
  {
   "cell_type": "code",
   "execution_count": 2,
   "id": "4a7cdde1",
   "metadata": {},
   "outputs": [],
   "source": [
    "import math"
   ]
  },
  {
   "cell_type": "code",
   "execution_count": 3,
   "id": "c2d89546",
   "metadata": {},
   "outputs": [],
   "source": [
    "def B1(thickness, TVL): # Calculates B factor using only 1 TVL. Important for PATIENT SCATTER\n",
    "    '''\n",
    "    param thickness: thickness of barrier (cm)\n",
    "    param TVL: TVL (cm) where it is ALWAYS dependent on energy. Can also depend on the angle too\n",
    "    '''\n",
    "    B = 10**-(thickness/TVL)\n",
    "    return B\n",
    "\n",
    "def B2(thickness, TVL1, TVLe): # Calculates B factor using 2 TVLs. Important for LEAKAGE\n",
    "    '''\n",
    "    param thickness: thickness of barrier (cm)\n",
    "    param TVL1: first TVL (cm)\n",
    "    param TVLe: equilibrium TVL (cm)\n",
    "    '''\n",
    "    B = 10**-(1+((thickness-TVL1)/TVLe))\n",
    "    return B\n",
    "\n",
    "def H_ps_unshielded(W, d_secondary, d_scatter, a, F): # Calculates unshielded equivalent dose for PATIENT SCATTER\n",
    "    '''\n",
    "    param W: workload in a typical week (Gy/wk)\n",
    "    param d_secondary: distance from isocenter to the point of interest (cm). Includes the 0.3 m\n",
    "    param d_scatter: distance from target to isocenter. Usually 1 m\n",
    "    param a: scatter fraction dependent on angle (deg) and beam energy (MV)\n",
    "    param F: field size in cm^2\n",
    "    '''\n",
    "    H_ps_uns = (W * a * F) / (d_secondary**2 * d_scatter**2 * 400) * 10**3\n",
    "    return H_ps_uns # (mSv/wk)\n",
    "\n",
    "def H_leak_unshielded(W_L, d_leakage): # Calculates UNSHIELDED equivalent dose for LEAKAGE\n",
    "    '''\n",
    "    param W_L: leakage workload (Gy/wk)\n",
    "    param d_leakage: distance from source of leakage to point of protection (cm)\n",
    "    '''\n",
    "    H_leak_uns = ((W_L*10**-3) / d_leakage**2) * 10**3 # 10**-3 is the included barriers from the head and 10**3 converts Sv to mSv\n",
    "    return H_leak_uns # (mSv/wk)\n",
    "\n",
    "def convert_to_meters(foot,inches):\n",
    "    m = (foot * 12 * 2.54 + inches * 2.54) * 10e-3\n",
    "    return m\n",
    "\n",
    "def verify_2barrier(P, T, thickness,d,tvl_6mv_ps,tvl_18mv_ps,a_6mv,a_18mv):\n",
    "    '''\n",
    "    param P: design goal (mSv/wk)\n",
    "    param T: occupancy factor (unitless)\n",
    "    param thickness: thickness of barrier (cm)\n",
    "    param d: distance from target to 0.3m beyond distal surface (cm)\n",
    "    param tvl_6mv_ps: TVL for 6 MV (cm)\n",
    "    param tvl_18mv_ps: TVL for 18 MV (cm)\n",
    "    param a_6mv: scatter fraction for 6 MV \n",
    "    param a_18mv: scatter fraction for 18 MV\n",
    "    '''\n",
    "  \n",
    "    H_l_6mv = H_leak_unshielded(1990, d) * B2(thickness, 34, 29)\n",
    "    H_l_18mv = H_leak_unshielded(250, d) * B2(thickness, 36, 34)\n",
    "\n",
    "    H_ps_6mv = H_ps_unshielded(520, d, 1, a_6mv, 1600) * B1(thickness, tvl_6mv_ps)\n",
    "    H_ps_18mv = H_ps_unshielded(250, d, 1, a_18mv, 1600) * B1(thickness, tvl_18mv_ps)\n",
    "\n",
    "    H_total = H_ps_6mv + H_ps_18mv + H_l_6mv + H_l_18mv\n",
    "    \n",
    "    if H_total < P /T:\n",
    "        print(\"PASS\")\n",
    "    else:\n",
    "        print(\"FAIL\")\n",
    "    print(\"Total dose: \", H_total, \"mSv/wk\")\n",
    "    print(\"Dose limit: \", P / T, \"mSv/wk\")\n",
    "    print(f\"Distance {d} m\")\n",
    "    print(f\"thickness used: {thickness} cm\")\n",
    "\n",
    "def verify_2barrier_vault2(P, T, thickness,d,tvl_6mv_ps,a_6mv):\n",
    "    '''\n",
    "    param P: design goal (mSv/wk)\n",
    "    param T: occupancy factor (unitless)\n",
    "    param thickness: thickness of barrier (cm)\n",
    "    param d: distance from target to 0.3m beyond distal surface (cm)\n",
    "    param tvl_6mv_ps: TVL for 6 MV (cm)\n",
    "    param a_6mv: scatter fraction for 6 MV \n",
    "    '''\n",
    "  \n",
    "    H_l_6mv = H_leak_unshielded(1435.5, d) * B2(thickness, 34, 29)\n",
    "\n",
    "    H_ps_6mv = H_ps_unshielded(319, d, 1, a_6mv, 400) * B1(thickness, tvl_6mv_ps)\n",
    "\n",
    "    H_total = H_ps_6mv + H_l_6mv \n",
    "    if H_total < P /T:\n",
    "        print(\"PASS\")\n",
    "    else:\n",
    "        print(\"FAIL\")\n",
    "    print(f\"H_ps_6mv: {H_ps_6mv} mSv/wk\")\n",
    "    print(f\"H_l_6mv: {H_l_6mv} mSv/wk\")\n",
    "    print(\"------------------------------------\")\n",
    "    print(\"Total dose: \", H_total, \"mSv/wk\")\n",
    "    print(\"Dose limit: \", P / T, \"mSv/wk\")\n",
    "    print('-------------------------------------------')\n",
    "    print(f\"Thickness used: {thickness} cm = {thickness /2.54} inches\")\n",
    "\n",
    "# Important note: thickness must be in centimeters."
   ]
  },
  {
   "cell_type": "code",
   "execution_count": 4,
   "id": "b10bf4a1",
   "metadata": {},
   "outputs": [
    {
     "name": "stdout",
     "output_type": "stream",
     "text": [
      "PASS\n",
      "Total dose:  0.6394931153452919 mSv/wk\n",
      "Dose limit:  0.7999999999999999 mSv/wk\n",
      "Distance 8.57258702 m\n",
      "thickness used: 68.58 cm\n"
     ]
    }
   ],
   "source": [
    "# Vault #1 Wall A Secondary Barrier\n",
    "# Worst case scenario of 33.37 deg barely grazing the edge of primary barrier\n",
    "# 8.57258 m distance\n",
    "# 2'3\"\n",
    "verify_2barrier(0.02,(1/40),68.58,8.57258702,26,32,2.77e-3,2.53e-3)"
   ]
  },
  {
   "cell_type": "code",
   "execution_count": 5,
   "id": "5a8bcb58",
   "metadata": {},
   "outputs": [
    {
     "name": "stdout",
     "output_type": "stream",
     "text": [
      "PASS\n",
      "Total dose:  0.12966064256015258 mSv/wk\n",
      "Dose limit:  0.7999999999999999 mSv/wk\n",
      "Distance 8.627792498 m\n",
      "thickness used: 88.9 cm\n"
     ]
    }
   ],
   "source": [
    "# Vault #1 Wall C Secondary Barrier\n",
    "# Worst case scenario of 33.92 deg barely grazing the edge of primary barrier\n",
    "# 8.627792 m distance\n",
    "# 2'11\" = 88.9 cm\n",
    "\n",
    "verify_2barrier(0.02,(1/40),convert_to_meters(2,11)*100,8.627792498,26,32,2.77e-3,2.53e-3)"
   ]
  },
  {
   "cell_type": "code",
   "execution_count": 6,
   "id": "a963d70d",
   "metadata": {},
   "outputs": [
    {
     "name": "stdout",
     "output_type": "stream",
     "text": [
      "PASS\n",
      "Total dose:  0.016702701784852704 mSv/wk\n",
      "Dose limit:  0.02 mSv/wk\n",
      "Distance 6.395988224 m\n",
      "thickness used: 109.22 cm\n"
     ]
    }
   ],
   "source": [
    "# Vault #1 Wall B Secondary Barrier\n",
    "# Worst case scenario of 90 deg incidence\n",
    "# 3'7\" = 109.22 cm\n",
    "verify_2barrier(0.02,1,convert_to_meters(3,7)*100,convert_to_meters(20,11.81056),17,19,4.26e-4,1.89e-4)"
   ]
  },
  {
   "cell_type": "markdown",
   "id": "56f74776",
   "metadata": {},
   "source": [
    "# Vault # 1: Projected distance for calculating the ceiling primary barrier width"
   ]
  },
  {
   "cell_type": "code",
   "execution_count": 7,
   "id": "e82fe103",
   "metadata": {},
   "outputs": [
    {
     "name": "stdout",
     "output_type": "stream",
     "text": [
      "Projected distance for ceiling 1 barrier width = 8.16685850497932 m\n",
      "Ceiling width = 5.219872823889526 m = 205.50680409013881 inches\n"
     ]
    }
   ],
   "source": [
    "x=convert_to_meters(17,9.04728)\n",
    "y=convert_to_meters(15,5)\n",
    "\n",
    "hyp = (x**2 + y**2)**.5\n",
    "print(f\"Projected distance for ceiling 1 barrier width = {hyp + 1} m\")\n",
    "ceiling_width = 0.4 * math.sqrt(2) * (hyp + 1) + 0.6\n",
    "print(f\"Ceiling width = {ceiling_width} m = {ceiling_width*100/2.54} inches\")"
   ]
  },
  {
   "cell_type": "markdown",
   "id": "02398490",
   "metadata": {},
   "source": [
    "# Vault 2: Projected distance for calculating the ceiling primary barrier width \n",
    "\n",
    "height = 13'-11' and\n",
    "iso to proximal surface of wall C = 22'-6\""
   ]
  },
  {
   "cell_type": "code",
   "execution_count": 8,
   "id": "3632753d",
   "metadata": {},
   "outputs": [
    {
     "name": "stdout",
     "output_type": "stream",
     "text": [
      "Projected distance for ceiling 1 barrier width = 9.063809970479216 m\n",
      "Ceiling width = 3.1636325974048387 m = 124.55246446475743 inches\n"
     ]
    }
   ],
   "source": [
    "x2 = convert_to_meters(22,6)\n",
    "y2 = convert_to_meters(13,11)\n",
    "\n",
    "hyp2 = (x2**2+y2**2)**0.5\n",
    "print(f\"Projected distance for ceiling 1 barrier width = {hyp2 + 1} m\")\n",
    "ceiling_width_vault2 = 0.2 * math.sqrt(2) * (hyp2 + 1) + 0.6\n",
    "print(f\"Ceiling width = {ceiling_width_vault2} m = {ceiling_width_vault2*100/2.54} inches\")\n"
   ]
  },
  {
   "cell_type": "markdown",
   "id": "f7ebfe96",
   "metadata": {},
   "source": [
    "# Vault 1: Verification for Ceiling Secondary Radiation"
   ]
  },
  {
   "cell_type": "code",
   "execution_count": 9,
   "id": "5ca36fe4",
   "metadata": {},
   "outputs": [
    {
     "name": "stdout",
     "output_type": "stream",
     "text": [
      "95.8771514\n",
      "PASS\n",
      "Total dose:  0.23051605159644686 mSv/wk\n",
      "Dose limit:  0.7999999999999999 mSv/wk\n",
      "Distance 4.942653056 m\n",
      "thickness used: 95.8771514 cm\n"
     ]
    }
   ],
   "source": [
    "# Worst case 34.79 degree scatter\n",
    "# It passes if we use oblique thickness\n",
    "testvalue = convert_to_meters(3,1.74691)*100 # cm\n",
    "print(testvalue)\n",
    "# Fails if we use the perpendicular thickness, 78.74 cm\n",
    "verify_2barrier(0.02,0.025,testvalue,convert_to_meters(16,2.59264),26,32,2.77e-3,2.53e-3)"
   ]
  },
  {
   "cell_type": "markdown",
   "id": "8038a5e6",
   "metadata": {},
   "source": [
    "# Vault 2: Verification for Ceiling Secondary Radiation\n",
    "\n",
    "Oblique thickness was used. A guess-and-check method was used (iterative method). A line was drawn to intersect through the primarry barrier at 24 degrees."
   ]
  },
  {
   "cell_type": "code",
   "execution_count": 15,
   "id": "f1b0f026",
   "metadata": {},
   "outputs": [
    {
     "name": "stdout",
     "output_type": "stream",
     "text": [
      "PASS\n",
      "H_ps_6mv: 0.3815546843639258 mSv/wk\n",
      "H_l_6mv: 0.36116910170480987 mSv/wk\n",
      "------------------------------------\n",
      "Total dose:  0.7427237860687357 mSv/wk\n",
      "Dose limit:  0.7999999999999999 mSv/wk\n",
      "-------------------------------------------\n",
      "Thickness used: 4.2314078440000005 cm = 1.6659086 inches\n"
     ]
    }
   ],
   "source": [
    "# Worst case 24.00 degree scatter\n",
    "d_ceil_vault2 = convert_to_meters(13,10.59086)\n",
    "\n",
    "verify_2barrier_vault2(0.02,0.025,d_ceil_vault2, convert_to_meters(2,1.58964)*100,34,6.73e-3)"
   ]
  },
  {
   "cell_type": "markdown",
   "id": "a76f6617",
   "metadata": {},
   "source": [
    "# Vault 2: Verification with only Wall Z such that it barely grazes IMW - Storage Room\n",
    "\n",
    "We will use the storage room as a controlled area since it is adjacent to the treatment room and exposure must be monitored closely. Also notice that the storage area can only be accessed through the LINAC controle console, which is guaranteed to be a controlled area..."
   ]
  },
  {
   "cell_type": "code",
   "execution_count": 10,
   "id": "0484d0d5",
   "metadata": {},
   "outputs": [
    {
     "name": "stdout",
     "output_type": "stream",
     "text": [
      "11.238081664 m\n",
      "PASS\n",
      "H_ps_6mv: 0.028000142811191325 mSv/wk\n",
      "H_l_6mv: 0.3663487310404552 mSv/wk\n",
      "------------------------------------\n",
      "Total dose:  0.3943488738516465 mSv/wk\n",
      "Dose limit:  2.0 mSv/wk\n",
      "-------------------------------------------\n",
      "Thickness used: 48.260000000000005 cm = 19.0 inches\n",
      "----------------------------\n",
      "Storage areas use T = 1/20\n"
     ]
    }
   ],
   "source": [
    "# Worst case 57.18 scatter angle where it does not touch IMW\n",
    "testvalue2 = convert_to_meters(36,10.44416) # m\n",
    "print(f\"{testvalue2} m\")\n",
    "verify_2barrier_vault2(0.1, 1/20, convert_to_meters(1,7)*100,testvalue2,23,1.39e-3)\n",
    "print('----------------------------')\n",
    "print(\"Storage areas use T = 1/20\")"
   ]
  },
  {
   "cell_type": "markdown",
   "id": "e2442746",
   "metadata": {},
   "source": [
    "# Vault 2: Verification where it passes through corner of Wall Z, giving the smallest scatter angle - Storage Room\n",
    "\n",
    "We will use the storage room as a controlled area since it is adjacent to the treatment room and exposure must be monitored closely. Also notice that the storage area can only be accessed through the LINAC controle console, which is guaranteed to be a controlled area..."
   ]
  },
  {
   "cell_type": "code",
   "execution_count": 11,
   "id": "ee24f7fc",
   "metadata": {},
   "outputs": [
    {
     "name": "stdout",
     "output_type": "stream",
     "text": [
      "PASS\n",
      "H_ps_6mv: 0.02614984408250735 mSv/wk\n",
      "H_l_6mv: 0.3421397619694756 mSv/wk\n",
      "------------------------------------\n",
      "Total dose:  0.36828960605198297 mSv/wk\n",
      "Dose limit:  2.0 mSv/wk\n",
      "-------------------------------------------\n",
      "Thickness used: 48.260000000000005 cm = 19.0 inches\n"
     ]
    }
   ],
   "source": [
    "# 54.30 deg scatter \n",
    "d_wallz_vault2_corner = convert_to_meters(38,1.82978)\n",
    "verify_2barrier_vault2(0.1,1/20,convert_to_meters(1,7)*100,d_wallz_vault2_corner,23,1.39e-3)"
   ]
  },
  {
   "cell_type": "markdown",
   "id": "19d75332",
   "metadata": {},
   "source": [
    "# Vault 1: Verification with only Wall Z such that it barely grazes IMW - QA Room"
   ]
  },
  {
   "cell_type": "markdown",
   "id": "0f84f2e1",
   "metadata": {},
   "source": [
    "P = controlled -> Only workers that are specifically trained in using ionizing radiation are allowed. A medical physics resident was consulted at MBPCC and informed that it is mainly a storage area where they come and go in minutes. A simple storage area.\n",
    "\n",
    "Because it is adjacent to the treatment room, exposure should be monitored closely, and thus, access is limited for radiation protection purposes.\n",
    "\n",
    "T = 1/5. 5 hrs/wk is very conservative. \n",
    "\n",
    "Oblique thickness is used."
   ]
  },
  {
   "cell_type": "code",
   "execution_count": 12,
   "id": "0fa86518",
   "metadata": {},
   "outputs": [
    {
     "name": "stdout",
     "output_type": "stream",
     "text": [
      "d_wallz_vault1 = 11.223550324 m\n",
      "PASS\n",
      "Total dose:  0.4191835529118715 mSv/wk\n",
      "Dose limit:  0.8 mSv/wk\n",
      "Distance 11.223550324 m\n",
      "thickness used: 57.3556638 cm\n"
     ]
    }
   ],
   "source": [
    "# Worst case 57.29 deg scatter angle\n",
    "\n",
    "d_wallz_vault1 = convert_to_meters(36,9.87206)\n",
    "print(f\"d_wallz_vault1 = {d_wallz_vault1} m\")\n",
    "verify_2barrier(0.1,1/8,convert_to_meters(1,10.58097)*100,d_wallz_vault1,23,27,1.39e-3,8.64e-4)"
   ]
  },
  {
   "cell_type": "markdown",
   "id": "d01bc38e",
   "metadata": {},
   "source": [
    "# Vault 1: Verification with Wall Z through the corner - QA Room\n",
    "\n",
    "Oblique thickness is used with worst case 54.42 deg scatter angle. Same logic for P and T as above"
   ]
  },
  {
   "cell_type": "code",
   "execution_count": 13,
   "id": "a19e9597",
   "metadata": {},
   "outputs": [
    {
     "name": "stdout",
     "output_type": "stream",
     "text": [
      "PASS\n",
      "Total dose:  0.5058977504942629 mSv/wk\n",
      "Dose limit:  0.8 mSv/wk\n",
      "Distance 9.444046898 m\n",
      "thickness used: 59.2643468 cm\n"
     ]
    }
   ],
   "source": [
    "# Worst case 54.52 deg scatter angle\n",
    "# P = controlled\n",
    "# T = 1/8 \n",
    "\n",
    "d_wallz_vault1_corner = convert_to_meters(30,11.81287)\n",
    "verify_2barrier(0.1,1/8,convert_to_meters(1,11.33242)*100,d_wallz_vault1_corner,23,27,1.39e-3,8.64e-4)"
   ]
  }
 ],
 "metadata": {
  "kernelspec": {
   "display_name": "Python 3",
   "language": "python",
   "name": "python3"
  },
  "language_info": {
   "codemirror_mode": {
    "name": "ipython",
    "version": 3
   },
   "file_extension": ".py",
   "mimetype": "text/x-python",
   "name": "python",
   "nbconvert_exporter": "python",
   "pygments_lexer": "ipython3",
   "version": "3.12.2"
  }
 },
 "nbformat": 4,
 "nbformat_minor": 5
}
