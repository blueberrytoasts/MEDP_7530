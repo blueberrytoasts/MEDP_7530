{
 "cells": [
  {
   "cell_type": "code",
   "execution_count": 68,
   "id": "4a7cdde1",
   "metadata": {},
   "outputs": [],
   "source": [
    "import math"
   ]
  },
  {
   "cell_type": "code",
   "execution_count": 77,
   "id": "c2d89546",
   "metadata": {},
   "outputs": [],
   "source": [
    "def B1(thickness, TVL): # Calculates B factor using only 1 TVL. Important for PATIENT SCATTER\n",
    "    '''\n",
    "    param thickness: thickness of barrier (cm)\n",
    "    param TVL: TVL (cm) where it is ALWAYS dependent on energy. Can also depend on the angle too\n",
    "    '''\n",
    "    B = 10**-(thickness/TVL)\n",
    "    return B\n",
    "\n",
    "def B2(thickness, TVL1, TVLe): # Calculates B factor using 2 TVLs. Important for LEAKAGE\n",
    "    '''\n",
    "    param thickness: thickness of barrier (cm)\n",
    "    param TVL1: first TVL (cm)\n",
    "    param TVLe: equilibrium TVL (cm)\n",
    "    '''\n",
    "    B = 10**-(1+((thickness-TVL1)/TVLe))\n",
    "    return B\n",
    "\n",
    "def H_ps_unshielded(W, d_secondary, d_scatter, a, F): # Calculates unshielded equivalent dose for PATIENT SCATTER\n",
    "    '''\n",
    "    param W: workload in a typical week (Gy/wk)\n",
    "    param d_secondary: distance from isocenter to the point of interest (cm). Includes the 0.3 m\n",
    "    param d_scatter: distance from target to isocenter. Usually 1 m\n",
    "    param a: scatter fraction dependent on angle (deg) and beam energy (MV)\n",
    "    param F: field size in cm^2\n",
    "    '''\n",
    "    H_ps_uns = (W * a * F) / (d_secondary**2 * d_scatter**2 * 400) * 10**3\n",
    "    return H_ps_uns # (mSv/wk)\n",
    "\n",
    "def H_leak_unshielded(W_L, d_leakage): # Calculates UNSHIELDED equivalent dose for LEAKAGE\n",
    "    '''\n",
    "    param W_L: leakage workload (Gy/wk)\n",
    "    param d_leakage: distance from source of leakage to point of protection (cm)\n",
    "    '''\n",
    "    H_leak_uns = ((W_L*10**-3) / d_leakage**2) * 10**3 # 10**-3 is the included barriers from the head and 10**3 converts Sv to mSv\n",
    "    return H_leak_uns # (mSv/wk)\n",
    "\n",
    "def convert_to_meters(foot,inches):\n",
    "    m = (foot * 12 * 2.54 + inches * 2.54) * 10e-3\n",
    "    return m\n",
    "\n",
    "def verify_2barrier(P, T, thickness,d,tvl_6mv_ps,tvl_18mv_ps,a_6mv,a_18mv):\n",
    "    '''\n",
    "    param P: design goal (mSv/wk)\n",
    "    param T: occupancy factor (unitless)\n",
    "    param thickness: thickness of barrier (cm)\n",
    "    param d: distance from target to 0.3m beyond distal surface (cm)\n",
    "    param tvl_6mv_ps: TVL for 6 MV (cm)\n",
    "    param tvl_18mv_ps: TVL for 18 MV (cm)\n",
    "    param a_6mv: scatter fraction for 6 MV \n",
    "    param a_18mv: scatter fraction for 18 MV\n",
    "    '''\n",
    "  \n",
    "    H_l_6mv = H_leak_unshielded(1990, d) * B2(thickness, 34, 29)\n",
    "    H_l_18mv = H_leak_unshielded(250, d) * B2(thickness, 36, 34)\n",
    "\n",
    "    H_ps_6mv = H_ps_unshielded(520, d, 1, a_6mv, 1600) * B1(thickness, tvl_6mv_ps)\n",
    "    H_ps_18mv = H_ps_unshielded(250, d, 1, a_18mv, 1600) * B1(thickness, tvl_18mv_ps)\n",
    "\n",
    "    H_total = H_ps_6mv + H_ps_18mv + H_l_6mv + H_l_18mv\n",
    "    \n",
    "    if H_total < P /T:\n",
    "        print(\"PASS\")\n",
    "    else:\n",
    "        print(\"FAIL\")\n",
    "    print(\"Total dose: \", H_total, \"mSv/wk\")\n",
    "    print(\"Dose limit: \", P / T, \"mSv/wk\")\n",
    "    print(f\"Thickness used: {thickness} cm = {thickness /2.54} inches\")\n",
    "    print(f\"distance from target to 0.3m beyond distal surface: {d} m\")\n",
    "\n",
    "# Important note: thickness must be in centimeters.\n",
    "\n",
    "def verify_2barrier_vault2(P, T, thickness,d,tvl_6mv_ps,a_6mv):\n",
    "    '''\n",
    "    param P: design goal (mSv/wk)\n",
    "    param T: occupancy factor (unitless)\n",
    "    param thickness: thickness of barrier (cm)\n",
    "    param d: distance from target to 0.3m beyond distal surface (cm)\n",
    "    param tvl_6mv_ps: TVL for 6 MV (cm)\n",
    "    param a_6mv: scatter fraction for 6 MV \n",
    "    '''\n",
    "  \n",
    "    H_l_6mv = H_leak_unshielded(1435.5, d) * B2(thickness, 34, 29)\n",
    "\n",
    "    H_ps_6mv = H_ps_unshielded(319, d, 1, a_6mv, 400) * B1(thickness, tvl_6mv_ps)\n",
    "\n",
    "    H_total = H_ps_6mv + H_l_6mv \n",
    "    if H_total < P /T:\n",
    "        print(\"PASS\")\n",
    "    else:\n",
    "        print(\"FAIL\")\n",
    "    print(\"Total dose: \", H_total, \"mSv/wk\")\n",
    "    print(\"Dose limit: \", P / T, \"mSv/wk\")\n",
    "    print(f\"Thickness used: {thickness} cm = {thickness /2.54} inches\")\n",
    "\n",
    "# Important note: thickness must be in centimeters."
   ]
  },
  {
   "cell_type": "markdown",
   "id": "14a5f973",
   "metadata": {},
   "source": [
    "# Verification of the point just outside the door"
   ]
  },
  {
   "cell_type": "code",
   "execution_count": 70,
   "id": "7241b16a",
   "metadata": {},
   "outputs": [
    {
     "name": "stdout",
     "output_type": "stream",
     "text": [
      "PASS\n",
      "Total dose:  0.0963030524558548 mSv/wk\n",
      "Dose limit:  0.1 mSv/wk\n",
      "Thickness used: 85.09 cm = 33.5 inches\n",
      "distance from target to 0.3m beyond distal surface: 7.578673946 m\n"
     ]
    }
   ],
   "source": [
    "# P = 0.1 mSv/wk\n",
    "# T = 1 \n",
    "# NCRP lists occupancy outside a door as 1/8, but we can be conservtative and use T=1\n",
    "thickness_IMW = convert_to_meters(2,9.5) * 100 # convert to cm\n",
    "test = thickness_IMW / math.cos(math.radians(23.54)) # corrected thickness for 23.54 degrees\n",
    "\n",
    "verify_2barrier(0.1,1, thickness_IMW, 7.578673946, 23, 27, 1.39e-3,8.64e-4)"
   ]
  },
  {
   "cell_type": "markdown",
   "id": "4a8330c7",
   "metadata": {},
   "source": [
    "# Vault #1 Wall A, Secondary Barrier"
   ]
  },
  {
   "cell_type": "code",
   "execution_count": 71,
   "id": "b10bf4a1",
   "metadata": {},
   "outputs": [
    {
     "name": "stdout",
     "output_type": "stream",
     "text": [
      "PASS\n",
      "Total dose:  0.6394931153452919 mSv/wk\n",
      "Dose limit:  0.7999999999999999 mSv/wk\n",
      "Thickness used: 68.58 cm = 27.0 inches\n",
      "distance from target to 0.3m beyond distal surface: 8.57258702 m\n"
     ]
    }
   ],
   "source": [
    "# Worst case scenario of 33.37 deg barely grazing the edge of primary barrier\n",
    "# 8.57258 m distance\n",
    "#2'-3\" = 2.25 ft = 68.58 cm\n",
    "verify_2barrier(0.02,(1/40),68.58,8.57258702,26,32,2.77e-3,2.53e-3)"
   ]
  },
  {
   "cell_type": "markdown",
   "id": "c62992d2",
   "metadata": {},
   "source": [
    "# Vault #1 Wall C, Secondary Barrier"
   ]
  },
  {
   "cell_type": "code",
   "execution_count": 72,
   "id": "5a8bcb58",
   "metadata": {},
   "outputs": [
    {
     "name": "stdout",
     "output_type": "stream",
     "text": [
      "PASS\n",
      "Total dose:  0.13016439261202056 mSv/wk\n",
      "Dose limit:  0.2 mSv/wk\n",
      "Thickness used: 88.9 cm = 35.0 inches\n",
      "distance from target to 0.3m beyond distal surface: 8.611081076000001 m\n"
     ]
    }
   ],
   "source": [
    "# Worst case scenario of 33.76 deg barely grazing the edge of primary barrier\n",
    "verify_2barrier(0.1,(1/2),convert_to_meters(2,11) * 100,convert_to_meters(28,3.01894),26,32,2.77e-3,2.53e-3)"
   ]
  },
  {
   "cell_type": "markdown",
   "id": "9874985f",
   "metadata": {},
   "source": [
    "# Vault #1 Wall B, Secondary Barrier"
   ]
  },
  {
   "cell_type": "code",
   "execution_count": 73,
   "id": "a963d70d",
   "metadata": {},
   "outputs": [
    {
     "name": "stdout",
     "output_type": "stream",
     "text": [
      "PASS\n",
      "Total dose:  0.01994554665683441 mSv/wk\n",
      "Dose limit:  0.02 mSv/wk\n",
      "Thickness used: 106.9 cm = 42.08661417322835 inches\n",
      "distance from target to 0.3m beyond distal surface: 6.395988224 m\n"
     ]
    }
   ],
   "source": [
    "# Worst case scenario of 90 deg scattering\n",
    "verify_2barrier(0.02,1,106.9,convert_to_meters(20,11.81056),17,19,4.26e-4,1.89e-4)"
   ]
  },
  {
   "cell_type": "markdown",
   "id": "47efb189",
   "metadata": {},
   "source": [
    "# Vault # 2 Wall C, Secondary Barrier"
   ]
  },
  {
   "cell_type": "code",
   "execution_count": 78,
   "id": "6a678cfa",
   "metadata": {},
   "outputs": [
    {
     "name": "stdout",
     "output_type": "stream",
     "text": [
      "PASS\n",
      "Total dose:  0.09173865344551867 mSv/wk\n",
      "Dose limit:  0.2 mSv/wk\n",
      "Thickness used: 88.9 cm = 35.0 inches\n",
      "-------\n",
      "PASS\n",
      "Total dose:  0.061249113192355945 mSv/wk\n",
      "Dose limit:  0.2 mSv/wk\n",
      "Thickness used: 94.615 cm = 37.25 inches\n",
      "-------\n",
      "PASS\n",
      "Total dose:  0.0506659809864869 mSv/wk\n",
      "Dose limit:  0.2 mSv/wk\n",
      "Thickness used: 97.3025486 cm = 38.30809 inches\n",
      "Above calculation uses the oblique thickness.\n"
     ]
    }
   ],
   "source": [
    "# Worst case scenario of 23.99 deg scatter\n",
    "# perpendicular thickness used instead of olblique thickness\n",
    "verify_2barrier_vault2(0.1,(1/2), 88.9, convert_to_meters(28,9.11344,), 34, 6.73e-3)\n",
    "print(\"-------\")\n",
    "verify_2barrier_vault2(0.1,(1/2), 94.615, convert_to_meters(28,9.11344,), 34, 6.73e-3)\n",
    "print(\"-------\")\n",
    "verify_2barrier_vault2(0.1,(1/2), convert_to_meters(3,2.30809) * 100, convert_to_meters(28,9.11344,), 34, 6.73e-3)\n",
    "print(\"Above calculation uses the oblique thickness.\")"
   ]
  },
  {
   "cell_type": "markdown",
   "id": "8966c0e3",
   "metadata": {},
   "source": [
    "Our secondary barrier in Vault #1, 2'-9.5\" = 88.9 cm, is not enough to shield this secondary beam. Thus, we will use 94.615 cm = 37 1/4\" in the secondary barrier.\n",
    "\n",
    "This means that we must add 3.75\" of extra concrete into the Vault #2."
   ]
  },
  {
   "cell_type": "code",
   "execution_count": 79,
   "id": "8acf79fe",
   "metadata": {},
   "outputs": [
    {
     "data": {
      "text/plain": [
       "6.395969428000001"
      ]
     },
     "execution_count": 79,
     "metadata": {},
     "output_type": "execute_result"
    }
   ],
   "source": [
    "convert_to_meters(20,11.80982)"
   ]
  }
 ],
 "metadata": {
  "kernelspec": {
   "display_name": "Python 3",
   "language": "python",
   "name": "python3"
  },
  "language_info": {
   "codemirror_mode": {
    "name": "ipython",
    "version": 3
   },
   "file_extension": ".py",
   "mimetype": "text/x-python",
   "name": "python",
   "nbconvert_exporter": "python",
   "pygments_lexer": "ipython3",
   "version": "3.13.0"
  }
 },
 "nbformat": 4,
 "nbformat_minor": 5
}
