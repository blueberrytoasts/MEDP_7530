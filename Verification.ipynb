{
 "cells": [
  {
   "cell_type": "code",
   "execution_count": 1,
   "id": "4a7cdde1",
   "metadata": {},
   "outputs": [],
   "source": [
    "import math"
   ]
  },
  {
   "cell_type": "code",
   "execution_count": 9,
   "id": "c2d89546",
   "metadata": {},
   "outputs": [],
   "source": [
    "def B1(thickness, TVL): # Calculates B factor using only 1 TVL. Important for PATIENT SCATTER\n",
    "    '''\n",
    "    param thickness: thickness of barrier (cm)\n",
    "    param TVL: TVL (cm) where it is ALWAYS dependent on energy. Can also depend on the angle too\n",
    "    '''\n",
    "    B = 10**-(thickness/TVL)\n",
    "    return B\n",
    "\n",
    "def B2(thickness, TVL1, TVLe): # Calculates B factor using 2 TVLs. Important for LEAKAGE\n",
    "    '''\n",
    "    param thickness: thickness of barrier (cm)\n",
    "    param TVL1: first TVL (cm)\n",
    "    param TVLe: equilibrium TVL (cm)\n",
    "    '''\n",
    "    B = 10**-(1+((thickness-TVL1)/TVLe))\n",
    "    return B\n",
    "\n",
    "def H_ps_unshielded(W, d_secondary, d_scatter, a, F): # Calculates unshielded equivalent dose for PATIENT SCATTER\n",
    "    '''\n",
    "    param W: workload in a typical week (Gy/wk)\n",
    "    param d_secondary: distance from isocenter to the point of interest (cm). Includes the 0.3 m\n",
    "    param d_scatter: distance from target to isocenter. Usually 1 m\n",
    "    param a: scatter fraction dependent on angle (deg) and beam energy (MV)\n",
    "    param F: field size in cm^2\n",
    "    '''\n",
    "    H_ps_uns = (W * a * F) / (d_secondary**2 * d_scatter**2 * 400) * 10**3\n",
    "    return H_ps_uns # (mSv/wk)\n",
    "\n",
    "def H_ps_shielded(B1, H_ps_unshielded): # Determines SHIELDED equivalent dose for patient scatter\n",
    "    H_ps_s = B1 * H_ps_unshielded\n",
    "    return H_ps_s # (mSv/wk)\n",
    "\n",
    "def H_leak_unshielded(W_L, d_leakage): # Calculates UNSHIELDED equivalent dose for LEAKAGE\n",
    "    '''\n",
    "    param W_L: leakage workload (Gy/wk)\n",
    "    param d_leakage: distance from source of leakage to point of protection (cm)\n",
    "    '''\n",
    "    H_leak_uns = ((W_L*10**-3) / d_leakage**2) * 10**3 # 10**-3 is the included barriers from the head and 10**3 converts Sv to mSv\n",
    "    return H_leak_uns # (mSv/wk)\n",
    "\n",
    "def H_leak_shielded(B2, H_leak_unshielded): # Determines SHIELDED equivalent dose for LEAKAGE\n",
    "    H_leak_s = B2 * H_leak_unshielded\n",
    "    return H_leak_s # (mSv/wk)\n",
    "\n",
    "def convert_to_meters(foot,inches):\n",
    "    m = (foot * 12 * 2.54 + inches * 2.54) * 10e-3\n",
    "    return m\n"
   ]
  },
  {
   "cell_type": "code",
   "execution_count": 7,
   "id": "7a040067",
   "metadata": {},
   "outputs": [
    {
     "name": "stdout",
     "output_type": "stream",
     "text": [
      "0.018190183156285226\n"
     ]
    }
   ],
   "source": [
    "test = H_leak_shielded(B2(101.3,36,34), H_leak_unshielded(250,7.6698)) * (1/40)\n",
    "test2 = H_leak_shielded(B2(101.3,34,29), H_leak_unshielded(1990,7.6698)) * (1/40)\n",
    "test3 = H_ps_shielded(B1(101.3,34), H_ps_unshielded(520,7.6698,1,6.73e-3,1600)) * (1/40)\n",
    "test4 = H_ps_shielded(B1(101.3,44), H_ps_unshielded(250,7.6698,1,5.39e-3,1600)) * (1/40)\n",
    "\n",
    "total2 = test + test2 + test3 + test4\n",
    "print(total2)"
   ]
  },
  {
   "cell_type": "code",
   "execution_count": 25,
   "id": "b13dcc36",
   "metadata": {},
   "outputs": [
    {
     "data": {
      "text/plain": [
       "7.1592004644"
      ]
     },
     "execution_count": 25,
     "metadata": {},
     "output_type": "execute_result"
    }
   ],
   "source": [
    "convert_to_meters(23,5.858286)"
   ]
  },
  {
   "cell_type": "code",
   "execution_count": 27,
   "id": "09692236",
   "metadata": {},
   "outputs": [
    {
     "data": {
      "text/plain": [
       "7.6923160606000005"
      ]
     },
     "execution_count": 27,
     "metadata": {},
     "output_type": "execute_result"
    }
   ],
   "source": [
    "convert_to_meters(25,2.847089)"
   ]
  },
  {
   "cell_type": "code",
   "execution_count": 34,
   "id": "8d5c119a",
   "metadata": {},
   "outputs": [
    {
     "data": {
      "text/plain": [
       "7.299382658"
      ]
     },
     "execution_count": 34,
     "metadata": {},
     "output_type": "execute_result"
    }
   ],
   "source": [
    "# Wall A 20 degree patient scatter\n",
    "# Does not include 0.3 m\n",
    "convert_to_meters(23,11.37727)"
   ]
  },
  {
   "cell_type": "code",
   "execution_count": 37,
   "id": "db6f589f",
   "metadata": {},
   "outputs": [
    {
     "data": {
      "text/plain": [
       "7.618689074000001"
      ]
     },
     "execution_count": 37,
     "metadata": {},
     "output_type": "execute_result"
    }
   ],
   "source": [
    "# Wall C 20 degree patient scatter\n",
    "# Does not include 0.3 m\n",
    "convert_to_meters(23,11.37936) + .31925333"
   ]
  },
  {
   "cell_type": "code",
   "execution_count": 39,
   "id": "a3c7e134",
   "metadata": {},
   "outputs": [
    {
     "data": {
      "text/plain": [
       "6.859229106000001"
      ]
     },
     "execution_count": 39,
     "metadata": {},
     "output_type": "execute_result"
    }
   ],
   "source": [
    "convert_to_meters(22,6.04839)"
   ]
  },
  {
   "cell_type": "code",
   "execution_count": 40,
   "id": "2e763659",
   "metadata": {},
   "outputs": [
    {
     "data": {
      "text/plain": [
       "6.395969266"
      ]
     },
     "execution_count": 40,
     "metadata": {},
     "output_type": "execute_result"
    }
   ],
   "source": [
    "# Wall B d_secondary and d_leakage\n",
    "convert_to_meters(19,11.99879) + 0.3 # m"
   ]
  }
 ],
 "metadata": {
  "kernelspec": {
   "display_name": "Python 3",
   "language": "python",
   "name": "python3"
  },
  "language_info": {
   "codemirror_mode": {
    "name": "ipython",
    "version": 3
   },
   "file_extension": ".py",
   "mimetype": "text/x-python",
   "name": "python",
   "nbconvert_exporter": "python",
   "pygments_lexer": "ipython3",
   "version": "3.12.10"
  }
 },
 "nbformat": 4,
 "nbformat_minor": 5
}
