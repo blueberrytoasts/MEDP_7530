{
 "cells": [
  {
   "cell_type": "code",
   "execution_count": 2,
   "id": "4a7cdde1",
   "metadata": {},
   "outputs": [],
   "source": [
    "import math"
   ]
  },
  {
   "cell_type": "code",
   "execution_count": 30,
   "id": "c2d89546",
   "metadata": {},
   "outputs": [],
   "source": [
    "def B1(thickness, TVL): # Calculates B factor using only 1 TVL. Important for PATIENT SCATTER\n",
    "    '''\n",
    "    param thickness: thickness of barrier (cm)\n",
    "    param TVL: TVL (cm) where it is ALWAYS dependent on energy. Can also depend on the angle too\n",
    "    '''\n",
    "    B = 10**-(thickness/TVL)\n",
    "    return B\n",
    "\n",
    "def B2(thickness, TVL1, TVLe): # Calculates B factor using 2 TVLs. Important for LEAKAGE\n",
    "    '''\n",
    "    param thickness: thickness of barrier (cm)\n",
    "    param TVL1: first TVL (cm)\n",
    "    param TVLe: equilibrium TVL (cm)\n",
    "    '''\n",
    "    B = 10**-(1+((thickness-TVL1)/TVLe))\n",
    "    return B\n",
    "\n",
    "def H_ps_unshielded(W, d_secondary, d_scatter, a, F): # Calculates unshielded equivalent dose for PATIENT SCATTER\n",
    "    '''\n",
    "    param W: workload in a typical week (Gy/wk)\n",
    "    param d_secondary: distance from isocenter to the point of interest (cm). Includes the 0.3 m\n",
    "    param d_scatter: distance from target to isocenter. Usually 1 m\n",
    "    param a: scatter fraction dependent on angle (deg) and beam energy (MV)\n",
    "    param F: field size in cm^2\n",
    "    '''\n",
    "    H_ps_uns = (W * a * F) / (d_secondary**2 * d_scatter**2 * 400) * 10**3\n",
    "    return H_ps_uns # (mSv/wk)\n",
    "\n",
    "def H_leak_unshielded(W_L, d_leakage): # Calculates UNSHIELDED equivalent dose for LEAKAGE\n",
    "    '''\n",
    "    param W_L: leakage workload (Gy/wk)\n",
    "    param d_leakage: distance from source of leakage to point of protection (cm)\n",
    "    '''\n",
    "    H_leak_uns = ((W_L*10**-3) / d_leakage**2) * 10**3 # 10**-3 is the included barriers from the head and 10**3 converts Sv to mSv\n",
    "    return H_leak_uns # (mSv/wk)\n",
    "\n",
    "def convert_to_meters(foot,inches):\n",
    "    m = (foot * 12 * 2.54 + inches * 2.54) * 10e-3\n",
    "    return m\n",
    "\n",
    "def convert_to_centimeters(foot,inches):\n",
    "    cm = (foot * 12 * 2.54 + inches * 2.54)\n",
    "    return cm\n",
    "\n",
    "def verify_2barrier(P, T, thickness,d,tvl_6mv_ps,tvl_18mv_ps,a_6mv,a_18mv):\n",
    "    '''\n",
    "    param P: design goal (mSv/wk)\n",
    "    param T: occupancy factor (unitless)\n",
    "    param thickness: thickness of barrier (cm)\n",
    "    param d: distance from target to 0.3m beyond distal surface (cm)\n",
    "    param tvl_6mv_ps: TVL for 6 MV (cm)\n",
    "    param tvl_18mv_ps: TVL for 18 MV (cm)\n",
    "    param a_6mv: scatter fraction for 6 MV \n",
    "    param a_18mv: scatter fraction for 18 MV\n",
    "    '''\n",
    "  \n",
    "    H_l_6mv = H_leak_unshielded(1990, d) * B2(thickness, 34, 29)\n",
    "    H_l_18mv = H_leak_unshielded(250, d) * B2(thickness, 36, 34)\n",
    "\n",
    "    H_ps_6mv = H_ps_unshielded(520, d, 1, a_6mv, 1600) * B1(thickness, tvl_6mv_ps)\n",
    "    H_ps_18mv = H_ps_unshielded(250, d, 1, a_18mv, 1600) * B1(thickness, tvl_18mv_ps)\n",
    "\n",
    "    H_total = H_ps_6mv + H_ps_18mv + H_l_6mv + H_l_18mv\n",
    "    \n",
    "    if H_total < P /T:\n",
    "        print(\"PASS\")\n",
    "    else:\n",
    "        print(\"FAIL\")\n",
    "    \n",
    "    print(\"H_leak_6mv: \", H_l_6mv, \"mSv/wk\")\n",
    "    print(\"H_leak_18mv: \", H_l_18mv, \"mSv/wk\")\n",
    "    print(\"H_ps_6mv: \", H_ps_6mv, \"mSv/wk\")\n",
    "    print(\"H_ps_18mv: \", H_ps_18mv, \"mSv/wk\")\n",
    "    print(\"----------------------------------\")\n",
    "    print(\"Total dose: \", H_total, \"mSv/wk\")\n",
    "    print(\"Dose limit: \", P / T, \"mSv/wk\")\n",
    "    print(f\"Thickness used: {thickness} cm = {thickness /2.54} inches\")\n",
    "    print(f\"distance from target to 0.3m beyond distal surface: {d} m\")\n",
    "    print(f\"TVL_ps (6MV) = {tvl_6mv_ps} cm\")\n",
    "    print(f\"TVL_ps (18MV) = {tvl_18mv_ps} cm\")\n",
    "    print(f\"Scatter Fraction (6MV) = {a_6mv}\")\n",
    "    print(f\"Scatter Fraction (18MV) = {a_18mv}\")\n",
    "    print(\"--------------------------------------\")\n",
    "    print(f\"TVL_1 (6MV) = 34 cm\")\n",
    "    print(f\"TVL_e (6MV) = 29 cm\")\n",
    "    print(f\"TVL_1 (18MV) = 36 cm\")\n",
    "    print(f\"TVL_e (18MV) = 34 cm\")\n",
    "# Important note: thickness must be in centimeters.\n",
    "\n",
    "def verify_2barrier_vault2(P, T, thickness,d,tvl_6mv_ps,a_6mv):\n",
    "    '''\n",
    "    param P: design goal (mSv/wk)\n",
    "    param T: occupancy factor (unitless)\n",
    "    param thickness: thickness of barrier (cm)\n",
    "    param d: distance from target to 0.3m beyond distal surface (cm)\n",
    "    param tvl_6mv_ps: TVL for 6 MV (cm)\n",
    "    param a_6mv: scatter fraction for 6 MV \n",
    "    '''\n",
    "  \n",
    "    H_l_6mv = H_leak_unshielded(1435.5, d) * B2(thickness, 34, 29)\n",
    "\n",
    "    H_ps_6mv = H_ps_unshielded(319, d, 1, a_6mv, 400) * B1(thickness, tvl_6mv_ps)\n",
    "\n",
    "    H_total = H_ps_6mv + H_l_6mv \n",
    "    if H_total < P /T:\n",
    "        print(\"PASS\")\n",
    "    else:\n",
    "        print(\"FAIL\")\n",
    "    print(f\"H_ps_6mv: {H_ps_6mv} mSv/wk\")\n",
    "    print(f\"H_l_6mv: {H_l_6mv} mSv/wk\")\n",
    "    print(\"Total dose: \", H_total, \"mSv/wk\")\n",
    "    print(\"Dose limit: \", P / T, \"mSv/wk\")\n",
    "    print(f\"Thickness used: {thickness} cm = {thickness /2.54} inches\")\n",
    "    print(f\"TVL (6MV) = {tvl_6mv_ps} cm\")\n",
    "    print(f\"TVL1 (6MV) = 34 cm\")\n",
    "    print(f\"TVLe (6MV) = 29 cm\")\n",
    "    print(f\"Scatter Fraction (6MV) = {a_6mv}\")\n",
    "    print(f\"Workload PS (6MV) = 1435.5 Gy/wk\")\n",
    "    print(f\"Workload Leak = 319 Gy/wk\")\n",
    "    print(f\"distance = {d} m\")\n",
    "\n",
    "\n",
    "# Important note: thickness must be in centimeters."
   ]
  },
  {
   "cell_type": "markdown",
   "id": "14a5f973",
   "metadata": {},
   "source": [
    "# Verification of the point just outside the door"
   ]
  },
  {
   "cell_type": "code",
   "execution_count": 21,
   "id": "7241b16a",
   "metadata": {},
   "outputs": [
    {
     "name": "stdout",
     "output_type": "stream",
     "text": [
      "PASS\n",
      "H_leak_6mv:  0.013256165492067325 mSv/wk\n",
      "H_leak_18mv:  0.004290627399978247 mSv/wk\n",
      "H_ps_6mv:  0.00151922946091619 mSv/wk\n",
      "H_ps_18mv:  0.002105807636188822 mSv/wk\n",
      "----------------------------------\n",
      "Total dose:  0.021171829989150584 mSv/wk\n",
      "Dose limit:  0.1 mSv/wk\n",
      "Thickness used: 103.45234579999999 cm = 40.72926999999999 inches\n",
      "distance from target to 0.3m beyond distal surface: 7.776126941999999 m\n",
      "TVL_ps (6MV) = 23 cm\n",
      "TVL_ps (18MV) = 27 cm\n",
      "Scatter Fraction (6MV) = 0.00139\n",
      "Scatter Fraction (18MV) = 0.000864\n",
      "--------------------------------------\n",
      "TVL_1 (6MV) = 34 cm\n",
      "TVL_e (6MV) = 29 cm\n",
      "TVL_1 (18MV) = 36 cm\n",
      "TVL_e (18MV) = 34 cm\n"
     ]
    }
   ],
   "source": [
    "# P = 0.1 mSv/wk\n",
    "# T = 1 \n",
    "#  Test;  7.578673946 m\n",
    "# NCRP lists occupancy outside a door as 1/8, but we can be conservtative and use T=1\n",
    "thickness_IMW = convert_to_meters(2,9.5) * 100 # convert to cm\n",
    "test = thickness_IMW / math.cos(math.radians(23.54)) # corrected thickness for 23.54 degrees\n",
    "\n",
    "verify_2barrier(0.1,1, convert_to_centimeters(3,4.72927), convert_to_meters(25,6.14673), 23, 27, 1.39e-3,8.64e-4)"
   ]
  },
  {
   "cell_type": "markdown",
   "id": "4a8330c7",
   "metadata": {},
   "source": [
    "# Vault #1 Wall A, Secondary Barrier"
   ]
  },
  {
   "cell_type": "code",
   "execution_count": 17,
   "id": "b10bf4a1",
   "metadata": {},
   "outputs": [
    {
     "name": "stdout",
     "output_type": "stream",
     "text": [
      "PASS\n",
      "H_leak_6mv:  0.059343853074284685 mSv/wk\n",
      "H_leak_18mv:  0.014972491480161146 mSv/wk\n",
      "H_ps_6mv:  0.054440377768489416 mSv/wk\n",
      "H_ps_18mv:  0.09347558763793075 mSv/wk\n",
      "----------------------------------\n",
      "Total dose:  0.222232309960866 mSv/wk\n",
      "Dose limit:  0.7999999999999999 mSv/wk\n",
      "Thickness used: 82.11835239999999 cm = 32.330059999999996 inches\n",
      "distance from target to 0.3m beyond distal surface: 8.57258702 m\n",
      "TVL_ps (6MV) = 26 cm\n",
      "TVL_ps (18MV) = 32 cm\n",
      "Scatter Fraction (6MV) = 0.00277\n",
      "Scatter Fraction (18MV) = 0.00253\n",
      "--------------------------------------\n",
      "TVL_1 (6MV) = 34 cm\n",
      "TVL_e (6MV) = 29 cm\n",
      "TVL_1 (18MV) = 36 cm\n",
      "TVL_e (18MV) = 34 cm\n"
     ]
    }
   ],
   "source": [
    "# Worst case scenario of 33.37 deg barely grazing the edge of primary barrier\n",
    "# 8.57258 m distance\n",
    "#2'-3\" = 2.25 ft = 68.58 cm\n",
    "verify_2barrier(0.02,(1/40),convert_to_centimeters(2,8.33006),8.57258702,26,32,2.77e-3,2.53e-3)"
   ]
  },
  {
   "cell_type": "markdown",
   "id": "c62992d2",
   "metadata": {},
   "source": [
    "# Vault #1 Wall C, Secondary Barrier"
   ]
  },
  {
   "cell_type": "code",
   "execution_count": 18,
   "id": "5a8bcb58",
   "metadata": {},
   "outputs": [
    {
     "name": "stdout",
     "output_type": "stream",
     "text": [
      "PASS\n",
      "H_leak_6mv:  0.0082007846862334 mSv/wk\n",
      "H_leak_18mv:  0.0027644039514396097 mSv/wk\n",
      "H_ps_6mv:  0.00599341570237061 mSv/wk\n",
      "H_ps_18mv:  0.015537926791345306 mSv/wk\n",
      "----------------------------------\n",
      "Total dose:  0.03249653113138892 mSv/wk\n",
      "Dose limit:  0.2 mSv/wk\n",
      "Thickness used: 106.93158700000001 cm = 42.099050000000005 inches\n",
      "distance from target to 0.3m beyond distal surface: 8.611081076000001 m\n",
      "TVL_ps (6MV) = 26 cm\n",
      "TVL_ps (18MV) = 32 cm\n",
      "Scatter Fraction (6MV) = 0.00277\n",
      "Scatter Fraction (18MV) = 0.00253\n",
      "--------------------------------------\n",
      "TVL_1 (6MV) = 34 cm\n",
      "TVL_e (6MV) = 29 cm\n",
      "TVL_1 (18MV) = 36 cm\n",
      "TVL_e (18MV) = 34 cm\n"
     ]
    }
   ],
   "source": [
    "# Worst case scenario of 33.76 deg barely grazing the edge of primary barrier\n",
    "verify_2barrier(0.1,(1/2),convert_to_meters(3,6.09905) * 100,convert_to_meters(28,3.01894),26,32,2.77e-3,2.53e-3)"
   ]
  },
  {
   "cell_type": "markdown",
   "id": "9874985f",
   "metadata": {},
   "source": [
    "# Vault #1 Wall B, Secondary Barrier"
   ]
  },
  {
   "cell_type": "code",
   "execution_count": 11,
   "id": "a963d70d",
   "metadata": {},
   "outputs": [
    {
     "name": "stdout",
     "output_type": "stream",
     "text": [
      "PASS\n",
      "H_leak_6mv:  0.012394946655382993 mSv/wk\n",
      "H_leak_18mv:  0.0042913633315566435 mSv/wk\n",
      "H_ps_6mv:  8.146137583069772e-06 mSv/wk\n",
      "H_ps_18mv:  8.24566032999638e-06 mSv/wk\n",
      "----------------------------------\n",
      "Total dose:  0.016702701784852704 mSv/wk\n",
      "Dose limit:  0.02 mSv/wk\n",
      "Thickness used: 109.22 cm = 43.0 inches\n",
      "distance from target to 0.3m beyond distal surface: 6.395988224 m\n"
     ]
    }
   ],
   "source": [
    "# Worst case scenario of 90 deg scattering\n",
    "verify_2barrier(0.02,1,109.22,convert_to_meters(20,11.81056),17,19,4.26e-4,1.89e-4)"
   ]
  },
  {
   "cell_type": "markdown",
   "id": "2e2568f5",
   "metadata": {},
   "source": [
    "# Vault #2 Wall B, Secondary Barrier"
   ]
  },
  {
   "cell_type": "code",
   "execution_count": 25,
   "id": "ba8f0e73",
   "metadata": {},
   "outputs": [
    {
     "name": "stdout",
     "output_type": "stream",
     "text": [
      "PASS\n",
      "H_ps_6mv: 3.5099087798072497e-06 mSv/wk\n",
      "H_l_6mv: 0.01638833563364694 mSv/wk\n",
      "Total dose:  0.016391845542426748 mSv/wk\n",
      "Dose limit:  0.02 mSv/wk\n",
      "Thickness used: 101.6 cm = 40.0 inches\n",
      "TVL (6MV) = 17 cm\n",
      "TVL1 (6MV) = 34 cm\n",
      "TVLe (6MV) = 29 cm\n",
      "Scatter Fraction (6MV) = 0.000426\n",
      "Workload PS (6MV) = 1435.5 Gy/wk\n",
      "Workload Leak = 319 Gy/wk\n"
     ]
    }
   ],
   "source": [
    "verify_2barrier_vault2(0.02,1,convert_to_centimeters(3,4),convert_to_meters(20,11.7),17,4.26e-4)"
   ]
  },
  {
   "cell_type": "markdown",
   "id": "47efb189",
   "metadata": {},
   "source": [
    "# Vault # 2 Wall C, Secondary Barrier"
   ]
  },
  {
   "cell_type": "code",
   "execution_count": 8,
   "id": "6a678cfa",
   "metadata": {},
   "outputs": [
    {
     "name": "stdout",
     "output_type": "stream",
     "text": [
      "PASS\n",
      "H_ps_6mv: 0.06784356898177737 mSv/wk\n",
      "H_l_6mv: 0.02389508446374129 mSv/wk\n",
      "Total dose:  0.09173865344551867 mSv/wk\n",
      "Dose limit:  0.2 mSv/wk\n",
      "Thickness used: 88.9 cm = 35.0 inches\n",
      "-------\n",
      "PASS\n",
      "H_ps_6mv: 0.04607023749458077 mSv/wk\n",
      "H_l_6mv: 0.015178875697775172 mSv/wk\n",
      "Total dose:  0.061249113192355945 mSv/wk\n",
      "Dose limit:  0.2 mSv/wk\n",
      "Thickness used: 94.615 cm = 37.25 inches\n",
      "-------\n",
      "PASS\n",
      "H_ps_6mv: 0.03840386231633575 mSv/wk\n",
      "H_l_6mv: 0.012262118670151147 mSv/wk\n",
      "Total dose:  0.0506659809864869 mSv/wk\n",
      "Dose limit:  0.2 mSv/wk\n",
      "Thickness used: 97.3025486 cm = 38.30809 inches\n",
      "Above calculation uses the oblique thickness.\n"
     ]
    }
   ],
   "source": [
    "# Worst case scenario of 23.99 deg scatter\n",
    "# perpendicular thickness used instead of olblique thickness\n",
    "verify_2barrier_vault2(0.1,(1/2), 88.9, convert_to_meters(28,9.11344,), 34, 6.73e-3)\n",
    "print(\"-------\")\n",
    "verify_2barrier_vault2(0.1,(1/2), 94.615, convert_to_meters(28,9.11344,), 34, 6.73e-3)\n",
    "print(\"-------\")\n",
    "verify_2barrier_vault2(0.1,(1/2), convert_to_meters(3,2.30809) * 100, convert_to_meters(28,9.11344,), 34, 6.73e-3)\n",
    "print(\"Above calculation uses the oblique thickness.\")"
   ]
  },
  {
   "cell_type": "markdown",
   "id": "8966c0e3",
   "metadata": {},
   "source": [
    "Our secondary barrier in Vault #1, 2'-9.5\" = 88.9 cm, is not enough to shield this secondary beam. Thus, we will use 94.615 cm = 37 1/4\" in the secondary barrier.\n",
    "\n",
    "This means that we must add 3.75\" of extra concrete into the Vault #2."
   ]
  },
  {
   "cell_type": "markdown",
   "id": "232b4dec",
   "metadata": {},
   "source": [
    "# Vault #1 Wall Z and IMW"
   ]
  },
  {
   "cell_type": "code",
   "execution_count": 19,
   "id": "1d489596",
   "metadata": {},
   "outputs": [
    {
     "name": "stdout",
     "output_type": "stream",
     "text": [
      "PASS\n",
      "H_leak_6mv:  0.07822839004653413 mSv/wk\n",
      "H_leak_18mv:  0.01841920143261779 mSv/wk\n",
      "H_ps_6mv:  0.00032719278829597984 mSv/wk\n",
      "H_ps_18mv:  0.00020683270808119914 mSv/wk\n",
      "----------------------------------\n",
      "Total dose:  0.0971816169755291 mSv/wk\n",
      "Dose limit:  0.1 mSv/wk\n",
      "Thickness used: 76.2 cm = 30.0 inches\n",
      "distance from target to 0.3m beyond distal surface: 9.444046898 m\n",
      "TVL_ps (6MV) = 17 cm\n",
      "TVL_ps (18MV) = 19 cm\n",
      "Scatter Fraction (6MV) = 0.000426\n",
      "Scatter Fraction (18MV) = 0.000189\n",
      "--------------------------------------\n",
      "TVL_1 (6MV) = 34 cm\n",
      "TVL_e (6MV) = 29 cm\n",
      "TVL_1 (18MV) = 36 cm\n",
      "TVL_e (18MV) = 34 cm\n"
     ]
    }
   ],
   "source": [
    "verify_2barrier(0.1,1,convert_to_centimeters(2,6),convert_to_meters(30,11.81287),17,19,4.26e-4,1.89e-4)"
   ]
  },
  {
   "cell_type": "markdown",
   "id": "0a61a5d6",
   "metadata": {},
   "source": [
    "# Vault #2 Wall Z and IMW"
   ]
  },
  {
   "cell_type": "code",
   "execution_count": 26,
   "id": "3377fc31",
   "metadata": {},
   "outputs": [
    {
     "name": "stdout",
     "output_type": "stream",
     "text": [
      "PASS\n",
      "H_ps_6mv: 9.979240854754437e-05 mSv/wk\n",
      "H_l_6mv: 0.08441698385593906 mSv/wk\n",
      "Total dose:  0.0845167762644866 mSv/wk\n",
      "Dose limit:  0.1 mSv/wk\n",
      "Thickness used: 71.12 cm = 28.0 inches\n",
      "TVL (6MV) = 17 cm\n",
      "TVL1 (6MV) = 34 cm\n",
      "TVLe (6MV) = 29 cm\n",
      "Scatter Fraction (6MV) = 0.000426\n",
      "Workload PS (6MV) = 1435.5 Gy/wk\n",
      "Workload Leak = 319 Gy/wk\n"
     ]
    }
   ],
   "source": [
    "verify_2barrier_vault2(0.1,1,convert_to_centimeters(2,4),convert_to_meters(30,11.92294),17,4.26e-4)"
   ]
  },
  {
   "cell_type": "markdown",
   "id": "36cf264a",
   "metadata": {},
   "source": [
    "# Vault #1 Ceiling Secondary Barrier"
   ]
  },
  {
   "cell_type": "code",
   "execution_count": 22,
   "id": "ab09e92b",
   "metadata": {},
   "outputs": [
    {
     "name": "stdout",
     "output_type": "stream",
     "text": [
      "PASS\n",
      "H_leak_6mv:  0.0598744380752093 mSv/wk\n",
      "H_leak_18mv:  0.017739037640129702 mSv/wk\n",
      "H_ps_6mv:  0.005189316549954363 mSv/wk\n",
      "H_ps_18mv:  0.009944699043527409 mSv/wk\n",
      "----------------------------------\n",
      "Total dose:  0.09274749130882078 mSv/wk\n",
      "Dose limit:  0.7999999999999999 mSv/wk\n",
      "Thickness used: 95.8770498 cm = 37.746869999999994 inches\n",
      "distance from target to 0.3m beyond distal surface: 4.942653056 m\n",
      "TVL_ps (6MV) = 22 cm\n",
      "TVL_ps (18MV) = 27 cm\n",
      "Scatter Fraction (6MV) = 0.00139\n",
      "Scatter Fraction (18MV) = 0.000864\n",
      "--------------------------------------\n",
      "TVL_1 (6MV) = 34 cm\n",
      "TVL_e (6MV) = 29 cm\n",
      "TVL_1 (18MV) = 36 cm\n",
      "TVL_e (18MV) = 34 cm\n"
     ]
    }
   ],
   "source": [
    "verify_2barrier(0.02,1/40,convert_to_centimeters(3,1.74687),convert_to_meters(16,2.59264),22,27,1.39e-3,8.64e-4)"
   ]
  },
  {
   "cell_type": "markdown",
   "id": "4622bf4b",
   "metadata": {},
   "source": [
    "# Vault 2 Ceiling Secondary Barrier"
   ]
  },
  {
   "cell_type": "code",
   "execution_count": 39,
   "id": "72758c7b",
   "metadata": {},
   "outputs": [
    {
     "name": "stdout",
     "output_type": "stream",
     "text": [
      "PASS\n",
      "H_ps_6mv: 0.2797267866665436 mSv/wk\n",
      "H_l_6mv: 0.09939918846500378 mSv/wk\n",
      "Total dose:  0.3791259751315474 mSv/wk\n",
      "Dose limit:  0.7999999999999999 mSv/wk\n",
      "Thickness used: 88.1409972 cm = 34.70118 inches\n",
      "TVL (6MV) = 34 cm\n",
      "TVL1 (6MV) = 34 cm\n",
      "TVLe (6MV) = 29 cm\n",
      "Scatter Fraction (6MV) = 0.00673\n",
      "Workload PS (6MV) = 1435.5 Gy/wk\n",
      "Workload Leak = 319 Gy/wk\n",
      "distance = 4.4293980500000005 m\n"
     ]
    }
   ],
   "source": [
    "verify_2barrier_vault2(0.02,1/40,convert_to_centimeters(2,10.70118),convert_to_meters(14,6.38575),34,6.73e-3)"
   ]
  },
  {
   "cell_type": "markdown",
   "id": "8acf79fe",
   "metadata": {},
   "source": [
    "# Vault 2 Wall A, Secondary Barrier"
   ]
  },
  {
   "cell_type": "code",
   "execution_count": 29,
   "id": "1e54fe99",
   "metadata": {},
   "outputs": [
    {
     "name": "stdout",
     "output_type": "stream",
     "text": [
      "PASS\n",
      "H_ps_6mv: 0.3609732950023275 mSv/wk\n",
      "H_l_6mv: 0.16200059571200454 mSv/wk\n",
      "Total dose:  0.522973890714332 mSv/wk\n",
      "Dose limit:  0.7999999999999999 mSv/wk\n",
      "Thickness used: 68.1463458 cm = 26.82927 inches\n",
      "TVL (6MV) = 34 cm\n",
      "TVL1 (6MV) = 34 cm\n",
      "TVLe (6MV) = 29 cm\n",
      "Scatter Fraction (6MV) = 0.00673\n",
      "Workload PS (6MV) = 1435.5 Gy/wk\n",
      "Workload Leak = 319 Gy/wk\n"
     ]
    }
   ],
   "source": [
    "# Worst case scenario of 21.28 deg scatter\n",
    "# Used perpendicular thickness instead of oblique thickness\n",
    "\n",
    "verify_2barrier_vault2(0.02, (1/40), convert_to_centimeters(2,2.82927) , convert_to_meters(25,2.12), 34, 6.73e-3)"
   ]
  },
  {
   "cell_type": "markdown",
   "id": "2dd3b51f",
   "metadata": {},
   "source": [
    "# Verification of the point outside door in Vault 2"
   ]
  },
  {
   "cell_type": "code",
   "execution_count": 10,
   "id": "4e56a30c",
   "metadata": {},
   "outputs": [
    {
     "name": "stdout",
     "output_type": "stream",
     "text": [
      "PASS\n",
      "H_ps_6mv: 0.0008110490853974909 mSv/wk\n",
      "H_l_6mv: 0.025714185328653116 mSv/wk\n",
      "Total dose:  0.026525234414050608 mSv/wk\n",
      "Dose limit:  0.1 mSv/wk\n",
      "Thickness used: 90.9914868 cm = 35.82342 inches\n"
     ]
    }
   ],
   "source": [
    "# P = 0.1 mSv/wk\n",
    "# T = 1 \n",
    "# Angle is 55.33 with the gantry pointing towards Wall C\n",
    "# NCRP lists occupancy outside a door as 1/8, but we can be conservtative and use T=1\n",
    "distance_test = convert_to_meters(25,6.17495) # m\n",
    "thickness_IMW = convert_to_meters(2,11.82342) * 100 # convert to cm\n",
    "test = thickness_IMW / math.cos(math.radians(55.33)) # corrected thickness for 23.54 degrees\n",
    "\n",
    "verify_2barrier_vault2(0.1,1, thickness_IMW, distance_test, 23, 1.39e-3)"
   ]
  },
  {
   "cell_type": "code",
   "execution_count": null,
   "id": "19dc4c36",
   "metadata": {},
   "outputs": [],
   "source": []
  }
 ],
 "metadata": {
  "kernelspec": {
   "display_name": "Python 3",
   "language": "python",
   "name": "python3"
  },
  "language_info": {
   "codemirror_mode": {
    "name": "ipython",
    "version": 3
   },
   "file_extension": ".py",
   "mimetype": "text/x-python",
   "name": "python",
   "nbconvert_exporter": "python",
   "pygments_lexer": "ipython3",
   "version": "3.13.0"
  }
 },
 "nbformat": 4,
 "nbformat_minor": 5
}
