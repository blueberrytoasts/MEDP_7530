{
 "cells": [
  {
   "cell_type": "code",
   "execution_count": 1,
   "id": "f02adcb1",
   "metadata": {},
   "outputs": [
    {
     "name": "stdout",
     "output_type": "stream",
     "text": [
      "R_t_i: 0.925225655037042\n"
     ]
    }
   ],
   "source": [
    "import math\n",
    "\n",
    "t_imaging = 25 # minutes\n",
    "\n",
    "R_t_i = 1.443 * (110/t_imaging) * (1-math.exp(-0.693*t_imaging/110))\n",
    "print(f\"R_t_i: {R_t_i}\")\n",
    "\n",
    "def PET_uptake_dose(patients,activity,distance):\n",
    "\n",
    "    dose = 0.092 * patients * activity * 1 * 0.83/distance**2\n",
    "    return dose # uSv/wk\n",
    "\n",
    "def PET_imaging_dose(patients,activity,distance):\n",
    "\n",
    "    dose = 0.092 * patients * activity * 0.85 * 0.68 * 0.41666666666 * R_t_i/distance**2\n",
    "    return dose # uSv/wk\n",
    "\n",
    "def convert_to_meters(foot,inches):\n",
    "    m = (foot * 12 * 2.54 + inches * 2.54) * 10e-3\n",
    "    return m\n",
    "\n",
    "patients = 30\n",
    "a = 370 # Mbq\n",
    "\n",
    "def find_Ksec(d):\n",
    "    K_sec = (91.76599999999999/d**2) * 1e3 # converts to uGy/wk\n",
    "    return K_sec # uGy/wk"
   ]
  },
  {
   "cell_type": "code",
   "execution_count": 5,
   "id": "93f196ea",
   "metadata": {},
   "outputs": [
    {
     "name": "stdout",
     "output_type": "stream",
     "text": [
      "Distance from uptake 1: 3.40143211 m\n",
      "Distance from uptake 2: 0.644613138 m\n"
     ]
    }
   ],
   "source": [
    "d_from_uptake1 = convert_to_meters(11,1.91465)\n",
    "d_from_uptake2 = convert_to_meters(2,1.37847) \n",
    "print(f\"Distance from uptake 1: {d_from_uptake1} m\")\n",
    "print(f\"Distance from uptake 2: {d_from_uptake2} m\")"
   ]
  },
  {
   "cell_type": "code",
   "execution_count": 10,
   "id": "cd8ddfc6",
   "metadata": {},
   "outputs": [
    {
     "name": "stdout",
     "output_type": "stream",
     "text": [
      "PET uptake shielded dose 1: 0.0009938414294113646 uSv/wk\n",
      "PET uptake shielded dose 2: 6.119442350753901 uSv/wk\n"
     ]
    }
   ],
   "source": [
    "PET_uptake1 = PET_uptake_dose(patients,a,d_from_uptake1)\n",
    "PET_uptake2 = PET_uptake_dose(patients,a,d_from_uptake2)\n",
    "\n",
    "B_uptake_adjacentwall = 4.522e-3 # for 1/4\" of lead (Table IV for 6 mm lead TG 108)\n",
    "B_uptake_wallD = 3e-3 # for 1.5\" of lead (Wall D) \n",
    "\n",
    "print(f\"PET uptake shielded dose 1: {PET_uptake1*B_uptake_adjacentwall*B_uptake_wallD} uSv/wk\")\n",
    "print(f\"PET uptake shielded dose 2: {PET_uptake2*B_uptake_wallD} uSv/wk\")"
   ]
  },
  {
   "cell_type": "code",
   "execution_count": 4,
   "id": "ba4206d2",
   "metadata": {},
   "outputs": [
    {
     "name": "stdout",
     "output_type": "stream",
     "text": [
      "d_from_imaging_to_office: 13.422298784000002 m\n",
      "K_sec: 509.3637068386222 uGy/wk\n"
     ]
    },
    {
     "data": {
      "text/plain": [
       "215.2061661393179"
      ]
     },
     "execution_count": 4,
     "metadata": {},
     "output_type": "execute_result"
    }
   ],
   "source": [
    "d_from_imaging_to_office = convert_to_meters(44,0.43696) # m\n",
    "print(f\"d_from_imaging_to_office: {d_from_imaging_to_office} m\")\n",
    "\n",
    "K_sec = find_Ksec(d_from_imaging_to_office) # uGy/wk\n",
    "print(f\"K_sec: {K_sec} uGy/wk\")\n",
    "\n",
    "# From Figure A.2 in NCRP 147\n",
    "B_wallE = 6.5e-1 # 1/32\" Pb for Wall E in imaging room\n",
    "B_wallB = 6.5e-1 # 1/32\" Pb for Wall B in uptake room\n",
    "\n",
    "K_sec * B_wallB * B_wallE # uGy/wk"
   ]
  }
 ],
 "metadata": {
  "kernelspec": {
   "display_name": "Python 3",
   "language": "python",
   "name": "python3"
  },
  "language_info": {
   "codemirror_mode": {
    "name": "ipython",
    "version": 3
   },
   "file_extension": ".py",
   "mimetype": "text/x-python",
   "name": "python",
   "nbconvert_exporter": "python",
   "pygments_lexer": "ipython3",
   "version": "3.12.10"
  }
 },
 "nbformat": 4,
 "nbformat_minor": 5
}
