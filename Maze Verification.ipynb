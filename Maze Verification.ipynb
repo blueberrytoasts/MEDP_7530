{
 "cells": [
  {
   "cell_type": "code",
   "execution_count": 81,
   "id": "b951f85e",
   "metadata": {},
   "outputs": [],
   "source": [
    "import math\n",
    "from fractions import Fraction"
   ]
  },
  {
   "cell_type": "code",
   "execution_count": 82,
   "id": "8a7268dd",
   "metadata": {},
   "outputs": [],
   "source": [
    "def round_inches(value, smallest_fraction=2):\n",
    "    \"\"\"\n",
    "    Round to nearest 1/smallest_fraction inches.\n",
    "    Example: smallest_fraction=2 -> nearest 1/2\", 4 -> 1/4\", 8 -> 1/8\", etc.\n",
    "    \"\"\"\n",
    "    rounded = round(value * smallest_fraction) / smallest_fraction\n",
    "    return rounded\n",
    "\n",
    "def convert_to_meters(foot,inches):\n",
    "    m = (foot * 12 * 2.54 + inches * 2.54) * 10e-3\n",
    "    return m\n",
    "\n",
    "def B1(thickness, TVL): # Calculates B factor using only 1 TVL. Important for PATIENT SCATTER\n",
    "    '''\n",
    "    param thickness: thickness of barrier (cm)\n",
    "    param TVL: TVL (cm) where it is ALWAYS dependent on energy. Can also depend on the angle too\n",
    "    '''\n",
    "    B = 10**-(thickness/TVL)\n",
    "    return B\n",
    "\n",
    "def B2(thickness, TVL1, TVLe): # Calculates B factor using 2 TVLs. Important for LEAKAGE\n",
    "    '''\n",
    "    param thickness: thickness of barrier (cm)\n",
    "    param TVL1: first TVL (cm)\n",
    "    param TVLe: equilibrium TVL (cm)\n",
    "    '''\n",
    "    B = 10**-(1+((thickness-TVL1)/TVLe))\n",
    "    return B"
   ]
  },
  {
   "cell_type": "code",
   "execution_count": 83,
   "id": "96ab081b",
   "metadata": {},
   "outputs": [],
   "source": [
    "def find_Hs(W, U, alpha0, A0, alphaZ, Az, d_h, d_r, d_z): \n",
    "    \"\"\"\n",
    "    Calculates the primary beam scattered from the primary barrier.\n",
    "\n",
    "    Parameters:\n",
    "    W (float): Workload (Gy/wk) for the worst-case Wall G.\n",
    "    U (float): Usage factor for the worst-case Wall G.\n",
    "    alpha0 (float): Albedo of the primary barrier, dependent on material, energy, \n",
    "                    angle of incidence, and reflection.\n",
    "    A0 (float): Dependent on field size and d_h (m^2).\n",
    "    alphaZ (float): Albedo of Wall Z, dependent on material, energy, \n",
    "                    angle of incidence, and reflection.\n",
    "    Az (float): Area of the inner maze entrance as viewed from the center of the \n",
    "                primary barrier projected onto Wall Z (m^2).\n",
    "    d_h (float): Distance from the source to the proximal surface of the primary barrier (m).\n",
    "    d_r (float): Distance from the center of the primary barrier, past the edge of IMW, \n",
    "                 to point B (m).\n",
    "    d_z (float): Distance from the point B to the plane of the door (m).\n",
    "    \"\"\"\n",
    "\n",
    "    H_s = (W * U * alpha0 * A0 * alphaZ * Az) / (d_h * d_r * d_z)**2\n",
    "    return H_s\n",
    "\n",
    "\n",
    "def find_Hps(W, U, a, F, alpha1, A1, d_sca, d_sec, d_zz): \n",
    "    \"\"\"\n",
    "\n",
    "    Parameters:\n",
    "    \n",
    "    W : workload (Gy/wk) for worst case Wall G\n",
    "    U : usage factor for worst case Wall G\n",
    "    a : scatter fraction dependent on scatter angle and beam energy \n",
    "    F : field size (cm^2)\n",
    "    alpha1 : albedo of A1. Dependent on material, 0.5 MeV, angle of incidence, angle of reflection is 0 deg\n",
    "    A1 : area of the wall at the end of the maze visible from the door (m^2). Width of A1 x maze height\n",
    "    d_sca : distance from source to iso (m)\n",
    "    d_sec : distance from iso to center of A1 (m)\n",
    "    d_zz : distance from center of A1 to plane of door (m)\n",
    "    \"\"\"\n",
    "\n",
    "    H_ps = (W * U * a * (F/400)* alpha1 * A1) / (d_sca * d_sec * d_zz)**2\n",
    "    return H_ps\n",
    "\n",
    "\n",
    "def find_Hls(W, U, C, alpha_ls, A1, d_sec, d_zz):\n",
    "    \"\"\"\n",
    "    \n",
    "    Parameters:\n",
    "\n",
    "    W : workload (Gy/wk) for worst case Wall G\n",
    "    U : usage factor for worst case Wall G\n",
    "    C : IMRT factor (unitless)\n",
    "    alpha_ls : albedo of A1, dependent on material, Co-60\n",
    "               angle of incidence, and reflection is 0 deg\n",
    "    A1 : area of the wall at the end of the maze visible from the door (m^2). Width of A1 x maze height\n",
    "    d_sec : distance from iso to center of A1 (m) if gantry rotates uniformly\n",
    "    d_zz : distance from center of A1 to plane of door (m)\n",
    "    \"\"\"\n",
    "\n",
    "    H_ls = (10**-3 *W * U * C * alpha_ls * A1) / (d_sec * d_zz)**2\n",
    "    return H_ls\n",
    "\n",
    "\n",
    "def find_Hlt(W, C, U, t_slant, TVL1, TVLe, d_L):\n",
    "    \"\"\"\n",
    "\n",
    "    Parameters:\n",
    "\n",
    "    W : workload (Gy/wk) for worst case Wall G\n",
    "    C : IMRT factor (unitless)\n",
    "    U : usage factor for worst case Wall G\n",
    "    t_slant : slant thickness of IMW (cm)\n",
    "    TVL1 : TVL of IMW material (cm). Dependent on incident energy\n",
    "    TVLe : equilibrium TVL of IMW material (cm). Dependent on incident energy\n",
    "    d_L : distance from source to center of plane of door (m)\n",
    "    \"\"\"\n",
    "\n",
    "    H_lt = (10**-3 * W * C * U * 10**-(1 + (t_slant - TVL1) / TVLe)) / d_L**2\n",
    "    return H_lt\n"
   ]
  },
  {
   "cell_type": "code",
   "execution_count": 84,
   "id": "1bb10ff6",
   "metadata": {},
   "outputs": [
    {
     "name": "stdout",
     "output_type": "stream",
     "text": [
      "PASS\n",
      "PASS\n",
      "PASS\n",
      "1.188090344765997\n",
      "maze height = 3.048 m\n",
      "maze width = 2.5654614679999996 m\n",
      "inner maze entrance = 2.4384 m\n",
      "inner maze height = 2.7432 m\n",
      "dz = 7.5973559 m\n",
      "dzz = 10.38859619 m\n"
     ]
    }
   ],
   "source": [
    "P = 1\n",
    "U = 0.25 # use factor \n",
    "T = 1\n",
    "\n",
    "# maze width\n",
    "maze_width = convert_to_meters(8,5.00242)\n",
    "# maze height\n",
    "maze_height = convert_to_meters(10,0)\n",
    "# inner maze height\n",
    "inner_maze_height = convert_to_meters(9,0)\n",
    "inner_maze_entrance = convert_to_meters(8,0)\n",
    "# dz\n",
    "dz = convert_to_meters(24,11.10850)\n",
    "# dzz\n",
    "dzz = convert_to_meters(34,0.99985)\n",
    "\n",
    "test1 = dz / (maze_width * maze_height)**0.5\n",
    "\n",
    "test2 = dzz / (maze_width * maze_height)**0.5\n",
    "\n",
    "if test1 < 6 and test1 > 2:\n",
    "    print('PASS')\n",
    "\n",
    "if test2 < 6 and test2 > 2:\n",
    "    print('PASS')\n",
    "\n",
    "if 1 < maze_height / maze_width and maze_height / maze_width < 2:\n",
    "    print('PASS')\n",
    "    print(maze_height/maze_width)\n",
    "\n",
    "print(f\"maze height = {maze_height} m\")\n",
    "print(f\"maze width = {maze_width} m\")\n",
    "print(f\"inner maze entrance = {inner_maze_entrance} m\")\n",
    "print(f\"inner maze height = {inner_maze_height} m\")\n",
    "print(f\"dz = {dz} m\")\n",
    "print(f\"dzz = {dzz} m\")\n"
   ]
  },
  {
   "cell_type": "code",
   "execution_count": 85,
   "id": "8a3919b6",
   "metadata": {},
   "outputs": [
    {
     "name": "stdout",
     "output_type": "stream",
     "text": [
      "H_s\n",
      "--------------------------\n",
      "dz = 7.5973559 m\n",
      "dzz = 10.38859619 m\n",
      "d_r = 7.652648652000001 m\n",
      "d_h = 6.4114009119999995 m\n",
      "--------------------------\n",
      "alpha_0_6MV = 0.004\n",
      "alpha_0_18MV = 0.0025\n",
      "alpha_z = 0.013\n",
      "--------------------------\n",
      "width_Az = 2.3820823580000003 m\n",
      "area_0 = 6.57696986470311 m^2\n",
      "area_z = 6.534528324465601 m^2\n",
      "---------------------------\n",
      "H_s_6MV = 2.0908959981174626e-06 Sv/wk\n",
      "H_s_18MV = 6.282740378958722e-07 Sv/wk\n",
      "--------------------------\n",
      "H_s_total = 2.7191700360133347e-06 Sv/wk\n"
     ]
    }
   ],
   "source": [
    "W_6MV = 520 # Gy/wk\n",
    "W_18MV = 250 # Gy/wk\n",
    "\n",
    "# H_s\n",
    "# Variables for Vault #1\n",
    "d_r = convert_to_meters(25,1.28538)\n",
    "d_h = convert_to_meters(17,9.04728) + 1\n",
    "area_0 = (0.40 * d_h)**2 # m\n",
    "alpha_z = 13e-3 # Albedo of Wall Z, concrete, 0.5 MeV, 0 deg incidence, 60 deg reflection\n",
    "alpha_0_6MV = 4e-3 # Albedo of Area 0, concrete, 6 MV, 0 deg incidence, 60 deg reflection\n",
    "alpha_0_18MV = 2.5e-3 # Albedo of Area 0, concrete, 18 MV, 0 deg incidence, 60 deg reflection\n",
    "\n",
    "# Find A_z\n",
    "width_Az = convert_to_meters(7,9.78277)\n",
    "area_z = width_Az * inner_maze_height\n",
    "\n",
    "print(\"H_s\")\n",
    "print(\"--------------------------\")\n",
    "print(f\"dz = {dz} m\")\n",
    "print(f\"dzz = {dzz} m\")\n",
    "print(f\"d_r = {d_r} m\")\n",
    "print(f\"d_h = {d_h} m\")\n",
    "print(\"--------------------------\")\n",
    "print(f\"alpha_0_6MV = {alpha_0_6MV}\")\n",
    "print(f\"alpha_0_18MV = {alpha_0_18MV}\")\n",
    "print(f\"alpha_z = {alpha_z}\")\n",
    "print(\"--------------------------\")\n",
    "print(f\"width_Az = {width_Az} m\")\n",
    "print(f\"area_0 = {area_0} m^2\")\n",
    "print(f\"area_z = {area_z} m^2\")\n",
    "\n",
    "H_s_6MV = find_Hs(520, 0.25, alpha_0_6MV, area_0, alpha_z, area_z, d_h, d_r, dz)\n",
    "H_s_18MV = find_Hs(W_18MV, 0.25, alpha_0_18MV, area_0, alpha_z, area_z, d_h, d_r, dz)\n",
    "\n",
    "print(\"---------------------------\")\n",
    "print(f\"H_s_6MV = {H_s_6MV} Sv/wk\")\n",
    "print(f\"H_s_18MV = {H_s_18MV} Sv/wk\")\n",
    "print(\"--------------------------\")\n",
    "\n",
    "H_s_total = H_s_6MV + H_s_18MV\n",
    "print(f\"H_s_total = {H_s_total} Sv/wk\")"
   ]
  },
  {
   "cell_type": "code",
   "execution_count": 86,
   "id": "3140b3ad",
   "metadata": {},
   "outputs": [
    {
     "name": "stdout",
     "output_type": "stream",
     "text": [
      "H_ps\n",
      "--------------------------\n",
      "d_zz = 10.38859619 m\n",
      "d_sec = 9.620299022000001 m\n",
      "d_sca = 1 m\n",
      "--------------------------\n",
      "a_6MV = 0.00139\n",
      "a_18MV = 0.000864\n",
      "alpha_1_ps = 0.022\n",
      "---------------------------\n",
      "width_A1 = 3.3521032780000004 m\n",
      "area_1 = 10.217210791344002 m^2\n",
      "---------------------------\n",
      "H_ps_6MV = 1.6266057571359304e-05 Sv/wk\n",
      "H_ps_18MV = 4.8609137180597805e-06 Sv/wk\n",
      "---------------------------\n",
      "H_ps_tot = 2.1126971289419086e-05 Sv/wk\n"
     ]
    }
   ],
   "source": [
    "W_6MV_wQA = 520 # Gy/wk\n",
    "# Workload for H_ps is the same as H_s\n",
    "\n",
    "# H_ps\n",
    "d_sec = convert_to_meters(31,6.75193)\n",
    "d_sca = 1 # m\n",
    "a_6MV = 1.39e-3\n",
    "a_18MV = 8.64e-4\n",
    "alpha_1_ps = 22e-3 # albedo of A1, concrete, 0.5 MeV, 45 deg incidence, 0 deg reflection\n",
    "width_A1 = convert_to_meters(10,11.97257)\n",
    "area_1 = maze_height * width_A1 # m^2\n",
    "\n",
    "print(\"H_ps\")\n",
    "print(\"--------------------------\")\n",
    "print(f\"d_zz = {dzz} m\")\n",
    "print(f\"d_sec = {d_sec} m\")\n",
    "print(f\"d_sca = {d_sca} m\")\n",
    "print(\"--------------------------\")\n",
    "print(f\"a_6MV = {a_6MV}\")\n",
    "print(f\"a_18MV = {a_18MV}\")\n",
    "print(f\"alpha_1_ps = {alpha_1_ps}\")\n",
    "print(\"---------------------------\")\n",
    "print(f\"width_A1 = {width_A1} m\")\n",
    "print(f\"area_1 = {area_1} m^2\")\n",
    "\n",
    "H_ps_6MV = find_Hps(520, 0.25, 1600, a_6MV, alpha_1_ps, area_1, d_sca, d_sec, dzz)\n",
    "H_ps_18MV = find_Hps(250, 0.25, 1600, a_18MV, alpha_1_ps, area_1, d_sca, d_sec, dzz)\n",
    "\n",
    "print(\"---------------------------\")\n",
    "print(f\"H_ps_6MV = {H_ps_6MV} Sv/wk\")\n",
    "print(f\"H_ps_18MV = {H_ps_18MV} Sv/wk\")\n",
    "print(\"---------------------------\")\n",
    "\n",
    "H_ps_tot = H_ps_6MV + H_ps_18MV\n",
    "print(f\"H_ps_tot = {H_ps_tot} Sv/wk\")\n"
   ]
  },
  {
   "cell_type": "code",
   "execution_count": 98,
   "id": "f9f754a7",
   "metadata": {},
   "outputs": [
    {
     "name": "stdout",
     "output_type": "stream",
     "text": [
      "H_lt\n",
      "--------------------------\n",
      "d_leak = 8.04878502 m\n",
      "t_slant = 92.81711179999999 cm\n",
      "B_IMW_6MW = 0.0009371815518234737\n",
      "B_IMW_18MV = 0.0021325954411002533\n",
      "--------------------------\n",
      "H_Lt_6MV = 7.1970771917140454e-06 Sv/wk\n",
      "H_Lt_18MV = 2.057443123996608e-06 Sv/wk\n",
      "--------------------------\n",
      "H_lt_tot = 9.254520315710654e-06 Sv/wk\n"
     ]
    }
   ],
   "source": [
    "W_L_6MV = 1990 # Gy/wk\n",
    "W_L_18MV = 250 # Gy/wk\n",
    "\n",
    "# H_lt\n",
    "d_leak = convert_to_meters(26,4.88130) # m\n",
    "thickness_IMW = 85.09 # cm\n",
    "t_slant = convert_to_meters(3,0.54217) * 100 # cm\n",
    "\n",
    "# TVL for 6 MV and 18 MV\n",
    "tvl1_6MV = 34 # cm\n",
    "tvle_6MV = 29 # cm\n",
    "tvl1_18MV = 36 # cm\n",
    "tvle_18MV = 34 # cm\n",
    "\n",
    "# B factors for 6 MV and 18 MV\n",
    "B_IMW_6MV = B2(t_slant, tvl1_6MV, tvle_6MV)\n",
    "B_IMW_18MV = B2(t_slant, tvl1_18MV, tvle_18MV)\n",
    "\n",
    "print(\"H_lt\")\n",
    "print(\"--------------------------\")\n",
    "print(f\"d_leak = {d_leak} m\")\n",
    "print(f\"t_slant = {t_slant} cm\")\n",
    "print(f\"B_IMW_6MW = {B_IMW_6MV}\")\n",
    "print(f\"B_IMW_18MV = {B_IMW_18MV}\")\n",
    "print(\"--------------------------\")\n",
    "\n",
    "H_Lt_6MV = find_Hlt(1990, 1, 0.25, t_slant, tvl1_6MV, tvle_6MV, d_leak)\n",
    "H_Lt_18MV = find_Hlt(250, 1, 0.25, t_slant, tvl1_18MV, tvle_18MV, d_leak)\n",
    "H_lt_tot = H_Lt_6MV + H_Lt_18MV\n",
    "\n",
    "print(f\"H_Lt_6MV = {H_Lt_6MV} Sv/wk\")\n",
    "print(f\"H_Lt_18MV = {H_Lt_18MV} Sv/wk\")\n",
    "print(\"--------------------------\")\n",
    "print(f\"H_lt_tot = {H_lt_tot} Sv/wk\")\n"
   ]
  },
  {
   "cell_type": "code",
   "execution_count": 88,
   "id": "81f55edb",
   "metadata": {},
   "outputs": [
    {
     "name": "stdout",
     "output_type": "stream",
     "text": [
      "H_ls\n",
      "alpha_1_ls = 0.009\n",
      "--------------------------\n",
      "H_ls_6MV = 4.580122300633979e-06 Sv/wk\n",
      "H_ls_18MV = 5.753922488233643e-07 Sv/wk\n",
      "--------------------------\n",
      "H_ls_tot = 5.155514549457344e-06 Sv/wk\n"
     ]
    }
   ],
   "source": [
    "# H_ls\n",
    "\n",
    "# Because of uniform gantry rotation, d_sec is the same for H_ls as H_ps\n",
    "# area 1 is the same for H_ls as H_ps\n",
    "\n",
    "alpha_1_ls = 9e-3 # albedo of A1, concrete, Co-60, 45 deg incidence, 0 deg reflection\n",
    "# This is for 6 MV AND 18 MV\n",
    "\n",
    "H_ls_6MV = find_Hls(1990, 0.25, 1, alpha_1_ls, area_1, d_sec, dzz)\n",
    "H_ls_18MV = find_Hls(250, 0.25, 1, alpha_1_ls, area_1, d_sec, dzz)\n",
    "H_ls_tot = H_ls_6MV + H_ls_18MV\n",
    "print(\"H_ls\")\n",
    "print(f\"alpha_1_ls = {alpha_1_ls}\")\n",
    "print(\"--------------------------\")\n",
    "print(f\"H_ls_6MV = {H_ls_6MV} Sv/wk\")\n",
    "print(f\"H_ls_18MV = {H_ls_18MV} Sv/wk\")\n",
    "print(\"--------------------------\")\n",
    "print(f\"H_ls_tot = {H_ls_tot} Sv/wk\")\n",
    "\n"
   ]
  },
  {
   "cell_type": "code",
   "execution_count": 89,
   "id": "3aa41be7",
   "metadata": {},
   "outputs": [
    {
     "name": "stdout",
     "output_type": "stream",
     "text": [
      "H_G_6MV = 2.8565981063236693e-05 Sv/wk\n",
      "H_G_18MV = 7.745058706038103e-06 Sv/wk\n",
      "--------------------------\n",
      "H_total_6MV = 75.41419000694488 uSv/wk\n",
      "H_total_18MV = 20.44695498394059 uSv/wk\n",
      "--------------------------\n"
     ]
    }
   ],
   "source": [
    "H_G_6MV = 0.25 * H_s_6MV + H_ps_6MV + H_Lt_6MV + H_ls_6MV\n",
    "H_G_18MV = 0.40 * H_s_18MV + H_ps_18MV + H_Lt_18MV + H_ls_18MV\n",
    "\n",
    "H_total_6MV = (2.64 * H_G_6MV) * 1e6 # uSv/wk\n",
    "H_total_18MV = (2.64 * H_G_18MV) * 1e6 # uSv/wk\n",
    "\n",
    "print(f\"H_G_6MV = {H_G_6MV} Sv/wk\")\n",
    "print(f\"H_G_18MV = {H_G_18MV} Sv/wk\")\n",
    "print(\"--------------------------\")\n",
    "print(f\"H_total_6MV = {H_total_6MV} uSv/wk\")\n",
    "print(f\"H_total_18MV = {H_total_18MV} uSv/wk\")\n",
    "print(\"--------------------------\")"
   ]
  },
  {
   "cell_type": "markdown",
   "id": "fb1d1644",
   "metadata": {},
   "source": [
    "# Captured Gammas"
   ]
  },
  {
   "cell_type": "code",
   "execution_count": 90,
   "id": "6693995e",
   "metadata": {},
   "outputs": [
    {
     "name": "stdout",
     "output_type": "stream",
     "text": [
      "d1 = 8.769066282 m\n",
      "d2 = 8.953452502000001 m\n",
      "S_r = 458.78026779163326 m^2\n",
      "--------------------------\n",
      "phi_A = 3224787620.952975 neutrons/Gy*m^2\n",
      "H_cg = 12.224847714262998 uSv/wk\n"
     ]
    }
   ],
   "source": [
    "# Use Workload for 18 MV, 250 Gy/wk\n",
    "\n",
    "K = 6.9e-16 # Sv*m^2 \n",
    "TVD = 5.4 # m at 18 MV\n",
    "d0 = 1 # m\n",
    "d1 = convert_to_meters(28,9.23883) # m\n",
    "d2 = convert_to_meters(29,4.49813) # m\n",
    "\n",
    "# Find phi_A\n",
    "vault_with = convert_to_meters(35,5.99883) # m\n",
    "vault_length = convert_to_meters(39,10.09457) # m\n",
    "vault_height = convert_to_meters(14,0) # m. We assume no attenuation from the drop ceiling 20\" below the vault ceiling\n",
    "S_r = 2* (vault_with * vault_height + vault_length * vault_height + vault_length * vault_with) # m^2\n",
    "Q_n = 0.96e12 # neutrons/Gy # For Varian 2100C\n",
    "beta = 1 # for Pb head shielding\n",
    "\n",
    "phi_A = (beta * Q_n) / (4*math.pi * d1**2) + (5.4 * beta * Q_n) / (2*math.pi * S_r) + (1.3*Q_n) / (2*math.pi*S_r)\n",
    "\n",
    "print(f\"d1 = {d1} m\")\n",
    "print(f\"d2 = {d2} m\")\n",
    "print(f\"S_r = {S_r} m^2\")\n",
    "print('--------------------------')\n",
    "print(f\"phi_A = {phi_A} neutrons/Gy*m^2\")\n",
    "\n",
    "H_cg = (250 * K * phi_A * 10**(-d2/TVD)) * 1e6 # uSv/wk\n",
    "print(f\"H_cg = {H_cg} uSv/wk\")\n",
    "\n"
   ]
  },
  {
   "cell_type": "markdown",
   "id": "60910930",
   "metadata": {},
   "source": [
    "# Neutron Contribution 18 MV"
   ]
  },
  {
   "cell_type": "code",
   "execution_count": 91,
   "id": "bccf8957",
   "metadata": {},
   "outputs": [
    {
     "name": "stdout",
     "output_type": "stream",
     "text": [
      "s_0 = 6.68901888 m^2\n",
      "s_1 = 7.819526554463999 m^2\n",
      "--------------------------\n",
      "H_n = 49.99704609131561 uSv/wk\n"
     ]
    }
   ],
   "source": [
    "s_0 = inner_maze_height * inner_maze_entrance\n",
    "s_1 = maze_height * maze_width\n",
    "TVD_n = 2.06 * math.sqrt(s_1)\n",
    "print(f\"s_0 = {s_0} m^2\")\n",
    "print(f\"s_1 = {s_1} m^2\")\n",
    "print('--------------------------')\n",
    "H_n = 2.4e-15 * 250 * phi_A * math.sqrt(s_0/s_1) * (1.64*10**(-d2/1.9) + 10**(-d2/TVD_n)) * 1e6 # uSv/wk\n",
    "print(f\"H_n = {H_n} uSv/wk\")"
   ]
  },
  {
   "cell_type": "markdown",
   "id": "d0e0a861",
   "metadata": {},
   "source": [
    "# Door Thickness Calculations"
   ]
  },
  {
   "cell_type": "code",
   "execution_count": 92,
   "id": "be50f38f",
   "metadata": {},
   "outputs": [
    {
     "name": "stdout",
     "output_type": "stream",
     "text": [
      "--------------------------\n",
      "H_final_uns = 158.08303879646405 uSv/wk\n"
     ]
    }
   ],
   "source": [
    "H_final_uns = H_total_6MV + H_total_18MV + H_cg + H_n\n",
    "print('--------------------------')\n",
    "print(f\"H_final_uns = {H_final_uns} uSv/wk\")"
   ]
  },
  {
   "cell_type": "code",
   "execution_count": 93,
   "id": "38d399ed",
   "metadata": {},
   "outputs": [
    {
     "name": "stdout",
     "output_type": "stream",
     "text": [
      "PASS\n",
      "PASS\n"
     ]
    }
   ],
   "source": [
    "# To determine TVLs...\n",
    "\n",
    "if H_Lt_6MV < 0.5 * H_G_6MV:\n",
    "    print('PASS')\n",
    "else:\n",
    "    print('FAIL')\n",
    "\n",
    "if H_Lt_18MV < 0.5 * H_G_18MV:\n",
    "    print('PASS')\n",
    "else:\n",
    "    print('FAIL')"
   ]
  },
  {
   "cell_type": "markdown",
   "id": "88b38f8f",
   "metadata": {},
   "source": [
    "Since conditions pass for both energies, we will use 0.2 MeV for TVLs"
   ]
  },
  {
   "cell_type": "code",
   "execution_count": 94,
   "id": "b95508cb",
   "metadata": {},
   "outputs": [],
   "source": [
    "tvl_pb_200kev = 0.6 # cm , used for x-rays\n",
    "tvl_steel_200kev = 3 # cm , used for x-rays\n",
    "\n",
    "tvl_bpe_100kev = 4.5 # cm , used for neutrons\n",
    "\n",
    "tvl_steel_3600kev = 9 # cm , used for captured gammas\n",
    "tvl_pb_3600kev = 6.1 # cm , used for captured gammas\n"
   ]
  },
  {
   "cell_type": "markdown",
   "id": "8307d978",
   "metadata": {},
   "source": [
    "We will design a door with a steel shell (two 1/16\" layers of steel)"
   ]
  },
  {
   "cell_type": "code",
   "execution_count": 95,
   "id": "a3cc1b4c",
   "metadata": {},
   "outputs": [
    {
     "name": "stdout",
     "output_type": "stream",
     "text": [
      "H_cg_new = 11.271083832739937 uSv/wk\n",
      "--------------------------\n",
      "H_xray_6MV_new = 59.10438973269096 uSv/wk\n",
      "H_xray_18MV_new = 16.024899241194813 uSv/wk\n",
      "--------------------------\n",
      "H_xray_new = 75.12928897388578 uSv/wk\n",
      "--------------------------\n",
      "H_final_with_steel = 136.39741889794132 uSv/wk\n"
     ]
    }
   ],
   "source": [
    "t_steel = (1/8) * 2.54 # cm\n",
    "B_steel_cg = B1(t_steel, tvl_steel_3600kev)\n",
    "H_cg_new = H_cg * B_steel_cg # uSv/wk\n",
    "print(f\"H_cg_new = {H_cg_new} uSv/wk\")\n",
    "\n",
    "B_steel_xray = B1(t_steel, tvl_steel_200kev)\n",
    "H_xray_6MV_new = H_total_6MV * B_steel_xray\n",
    "H_xray_18MV_new = H_total_18MV * B_steel_xray\n",
    "print('--------------------------')\n",
    "print(f\"H_xray_6MV_new = {H_xray_6MV_new} uSv/wk\")\n",
    "print(f\"H_xray_18MV_new = {H_xray_18MV_new} uSv/wk\")\n",
    "\n",
    "H_xray_new = H_xray_6MV_new + H_xray_18MV_new\n",
    "print('--------------------------')\n",
    "print(f\"H_xray_new = {H_xray_new} uSv/wk\")\n",
    "\n",
    "H_final_with_steel = H_xray_6MV_new + H_xray_18MV_new + H_cg_new + H_n\n",
    "print('--------------------------')\n",
    "print(f\"H_final_with_steel = {H_final_with_steel} uSv/wk\")"
   ]
  },
  {
   "cell_type": "code",
   "execution_count": 96,
   "id": "c9e3c9c9",
   "metadata": {},
   "outputs": [
    {
     "name": "stdout",
     "output_type": "stream",
     "text": [
      "CG and xray contributions with steel: 86.40037280662571 uSv/wk\n",
      "B_x_cg = 0.9999999675160464\n",
      "thickness_lead = 8.605637247179597e-08 cm = 3.388046160306928e-08 in\n",
      "--------------------------\n",
      "B_n = 0.2720086697754375\n",
      "thickness_bpe = 2.5443776403375837 cm = 1.0017234804478676 in\n"
     ]
    }
   ],
   "source": [
    "P_door = 100 # uSv/wk\n",
    "T_door = 1 # We're gonna be conservative\n",
    "\n",
    "print(f\"CG and xray contributions with steel: {H_cg_new + H_xray_6MV_new + H_xray_18MV_new} uSv/wk\")\n",
    "\n",
    "fraction = .8640037\n",
    "\n",
    "# Captured Gammas and Xrays\n",
    "B_x_cg = (fraction * P_door) / ((H_cg_new + H_xray_6MV_new + H_xray_18MV_new) * T_door)\n",
    "print(f\"B_x_cg = {B_x_cg}\")\n",
    "thickness_lead = -math.log10(B_x_cg) * tvl_pb_3600kev # cm #### WHICH TVL DO I USE ???\n",
    "print(f\"thickness_lead = {thickness_lead} cm = {thickness_lead/2.54} in\")\n",
    "      \n",
    "print('--------------------------')\n",
    "\n",
    "# Neutrons\n",
    "B_n = (1-fraction) * P_door / (H_n * T_door)\n",
    "print(f\"B_n = {B_n}\")\n",
    "thickness_bpe = -math.log10(B_n) * tvl_bpe_100kev # cm\n",
    "print(f\"thickness_bpe = {thickness_bpe} cm = {thickness_bpe/2.54} in\")\n"
   ]
  },
  {
   "cell_type": "markdown",
   "id": "04c9769b",
   "metadata": {},
   "source": [
    "Because B_x_cg > 1 and 87.366 < P/T = 100 uSv/wk, we technically don't need any lead shielding.\n",
    "Quick note: A door that takes cares of captured gammas should be able to handle x-rays since the TVL for xrays (6mm) is much less than TVL for cgs (6.1cm).\n",
    "\n",
    "Therefore, we use the TVL for cgs (6.1cm) to determine the thickness of lead."
   ]
  },
  {
   "cell_type": "markdown",
   "id": "0f2a4154",
   "metadata": {},
   "source": [
    "# Quick verification of the thicknesses"
   ]
  },
  {
   "cell_type": "code",
   "execution_count": 97,
   "id": "67e2f62a",
   "metadata": {},
   "outputs": [
    {
     "name": "stdout",
     "output_type": "stream",
     "text": [
      "--------------------------\n",
      "H_final_uns = 158.08303879646405 uSv/wk\n",
      "--------------------------\n",
      "H_neutrons_new = 7.11668395379067 uSv/wk\n",
      "H_cg_testing_new = 11.271083466610571 uSv/wk\n",
      "H_xray_testing_new = 75.12926416217668 uSv/wk\n",
      "--------------------------\n",
      "PASS\n",
      "H_final_shielded = 93.51703158257793 uSv/wk < 100.0 uSv/wk\n"
     ]
    }
   ],
   "source": [
    "# Lead thickness (cm) - might be negative\n",
    "t_pb_indesign = thickness_lead  \n",
    "t_bpe_indesign = 1.5 * 2.54 \n",
    "\n",
    "print('--------------------------')\n",
    "print(f\"H_final_uns = {H_final_uns} uSv/wk\")\n",
    "print('--------------------------')\n",
    "\n",
    "# Neutron calculation\n",
    "B_bpe = B1(t_bpe_indesign, tvl_bpe_100kev)\n",
    "H_neutrons_new = H_n * B_bpe\n",
    "print(f\"H_neutrons_new = {H_neutrons_new} uSv/wk\")\n",
    "\n",
    "# CG calculation\n",
    "B_steel_testing_cg = B1(t_steel, tvl_steel_3600kev)\n",
    "if t_pb_indesign >= 0:\n",
    "    B_pb_testing_cg = B1(t_pb_indesign, tvl_pb_3600kev)\n",
    "    B_pb_cg = B_pb_testing_cg\n",
    "else:\n",
    "    B_pb_cg = 1  # No lead effect if thickness is negative\n",
    "\n",
    "H_cg_testing_new = H_cg * B_steel_testing_cg * B_pb_cg\n",
    "print(f\"H_cg_testing_new = {H_cg_testing_new} uSv/wk\")\n",
    "\n",
    "# X-ray calculation\n",
    "B_steel_testing_xray = B1(t_steel, tvl_steel_200kev)\n",
    "if t_pb_indesign >= 0:\n",
    "    B_pb_testing_xray = B1(t_pb_indesign, tvl_pb_200kev)\n",
    "    B_pb_xray = B_pb_testing_xray\n",
    "else:\n",
    "    B_pb_xray = 1  # No lead effect if thickness is negative\n",
    "\n",
    "H_xray_testing_new = (H_total_6MV + H_total_18MV) * B_steel_testing_xray * B_pb_xray\n",
    "print(f\"H_xray_testing_new = {H_xray_testing_new} uSv/wk\")\n",
    "\n",
    "# Final evaluation\n",
    "\n",
    "H_final_shielded = H_cg_testing_new + H_xray_testing_new + H_neutrons_new\n",
    "print('--------------------------')\n",
    "if H_final_shielded < P_door / T_door:\n",
    "    print('PASS')\n",
    "else:\n",
    "    print('FAIL')\n",
    "print(f\"H_final_shielded = {H_final_shielded} uSv/wk < {P_door / T_door} uSv/wk\")\n"
   ]
  }
 ],
 "metadata": {
  "kernelspec": {
   "display_name": "Python 3",
   "language": "python",
   "name": "python3"
  },
  "language_info": {
   "codemirror_mode": {
    "name": "ipython",
    "version": 3
   },
   "file_extension": ".py",
   "mimetype": "text/x-python",
   "name": "python",
   "nbconvert_exporter": "python",
   "pygments_lexer": "ipython3",
   "version": "3.13.0"
  }
 },
 "nbformat": 4,
 "nbformat_minor": 5
}
