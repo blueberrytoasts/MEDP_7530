{
 "cells": [
  {
   "cell_type": "code",
   "execution_count": 9,
   "id": "a2e3140b",
   "metadata": {},
   "outputs": [
    {
     "name": "stdout",
     "output_type": "stream",
     "text": [
      "R_t_i: 0.925225655037042\n"
     ]
    }
   ],
   "source": [
    "import math\n",
    "\n",
    "t_imaging = 25 # minutes\n",
    "\n",
    "R_t_i = 1.443 * (110/t_imaging) * (1-math.exp(-0.693*t_imaging/110))\n",
    "print(f\"R_t_i: {R_t_i}\")\n",
    "\n",
    "def PET_uptake_dose(patients,activity,distance):\n",
    "\n",
    "    dose = 0.092 * patients * activity * 1 * 0.83/distance**2\n",
    "    return dose\n",
    "\n",
    "def PET_imaging_dose(patients,activity,distance):\n",
    "\n",
    "    dose = 0.092 * patients * activity * 0.85 * 0.68 * 0.41666666666 * R_t_i/distance**2\n",
    "    return dose\n",
    "\n",
    "def convert_to_meters(foot,inches):\n",
    "    m = (foot * 12 * 2.54 + inches * 2.54) * 10e-3\n",
    "    return m\n",
    "\n",
    "patients = 30\n",
    "a = 370 # Mbq\n",
    "\n",
    "def find_Ksec(d):\n",
    "    K_sec = 91.76599999999999/d**2\n",
    "    return K_sec"
   ]
  },
  {
   "cell_type": "code",
   "execution_count": null,
   "id": "772c6836",
   "metadata": {},
   "outputs": [
    {
     "name": "stdout",
     "output_type": "stream",
     "text": [
      "Angle through wall: 65.29 degrees\n",
      "Slanted thickness through wall: 1.8988070089238498 mm\n",
      "Distance from gantry center to Point 3: 8.049004984000002 m\n",
      "------------------------------------------------------------------------\n",
      "Shielded PET imaging dose at Point 3: 2.809834002918699 uSv/wk\n",
      "Shielded Ksec at Point 3: 2.832874953363785 uSv/wk\n",
      "Total contribution from PET/CT at Point 3: 5.642708956282484 uSv/wk\n"
     ]
    }
   ],
   "source": [
    "angle_through_wall = 65.29 # degrees\n",
    "print(f\"Angle through wall: {angle_through_wall} degrees\")\n",
    "\n",
    "perpendicular_thickness_through_PETCTwall = 1/32 # inches\n",
    "slanted_thickness_through_PETCTwall = perpendicular_thickness_through_PETCTwall / math.cos(math.radians(angle_through_wall)) * 25.4 # mm\n",
    "\n",
    "print(f\"Slanted thickness through wall: {slanted_thickness_through_PETCTwall} mm\")\n",
    "B_lead_for_CT = 2e-3 # for 1.894 mm Pb. Taken from Figure A.2 NCRP 147\n",
    "B_lead_for_PET = 8e-1 # for 1.5 mm Pb. Taken from Figure 1 TG 108\n",
    "\n",
    "PET_CT_distance = convert_to_meters(26,4.88996) # m\n",
    "print(f\"Distance from gantry center to Point 3: {PET_CT_distance} m\")\n",
    "print(\"------------------------------------------------------------------------\")\n",
    "\n",
    "dose = PET_imaging_dose(patients,a,PET_CT_distance) * B_lead_for_PET\n",
    "print(f\"Shielded PET imaging dose at Point 3: {dose} uSv/wk\")\n",
    "\n",
    "Ksec_point3 = find_Ksec(PET_CT_distance) *1e3 *B_lead_for_CT # uGy/wk\n",
    "print(f\"Shielded Ksec at Point 3: {Ksec_point3} uSv/wk\")\n",
    "\n",
    "total_contribution_from_PET_CT = dose + Ksec_point3\n",
    "print(f\"Total contribution from PET/CT at Point 3: {total_contribution_from_PET_CT} uSv/wk\")"
   ]
  }
 ],
 "metadata": {
  "kernelspec": {
   "display_name": "Python 3",
   "language": "python",
   "name": "python3"
  },
  "language_info": {
   "codemirror_mode": {
    "name": "ipython",
    "version": 3
   },
   "file_extension": ".py",
   "mimetype": "text/x-python",
   "name": "python",
   "nbconvert_exporter": "python",
   "pygments_lexer": "ipython3",
   "version": "3.12.10"
  }
 },
 "nbformat": 4,
 "nbformat_minor": 5
}
