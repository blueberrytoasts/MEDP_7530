{
 "cells": [
  {
   "cell_type": "code",
   "execution_count": 12,
   "id": "a2e3140b",
   "metadata": {},
   "outputs": [
    {
     "name": "stdout",
     "output_type": "stream",
     "text": [
      "R_t_i: 0.925225655037042\n"
     ]
    }
   ],
   "source": [
    "import math\n",
    "\n",
    "t_imaging = 25 # minutes\n",
    "\n",
    "R_t_i = 1.443 * (110/t_imaging) * (1-math.exp(-0.693*t_imaging/110))\n",
    "print(f\"R_t_i: {R_t_i}\")\n",
    "\n",
    "def PET_uptake_dose(patients,activity,distance):\n",
    "\n",
    "    dose = 0.092 * patients * activity * 1 * 0.83/distance**2\n",
    "    return dose\n",
    "\n",
    "def PET_imaging_dose(patients,activity,distance):\n",
    "\n",
    "    dose = 0.092 * patients * activity * 0.85 * 0.68 * 0.41666666666 * R_t_i/distance**2\n",
    "    return dose\n",
    "\n",
    "def convert_to_meters(foot,inches):\n",
    "    m = (foot * 12 * 2.54 + inches * 2.54) * 10e-3\n",
    "    return m\n",
    "\n",
    "patients = 30\n",
    "a = 370 # Mbq\n",
    "\n",
    "def find_Ksec(d):\n",
    "    K_sec = 91.76599999999999/d**2\n",
    "    return K_sec"
   ]
  },
  {
   "cell_type": "code",
   "execution_count": 14,
   "id": "772c6836",
   "metadata": {},
   "outputs": [
    {
     "name": "stdout",
     "output_type": "stream",
     "text": [
      "8.049004984000002\n",
      "PET imaging dose: 3.5122925036483736 uSv/wk\n",
      "Ksec point3: 1.4164374766818926 mGy/wk\n"
     ]
    }
   ],
   "source": [
    "PET_CT_distance = convert_to_meters(26,4.88996) # m\n",
    "print(PET_CT_distance)\n",
    "\n",
    "dose = PET_imaging_dose(patients,a,PET_CT_distance)\n",
    "print(f\"PET imaging dose: {dose} uSv/wk\")\n",
    "\n",
    "Ksec_point3 = find_Ksec(PET_CT_distance)\n",
    "print(f\"Ksec point3: {Ksec_point3} mGy/wk\")"
   ]
  }
 ],
 "metadata": {
  "kernelspec": {
   "display_name": "Python 3",
   "language": "python",
   "name": "python3"
  },
  "language_info": {
   "codemirror_mode": {
    "name": "ipython",
    "version": 3
   },
   "file_extension": ".py",
   "mimetype": "text/x-python",
   "name": "python",
   "nbconvert_exporter": "python",
   "pygments_lexer": "ipython3",
   "version": "3.12.10"
  }
 },
 "nbformat": 4,
 "nbformat_minor": 5
}
