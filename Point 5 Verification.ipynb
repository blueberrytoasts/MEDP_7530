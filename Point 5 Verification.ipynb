{
 "cells": [
  {
   "cell_type": "code",
   "execution_count": 2,
   "id": "5b489c99",
   "metadata": {},
   "outputs": [
    {
     "name": "stdout",
     "output_type": "stream",
     "text": [
      "R_t_i: 0.925225655037042\n"
     ]
    }
   ],
   "source": [
    "import math\n",
    "\n",
    "t_imaging = 25 # minutes\n",
    "\n",
    "R_t_i = 1.443 * (110/t_imaging) * (1-math.exp(-0.693*t_imaging/110))\n",
    "print(f\"R_t_i: {R_t_i}\")\n",
    "\n",
    "def PET_uptake_dose(patients,activity,distance):\n",
    "\n",
    "    dose = 0.092 * patients * activity * 1 * 0.83/distance**2\n",
    "    return dose # uSv/wk\n",
    "\n",
    "def PET_imaging_dose(patients,activity,distance):\n",
    "\n",
    "    dose = 0.092 * patients * activity * 0.85 * 0.68 * 0.41666666666 * R_t_i/distance**2\n",
    "    return dose # uSv/wk\n",
    "\n",
    "def convert_to_meters(foot,inches):\n",
    "    m = (foot * 12 * 2.54 + inches * 2.54) * 10e-3\n",
    "    return m\n",
    "\n",
    "patients = 30\n",
    "a = 370 # Mbq\n",
    "\n",
    "def find_Ksec(d):\n",
    "    K_sec = (91.76599999999999/d**2) * 1e3 # converts to uGy/wk\n",
    "    return K_sec # uGy/wk"
   ]
  },
  {
   "cell_type": "code",
   "execution_count": 15,
   "id": "ba60ee50",
   "metadata": {},
   "outputs": [
    {
     "name": "stdout",
     "output_type": "stream",
     "text": [
      "d_uptake1_pt5: 2.231278494 m\n",
      "d_uptake2_pt5: 5.051895408 m\n",
      "d_pet_pt5: 7.558535048 m\n",
      "This distance is the same for both PET and CT contribution from the imaging room\n"
     ]
    }
   ],
   "source": [
    "d_uptake1_pt5 = convert_to_meters(7,3.84561)\n",
    "print(f\"d_uptake1_pt5: {d_uptake1_pt5} m\")\n",
    "d_uptake2_pt5 = convert_to_meters(16,6.89352)\n",
    "print(f\"d_uptake2_pt5: {d_uptake2_pt5} m\")\n",
    "\n",
    "\n",
    "d_pet_pt5 = convert_to_meters(24,9.58012)\n",
    "print(f\"d_pet_pt5: {d_pet_pt5} m\")\n",
    "print(\"This distance is the same for both PET and CT contribution from the imaging room\")"
   ]
  },
  {
   "cell_type": "code",
   "execution_count": 26,
   "id": "f271a476",
   "metadata": {},
   "outputs": [
    {
     "name": "stdout",
     "output_type": "stream",
     "text": [
      "B_wallA: 0.0247\n",
      "B_sharedwall: 0.4522\n",
      "---------------------------------------------------------\n",
      "Shielded dose from the close uptake room: 4.205119022669736 uSv/wk\n",
      "Shielded dose from the far uptake room: 0.3709434515527639 uSv/wk\n"
     ]
    }
   ],
   "source": [
    "B_wallA = 2.47e-2 # Transmission factor through Wall A using 1\" Pb\n",
    "B_sharedwall = 4.522e-1 # Transmission factor through the shared wall using 1/4\" Pb\n",
    "print(f\"B_wallA: {B_wallA}\")\n",
    "print(f\"B_sharedwall: {B_sharedwall}\")\n",
    "print('---------------------------------------------------------')\n",
    "PET_uptake1 = PET_uptake_dose(patients,a,d_uptake1_pt5)\n",
    "print(f\"Shielded dose from the close uptake room: {PET_uptake1 * B_wallA} uSv/wk\")\n",
    "\n",
    "PET_uptake2 = PET_uptake_dose(patients,a,d_uptake2_pt5)\n",
    "print(f\"Shielded dose from the far uptake room: {PET_uptake2 * B_sharedwall * B_wallA} uSv/wk\")"
   ]
  },
  {
   "cell_type": "code",
   "execution_count": 24,
   "id": "3f9eaa4c",
   "metadata": {},
   "outputs": [
    {
     "name": "stdout",
     "output_type": "stream",
     "text": [
      "Shielded K_sec at Point 5: 44.97431636725859 uSv/wk\n",
      "Shielded dose due to PET from the imaging room: 3.5846133383049423 uSv/wk\n"
     ]
    }
   ],
   "source": [
    "K_sec = find_Ksec(d_pet_pt5) * 2.8e-2\n",
    "print(f\"Shielded K_sec at Point 5: {K_sec} uSv/wk\") # 2.8e-2 transmission factor for 1/32\" Pb From Figure A.2 NCRP 147\n",
    "\n",
    "PET_imaging = PET_imaging_dose(patients,a,d_pet_pt5) * 0.9 # 0.9 is the transmission factor for the imaging room wall from Figure 1 TG 108\n",
    "print(f\"Shielded dose due to PET from the imaging room: {PET_imaging} uSv/wk\")"
   ]
  },
  {
   "cell_type": "code",
   "execution_count": 25,
   "id": "c27dfa2d",
   "metadata": {},
   "outputs": [
    {
     "name": "stdout",
     "output_type": "stream",
     "text": [
      "Total dose from all room to Point 5: 9.419956670810683 uSv/wk\n"
     ]
    }
   ],
   "source": [
    "total = PET_uptake1 * B_wallA + PET_uptake2 * B_sharedwall*B_wallA + PET_imaging + K_sec * 2.8e-2\n",
    "print(f\"Total dose from all room to Point 5: {total} uSv/wk\")"
   ]
  }
 ],
 "metadata": {
  "kernelspec": {
   "display_name": "Python 3",
   "language": "python",
   "name": "python3"
  },
  "language_info": {
   "codemirror_mode": {
    "name": "ipython",
    "version": 3
   },
   "file_extension": ".py",
   "mimetype": "text/x-python",
   "name": "python",
   "nbconvert_exporter": "python",
   "pygments_lexer": "ipython3",
   "version": "3.12.10"
  }
 },
 "nbformat": 4,
 "nbformat_minor": 5
}
